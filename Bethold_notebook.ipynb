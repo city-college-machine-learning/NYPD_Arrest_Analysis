{
 "cells": [
  {
   "cell_type": "code",
   "execution_count": 2,
   "metadata": {},
   "outputs": [],
   "source": [
    "import numpy as np\n",
    "import matplotlib.pyplot as plt\n",
    "import seaborn as sns\n",
    "import pandas as pd\n",
    "%matplotlib inline"
   ]
  },
  {
   "cell_type": "code",
   "execution_count": 3,
   "metadata": {},
   "outputs": [],
   "source": [
    "data = pd.read_csv('nypd_arrest.csv')"
   ]
  },
  {
   "cell_type": "code",
   "execution_count": 3,
   "metadata": {},
   "outputs": [
    {
     "data": {
      "text/html": [
       "<div>\n",
       "<style scoped>\n",
       "    .dataframe tbody tr th:only-of-type {\n",
       "        vertical-align: middle;\n",
       "    }\n",
       "\n",
       "    .dataframe tbody tr th {\n",
       "        vertical-align: top;\n",
       "    }\n",
       "\n",
       "    .dataframe thead th {\n",
       "        text-align: right;\n",
       "    }\n",
       "</style>\n",
       "<table border=\"1\" class=\"dataframe\">\n",
       "  <thead>\n",
       "    <tr style=\"text-align: right;\">\n",
       "      <th></th>\n",
       "      <th>ARREST_KEY</th>\n",
       "      <th>ARREST_DATE</th>\n",
       "      <th>PD_CD</th>\n",
       "      <th>PD_DESC</th>\n",
       "      <th>KY_CD</th>\n",
       "      <th>OFNS_DESC</th>\n",
       "      <th>LAW_CODE</th>\n",
       "      <th>LAW_CAT_CD</th>\n",
       "      <th>ARREST_BORO</th>\n",
       "      <th>ARREST_PRECINCT</th>\n",
       "      <th>JURISDICTION_CODE</th>\n",
       "      <th>AGE_GROUP</th>\n",
       "      <th>PERP_SEX</th>\n",
       "      <th>PERP_RACE</th>\n",
       "      <th>X_COORD_CD</th>\n",
       "      <th>Y_COORD_CD</th>\n",
       "      <th>Latitude</th>\n",
       "      <th>Longitude</th>\n",
       "    </tr>\n",
       "  </thead>\n",
       "  <tbody>\n",
       "    <tr>\n",
       "      <th>0</th>\n",
       "      <td>206892169</td>\n",
       "      <td>12/31/2019</td>\n",
       "      <td>907.0</td>\n",
       "      <td>IMPAIRED DRIVING,DRUG</td>\n",
       "      <td>347.0</td>\n",
       "      <td>INTOXICATED &amp; IMPAIRED DRIVING</td>\n",
       "      <td>VTL11920U4</td>\n",
       "      <td>M</td>\n",
       "      <td>M</td>\n",
       "      <td>33</td>\n",
       "      <td>0</td>\n",
       "      <td>25-44</td>\n",
       "      <td>M</td>\n",
       "      <td>WHITE</td>\n",
       "      <td>1000916</td>\n",
       "      <td>245710</td>\n",
       "      <td>40.841085</td>\n",
       "      <td>-73.939769</td>\n",
       "    </tr>\n",
       "    <tr>\n",
       "      <th>1</th>\n",
       "      <td>206888084</td>\n",
       "      <td>12/31/2019</td>\n",
       "      <td>739.0</td>\n",
       "      <td>FRAUD,UNCLASSIFIED-FELONY</td>\n",
       "      <td>112.0</td>\n",
       "      <td>THEFT-FRAUD</td>\n",
       "      <td>PL 1908301</td>\n",
       "      <td>F</td>\n",
       "      <td>Q</td>\n",
       "      <td>101</td>\n",
       "      <td>0</td>\n",
       "      <td>25-44</td>\n",
       "      <td>M</td>\n",
       "      <td>BLACK HISPANIC</td>\n",
       "      <td>1055868</td>\n",
       "      <td>156522</td>\n",
       "      <td>40.596012</td>\n",
       "      <td>-73.742116</td>\n",
       "    </tr>\n",
       "    <tr>\n",
       "      <th>2</th>\n",
       "      <td>206890433</td>\n",
       "      <td>12/31/2019</td>\n",
       "      <td>122.0</td>\n",
       "      <td>HOMICIDE, NEGLIGENT, VEHICLE,</td>\n",
       "      <td>102.0</td>\n",
       "      <td>HOMICIDE-NEGLIGENT-VEHICLE</td>\n",
       "      <td>PL 1251201</td>\n",
       "      <td>F</td>\n",
       "      <td>M</td>\n",
       "      <td>23</td>\n",
       "      <td>0</td>\n",
       "      <td>18-24</td>\n",
       "      <td>M</td>\n",
       "      <td>BLACK</td>\n",
       "      <td>997462</td>\n",
       "      <td>227024</td>\n",
       "      <td>40.789803</td>\n",
       "      <td>-73.952289</td>\n",
       "    </tr>\n",
       "    <tr>\n",
       "      <th>3</th>\n",
       "      <td>206890441</td>\n",
       "      <td>12/31/2019</td>\n",
       "      <td>268.0</td>\n",
       "      <td>CRIMINAL MIS 2 &amp; 3</td>\n",
       "      <td>121.0</td>\n",
       "      <td>CRIMINAL MISCHIEF &amp; RELATED OF</td>\n",
       "      <td>PL 1450502</td>\n",
       "      <td>F</td>\n",
       "      <td>S</td>\n",
       "      <td>120</td>\n",
       "      <td>0</td>\n",
       "      <td>18-24</td>\n",
       "      <td>M</td>\n",
       "      <td>BLACK</td>\n",
       "      <td>962822</td>\n",
       "      <td>174282</td>\n",
       "      <td>40.645023</td>\n",
       "      <td>-74.077217</td>\n",
       "    </tr>\n",
       "    <tr>\n",
       "      <th>4</th>\n",
       "      <td>206890973</td>\n",
       "      <td>12/31/2019</td>\n",
       "      <td>101.0</td>\n",
       "      <td>ASSAULT 3</td>\n",
       "      <td>344.0</td>\n",
       "      <td>ASSAULT 3 &amp; RELATED OFFENSES</td>\n",
       "      <td>PL 1200001</td>\n",
       "      <td>M</td>\n",
       "      <td>M</td>\n",
       "      <td>25</td>\n",
       "      <td>97</td>\n",
       "      <td>25-44</td>\n",
       "      <td>M</td>\n",
       "      <td>BLACK</td>\n",
       "      <td>1004138</td>\n",
       "      <td>226326</td>\n",
       "      <td>40.787875</td>\n",
       "      <td>-73.928182</td>\n",
       "    </tr>\n",
       "  </tbody>\n",
       "</table>\n",
       "</div>"
      ],
      "text/plain": [
       "   ARREST_KEY ARREST_DATE  PD_CD                        PD_DESC  KY_CD  \\\n",
       "0   206892169  12/31/2019  907.0          IMPAIRED DRIVING,DRUG  347.0   \n",
       "1   206888084  12/31/2019  739.0      FRAUD,UNCLASSIFIED-FELONY  112.0   \n",
       "2   206890433  12/31/2019  122.0  HOMICIDE, NEGLIGENT, VEHICLE,  102.0   \n",
       "3   206890441  12/31/2019  268.0             CRIMINAL MIS 2 & 3  121.0   \n",
       "4   206890973  12/31/2019  101.0                      ASSAULT 3  344.0   \n",
       "\n",
       "                        OFNS_DESC    LAW_CODE LAW_CAT_CD ARREST_BORO  \\\n",
       "0  INTOXICATED & IMPAIRED DRIVING  VTL11920U4          M           M   \n",
       "1                     THEFT-FRAUD  PL 1908301          F           Q   \n",
       "2      HOMICIDE-NEGLIGENT-VEHICLE  PL 1251201          F           M   \n",
       "3  CRIMINAL MISCHIEF & RELATED OF  PL 1450502          F           S   \n",
       "4    ASSAULT 3 & RELATED OFFENSES  PL 1200001          M           M   \n",
       "\n",
       "   ARREST_PRECINCT  JURISDICTION_CODE AGE_GROUP PERP_SEX       PERP_RACE  \\\n",
       "0               33                  0     25-44        M           WHITE   \n",
       "1              101                  0     25-44        M  BLACK HISPANIC   \n",
       "2               23                  0     18-24        M           BLACK   \n",
       "3              120                  0     18-24        M           BLACK   \n",
       "4               25                 97     25-44        M           BLACK   \n",
       "\n",
       "   X_COORD_CD  Y_COORD_CD   Latitude  Longitude  \n",
       "0     1000916      245710  40.841085 -73.939769  \n",
       "1     1055868      156522  40.596012 -73.742116  \n",
       "2      997462      227024  40.789803 -73.952289  \n",
       "3      962822      174282  40.645023 -74.077217  \n",
       "4     1004138      226326  40.787875 -73.928182  "
      ]
     },
     "execution_count": 3,
     "metadata": {},
     "output_type": "execute_result"
    }
   ],
   "source": [
    "data.head()"
   ]
  },
  {
   "cell_type": "code",
   "execution_count": 4,
   "metadata": {},
   "outputs": [],
   "source": [
    "data.drop(['ARREST_KEY', 'PD_CD', 'KY_CD', 'LAW_CODE', ], axis=1, inplace=True)"
   ]
  },
  {
   "cell_type": "code",
   "execution_count": 5,
   "metadata": {},
   "outputs": [],
   "source": [
    "data.dropna(inplace=True)"
   ]
  },
  {
   "cell_type": "code",
   "execution_count": 59,
   "metadata": {},
   "outputs": [],
   "source": [
    "#data.info()"
   ]
  },
  {
   "cell_type": "code",
   "execution_count": 6,
   "metadata": {},
   "outputs": [],
   "source": [
    "data.rename(columns={'PD_DESC':'offenses', 'LAW_CAT_CD':'offense_type'}, inplace=True)"
   ]
  },
  {
   "cell_type": "code",
   "execution_count": 7,
   "metadata": {},
   "outputs": [],
   "source": [
    "#data.PERP_RACE.value_counts(normalize=True).mul(100).round(2).astype(str) + ' %'\n",
    "#data.ARREST_BORO.value_counts()\n",
    "#data.PD_DESC.value_counts()[:10]\n",
    "#data.ARREST_PRECINCT.value_counts()[:20]"
   ]
  },
  {
   "cell_type": "code",
   "execution_count": 7,
   "metadata": {},
   "outputs": [
    {
     "data": {
      "text/plain": [
       "ASSAULT 3                                    24513\n",
       "LARCENY,PETIT FROM OPEN AREAS,               21568\n",
       "TRAFFIC,UNCLASSIFIED MISDEMEAN               13624\n",
       "ASSAULT 2,1,UNCLASSIFIED                     11498\n",
       "ROBBERY,OPEN AREA UNCLASSIFIED                9235\n",
       "CONTROLLED SUBSTANCE, POSSESSI                9235\n",
       "LARCENY,GRAND FROM OPEN AREAS, UNATTENDED     8628\n",
       "PUBLIC ADMINISTRATION,UNCLASSI                7795\n",
       "INTOXICATED DRIVING,ALCOHOL                   5120\n",
       "FORGERY,ETC.,UNCLASSIFIED-FELO                4708\n",
       "MENACING,UNCLASSIFIED                         4258\n",
       "THEFT OF SERVICES, UNCLASSIFIE                4194\n",
       "CRIMINAL MISCHIEF,UNCLASSIFIED 4              4073\n",
       "CONTROLLED SUBSTANCE,INTENT TO                3949\n",
       "BURGLARY,UNCLASSIFIED,UNKNOWN                 3892\n",
       "AGGRAVATED HARASSMENT 2                       3463\n",
       "CRIMINAL MIS 2 & 3                            3283\n",
       "OBSTR BREATH/CIRCUL                           3217\n",
       "WEAPONS POSSESSION 1 & 2                      3217\n",
       "CONTEMPT,CRIMINAL                             2986\n",
       "Name: offenses, dtype: int64"
      ]
     },
     "execution_count": 7,
     "metadata": {},
     "output_type": "execute_result"
    }
   ],
   "source": [
    "data.offenses.value_counts()[:20]"
   ]
  },
  {
   "cell_type": "code",
   "execution_count": 92,
   "metadata": {},
   "outputs": [],
   "source": [
    "data['date'] = pd.to_datetime(data.ARREST_DATE, format= '%m/%d/%Y', errors='raise')"
   ]
  },
  {
   "cell_type": "code",
   "execution_count": 93,
   "metadata": {},
   "outputs": [],
   "source": [
    "dat = data.set_index('date')"
   ]
  },
  {
   "cell_type": "code",
   "execution_count": 126,
   "metadata": {},
   "outputs": [
    {
     "data": {
      "image/png": "[encoded data removed]",
      "text/plain": [
       "<Figure size 432x288 with 1 Axes>"
      ]
     },
     "metadata": {
      "needs_background": "light"
     },
     "output_type": "display_data"
    }
   ],
   "source": [
    "# Distribution Of Monthly Crimes \n",
    "\n",
    "plt.scatter(dat.index.month.value_counts().index, dat.index.month.value_counts().values)\n",
    "plt.xlabel('Month')\n",
    "plt.ylabel('Number of Crimes')\n",
    "plt.title('Distribution Of Monthly Crimes ')\n",
    "plt.show()"
   ]
  },
  {
   "cell_type": "code",
   "execution_count": 127,
   "metadata": {},
   "outputs": [
    {
     "data": {
      "image/png": "[encoded data removed]",
      "text/plain": [
       "<Figure size 432x288 with 1 Axes>"
      ]
     },
     "metadata": {
      "needs_background": "light"
     },
     "output_type": "display_data"
    }
   ],
   "source": [
    "#Distribution Of Daily Crimes \n",
    "\n",
    "plt.scatter(dat.index.day.value_counts().index, dat.index.day.value_counts().values)\n",
    "plt.xlabel('Day')\n",
    "plt.ylabel('Number of Crimes')\n",
    "plt.title('Distribution Of Daily Crimes ')\n",
    "plt.show()"
   ]
  },
  {
   "cell_type": "code",
   "execution_count": 159,
   "metadata": {},
   "outputs": [
    {
     "data": {
      "image/png": "[encoded data removed]",
      "text/plain": [
       "<Figure size 432x288 with 1 Axes>"
      ]
     },
     "metadata": {
      "needs_background": "light"
     },
     "output_type": "display_data"
    }
   ],
   "source": [
    "#Distribution Of Weekly Crimes \n",
    "\n",
    "plt.scatter(dat.index.week.value_counts().index, dat.index.week.value_counts().values)\n",
    "plt.xlabel('Week')\n",
    "plt.ylabel('Number of Crimes')\n",
    "plt.title('Distribution Of Weekly Crimes ')\n",
    "plt.show()"
   ]
  },
  {
   "cell_type": "code",
   "execution_count": 40,
   "metadata": {},
   "outputs": [
    {
     "data": {
      "text/plain": [
       "365"
      ]
     },
     "execution_count": 40,
     "metadata": {},
     "output_type": "execute_result"
    }
   ],
   "source": [
    "len(dat.index.unique())\n",
    "len(dat.index.value_counts())\n",
    "dat.index.month.value_counts()\n",
    "dat.index.week.value_counts()"
   ]
  },
  {
   "cell_type": "code",
   "execution_count": null,
   "metadata": {},
   "outputs": [],
   "source": []
  },
  {
   "cell_type": "code",
   "execution_count": 122,
   "metadata": {},
   "outputs": [
    {
     "data": {
      "text/plain": [
       "date\n",
       "1     CONTROLLED SUBSTANCE,INTENT TOBURGLARY,UNCLASS...\n",
       "2     ASSAULT 2,1,UNCLASSIFIEDPUBLIC ADMINISTATION,U...\n",
       "3     FORGERY,ETC.,UNCLASSIFIED-FELOCONTROLLED SUBST...\n",
       "4     ROBBERY,OPEN AREA UNCLASSIFIEDCRIMINAL MIS 2 &...\n",
       "5     CRIMINAL CONTEMPT 1ASSAULT 3CRIMINAL CONTEMPT ...\n",
       "6     CONTROLLED SUBSTANCE, POSSESSIROBBERY,OPEN ARE...\n",
       "7     ROBBERY,OPEN AREA UNCLASSIFIEDTRAFFIC,UNCLASSI...\n",
       "8     ASSAULT 2,1,UNCLASSIFIEDCONTROLLED SUBSTANCE, ...\n",
       "9     CRIMINAL MISCHIEF,UNCLASSIFIED 4NY STATE LAWS,...\n",
       "10    ASSAULT 3TRESPASS 3, CRIMINALNY STATE LAWS,UNC...\n",
       "11    LARCENY,PETIT FROM OPEN AREAS,INTOXICATED DRIV...\n",
       "12    IMPAIRED DRIVING,DRUGFRAUD,UNCLASSIFIED-FELONY...\n",
       "Name: offenses, dtype: object"
      ]
     },
     "execution_count": 122,
     "metadata": {},
     "output_type": "execute_result"
    }
   ],
   "source": [
    "#Top Crimes Per Month\n",
    "dat.offenses.groupby(dat.index.month).sum()"
   ]
  },
  {
   "cell_type": "code",
   "execution_count": 123,
   "metadata": {},
   "outputs": [],
   "source": [
    "da = dat.offenses.resample('M').sum()"
   ]
  },
  {
   "cell_type": "code",
   "execution_count": 124,
   "metadata": {},
   "outputs": [
    {
     "data": {
      "text/plain": [
       "date\n",
       "2019-01-31    NY STATE LAWS,UNCLASSIFIED VIOASSAULT 2,1,UNCL...\n",
       "2019-02-28    TRAFFIC,UNCLASSIFIED MISDEMEANASSAULT 3TRESPAS...\n",
       "2019-03-31    LARCENY,PETIT FROM OPEN AREAS,CONTROLLED SUBST...\n",
       "2019-04-30    LARCENY,PETIT FROM OPEN AREAS,ASSAULT 3LARCENY...\n",
       "2019-05-31    CONTROLLED SUBSTANCE, POSSESSIPUBLIC ADMINISTR...\n",
       "2019-06-30    LARCENY,PETIT FROM OPEN AREAS,ROBBERY,OPEN ARE...\n",
       "2019-07-31    PUBLIC ADMINISTRATION,UNCLASSILARCENY,GRAND FR...\n",
       "2019-08-31    LARCENY,PETIT FROM OPEN AREAS,WEAPONS, POSSESS...\n",
       "2019-09-30    TRAFFIC,UNCLASSIFIED MISDEMEANASSAULT 2,1,UNCL...\n",
       "2019-10-31    ASSEMBLY,UNLAWFULBURGLARY,UNCLASSIFIED,UNKNOWN...\n",
       "2019-11-30    GAMBLING, DEVICE, POSSESSIONUNAUTHORIZED USE V...\n",
       "2019-12-31    CRIMINAL MISCHIEF,UNCLASSIFIED 4UNAUTHORIZED U...\n",
       "Freq: M, Name: offenses, dtype: object"
      ]
     },
     "execution_count": 124,
     "metadata": {},
     "output_type": "execute_result"
    }
   ],
   "source": [
    "da"
   ]
  },
  {
   "cell_type": "markdown",
   "metadata": {},
   "source": [
    "## MACHINE LEARNING"
   ]
  },
  {
   "cell_type": "code",
   "execution_count": 13,
   "metadata": {},
   "outputs": [],
   "source": [
    "from sklearn.preprocessing import LabelEncoder"
   ]
  },
  {
   "cell_type": "code",
   "execution_count": 10,
   "metadata": {},
   "outputs": [],
   "source": [
    "from sklearn.preprocessing import OneHotEncoder"
   ]
  },
  {
   "cell_type": "code",
   "execution_count": 63,
   "metadata": {},
   "outputs": [],
   "source": [
    "X = data[['offenses', 'AGE_GROUP', 'PERP_RACE', 'PERP_SEX']].values"
   ]
  },
  {
   "cell_type": "code",
   "execution_count": 50,
   "metadata": {},
   "outputs": [],
   "source": [
    "\n",
    "#X[:,5] = data[['ARREST_PRECINCT']].values\n",
    "#all_data = np.hstack((X_all, data[['ARREST_PRECINCT', 'JURISDICTION_CODE']].values))"
   ]
  },
  {
   "cell_type": "code",
   "execution_count": 51,
   "metadata": {},
   "outputs": [
    {
     "data": {
      "text/plain": [
       "(213089, 25)"
      ]
     },
     "execution_count": 51,
     "metadata": {},
     "output_type": "execute_result"
    }
   ],
   "source": [
    "all_data.shape"
   ]
  },
  {
   "cell_type": "code",
   "execution_count": 64,
   "metadata": {},
   "outputs": [],
   "source": [
    "'''\n",
    "lab_enc = LabelEncoder()\n",
    "X['offenses'] = lab_enc.fit_transform(X[['offenses']])\n",
    "#X['ARREST_BORO'] = lab_enc.fit_transform(X[['ARREST_BORO']])\n",
    "X['AGE_GROUP'] = lab_enc.fit_transform(X[['AGE_GROUP']])\n",
    "X['PERP_RACE'] = lab_enc.fit_transform(X[['PERP_RACE']])\n",
    "X['PERP_SEX'] = lab_enc.fit_transform(X[['PERP_SEX']])\n",
    "'''\n",
    "lab_enc = LabelEncoder()\n",
    "X[:,0] = lab_enc.fit_transform(X[:,0])\n",
    "#X['ARREST_BORO'] = lab_enc.fit_transform(X[['ARREST_BORO']])\n",
    "X[:,1] = lab_enc.fit_transform(X[:,1])\n",
    "X[:,2] = lab_enc.fit_transform(X[:,2])\n",
    "X[:,3] = lab_enc.fit_transform(X[:,3])"
   ]
  },
  {
   "cell_type": "code",
   "execution_count": 49,
   "metadata": {},
   "outputs": [],
   "source": [
    "#enc = OneHotEncoder(handle_unknown='ignore')\n",
    "#X_all = enc.fit_transform(X).toarray()"
   ]
  },
  {
   "cell_type": "code",
   "execution_count": 52,
   "metadata": {},
   "outputs": [],
   "source": [
    "#all_data = np.hstack((X_all, data[['ARREST_PRECINCT', ]].values)) "
   ]
  },
  {
   "cell_type": "code",
   "execution_count": 77,
   "metadata": {},
   "outputs": [
    {
     "data": {
      "text/plain": [
       "array([0, 1, 2, 3])"
      ]
     },
     "execution_count": 77,
     "metadata": {},
     "output_type": "execute_result"
    }
   ],
   "source": [
    "np.unique(lab_enc.fit_transform(data['offense_type'].values))"
   ]
  },
  {
   "cell_type": "code",
   "execution_count": 78,
   "metadata": {},
   "outputs": [
    {
     "data": {
      "text/plain": [
       "array(['F', 'I', 'M', 'V'], dtype=object)"
      ]
     },
     "execution_count": 78,
     "metadata": {},
     "output_type": "execute_result"
    }
   ],
   "source": [
    "np.unique(lab_enc.inverse_transform(y))"
   ]
  },
  {
   "cell_type": "code",
   "execution_count": 71,
   "metadata": {},
   "outputs": [
    {
     "data": {
      "text/plain": [
       "array(['M', 'F', 'V', 'I'], dtype=object)"
      ]
     },
     "execution_count": 71,
     "metadata": {},
     "output_type": "execute_result"
    }
   ],
   "source": [
    "data['offense_type'].unique()"
   ]
  },
  {
   "cell_type": "code",
   "execution_count": 66,
   "metadata": {},
   "outputs": [],
   "source": [
    "from sklearn.model_selection import train_test_split\n",
    "from sklearn.linear_model import LogisticRegression\n",
    "from sklearn.metrics import accuracy_score\n",
    "from sklearn.metrics import classification_report\n"
   ]
  },
  {
   "cell_type": "code",
   "execution_count": 79,
   "metadata": {},
   "outputs": [
    {
     "name": "stderr",
     "output_type": "stream",
     "text": [
      "C:\\Users\\bible_000\\anaconda3\\lib\\site-packages\\sklearn\\linear_model\\_logistic.py:940: ConvergenceWarning: lbfgs failed to converge (status=1):\n",
      "STOP: TOTAL NO. of ITERATIONS REACHED LIMIT.\n",
      "\n",
      "Increase the number of iterations (max_iter) or scale the data as shown in:\n",
      "    https://scikit-learn.org/stable/modules/preprocessing.html\n",
      "Please also refer to the documentation for alternative solver options:\n",
      "    https://scikit-learn.org/stable/modules/linear_model.html#logistic-regression\n",
      "  extra_warning_msg=_LOGISTIC_SOLVER_CONVERGENCE_MSG)\n",
      "C:\\Users\\bible_000\\anaconda3\\lib\\site-packages\\sklearn\\metrics\\_classification.py:1272: UndefinedMetricWarning: Precision and F-score are ill-defined and being set to 0.0 in labels with no predicted samples. Use `zero_division` parameter to control this behavior.\n",
      "  _warn_prf(average, modifier, msg_start, len(result))\n"
     ]
    },
    {
     "name": "stdout",
     "output_type": "stream",
     "text": [
      "              precision    recall  f1-score   support\n",
      "\n",
      "           F       0.17      0.00      0.00     53374\n",
      "           I       0.00      0.00      0.00       273\n",
      "           M       0.59      1.00      0.74     80917\n",
      "           V       0.00      0.00      0.00      1812\n",
      "\n",
      "    accuracy                           0.59    136376\n",
      "   macro avg       0.19      0.25      0.19    136376\n",
      "weighted avg       0.42      0.59      0.44    136376\n",
      "\n",
      "training accuracy:  0.5933082067225904\n"
     ]
    }
   ],
   "source": [
    "X_train_all, X_test, y_train_all, y_test = train_test_split(X, y, test_size=0.2, random_state=42)\n",
    "X_train, X_val, y_train, y_val = train_test_split( X_train_all, y_train_all, test_size=0.2, random_state=42)\n",
    "\n",
    "log = LogisticRegression(solver='lbfgs', multi_class='multinomial')\n",
    "log.fit(X_train, y_train)\n",
    "y_pred = log.predict(X_train)\n",
    "print(classification_report(y_train, y_pred, target_names=['F', 'I', 'M', 'V']))\n",
    "print('training accuracy: ', accuracy_score(y_train, y_pred))"
   ]
  },
  {
   "cell_type": "code",
   "execution_count": 80,
   "metadata": {},
   "outputs": [
    {
     "name": "stdout",
     "output_type": "stream",
     "text": [
      "Logistic Validation accuracy:  0.5940753776213521\n"
     ]
    },
    {
     "name": "stderr",
     "output_type": "stream",
     "text": [
      "C:\\Users\\bible_000\\anaconda3\\lib\\site-packages\\sklearn\\metrics\\_classification.py:1272: UndefinedMetricWarning: Precision and F-score are ill-defined and being set to 0.0 in labels with no predicted samples. Use `zero_division` parameter to control this behavior.\n",
      "  _warn_prf(average, modifier, msg_start, len(result))\n"
     ]
    },
    {
     "name": "stdout",
     "output_type": "stream",
     "text": [
      "              precision    recall  f1-score   support\n",
      "\n",
      "           F       0.00      0.00      0.00     13314\n",
      "           I       0.00      0.00      0.00        69\n",
      "           M       0.59      1.00      0.75     20255\n",
      "           V       0.00      0.00      0.00       457\n",
      "\n",
      "    accuracy                           0.59     34095\n",
      "   macro avg       0.15      0.25      0.19     34095\n",
      "weighted avg       0.35      0.59      0.44     34095\n",
      "\n"
     ]
    }
   ],
   "source": [
    "log_y_pred_val = log.predict(X_val)\n",
    "print('Logistic Validation accuracy: ', accuracy_score(y_val, log_y_pred_val))\n",
    "print(classification_report(y_val, log_y_pred_val, target_names=['F', 'I', 'M', 'V']))"
   ]
  },
  {
   "cell_type": "code",
   "execution_count": null,
   "metadata": {
    "collapsed": true
   },
   "outputs": [],
   "source": []
  },
  {
   "cell_type": "code",
   "execution_count": 81,
   "metadata": {},
   "outputs": [
    {
     "name": "stdout",
     "output_type": "stream",
     "text": [
      "knn training accuracy:  0.9851806769519563\n",
      "              precision    recall  f1-score   support\n",
      "\n",
      "           F       0.99      0.97      0.98     53374\n",
      "           I       0.90      0.38      0.53       273\n",
      "           M       0.98      1.00      0.99     80917\n",
      "           V       0.99      0.99      0.99      1812\n",
      "\n",
      "    accuracy                           0.99    136376\n",
      "   macro avg       0.97      0.83      0.87    136376\n",
      "weighted avg       0.99      0.99      0.98    136376\n",
      "\n"
     ]
    }
   ],
   "source": [
    "from sklearn.neighbors import KNeighborsClassifier\n",
    "\n",
    "knn = KNeighborsClassifier(n_neighbors=5)\n",
    "knn.fit(X_train, y_train)\n",
    "y_pred_knn = knn.predict(X_train)\n",
    "print('knn training accuracy: ', accuracy_score(y_train, y_pred_knn))\n",
    "print(classification_report(y_train, y_pred_knn, target_names=['F', 'I', 'M', 'V']))"
   ]
  },
  {
   "cell_type": "code",
   "execution_count": 82,
   "metadata": {},
   "outputs": [
    {
     "name": "stdout",
     "output_type": "stream",
     "text": [
      "knn validaton accuracy:  0.9834873148555506\n",
      "              precision    recall  f1-score   support\n",
      "\n",
      "           F       0.99      0.97      0.98     13314\n",
      "           I       0.90      0.26      0.40        69\n",
      "           M       0.98      1.00      0.99     20255\n",
      "           V       0.98      0.98      0.98       457\n",
      "\n",
      "    accuracy                           0.98     34095\n",
      "   macro avg       0.96      0.80      0.84     34095\n",
      "weighted avg       0.98      0.98      0.98     34095\n",
      "\n"
     ]
    }
   ],
   "source": [
    "y_pred_knn = knn.predict(X_val)\n",
    "print('knn validaton accuracy: ', accuracy_score(y_val, y_pred_knn))\n",
    "print(classification_report(y_val, y_pred_knn, target_names=['F', 'I', 'M', 'V']))"
   ]
  },
  {
   "cell_type": "code",
   "execution_count": null,
   "metadata": {
    "collapsed": true
   },
   "outputs": [],
   "source": []
  },
  {
   "cell_type": "code",
   "execution_count": 83,
   "metadata": {},
   "outputs": [
    {
     "name": "stderr",
     "output_type": "stream",
     "text": [
      "C:\\Users\\bible_000\\anaconda3\\lib\\site-packages\\sklearn\\svm\\_base.py:947: ConvergenceWarning: Liblinear failed to converge, increase the number of iterations.\n",
      "  \"the number of iterations.\", ConvergenceWarning)\n"
     ]
    },
    {
     "name": "stdout",
     "output_type": "stream",
     "text": [
      "svc training accuracy:  0.5933375373966093\n"
     ]
    },
    {
     "name": "stderr",
     "output_type": "stream",
     "text": [
      "C:\\Users\\bible_000\\anaconda3\\lib\\site-packages\\sklearn\\metrics\\_classification.py:1272: UndefinedMetricWarning: Precision and F-score are ill-defined and being set to 0.0 in labels with no predicted samples. Use `zero_division` parameter to control this behavior.\n",
      "  _warn_prf(average, modifier, msg_start, len(result))\n"
     ]
    },
    {
     "name": "stdout",
     "output_type": "stream",
     "text": [
      "              precision    recall  f1-score   support\n",
      "\n",
      "           F       0.00      0.00      0.00     53374\n",
      "           I       0.00      0.00      0.00       273\n",
      "           M       0.59      1.00      0.74     80917\n",
      "           V       0.00      0.00      0.00      1812\n",
      "\n",
      "    accuracy                           0.59    136376\n",
      "   macro avg       0.15      0.25      0.19    136376\n",
      "weighted avg       0.35      0.59      0.44    136376\n",
      "\n"
     ]
    }
   ],
   "source": [
    "from sklearn.svm import LinearSVC\n",
    "\n",
    "svc = LinearSVC(C=10)\n",
    "svc.fit(X_train, y_train)\n",
    "y_pred_svc = svc.predict(X_train)\n",
    "print('svc training accuracy: ', accuracy_score(y_train, y_pred_svc))\n",
    "print(classification_report(y_train, y_pred_svc, target_names=['F', 'I', 'M', 'V']))"
   ]
  },
  {
   "cell_type": "code",
   "execution_count": 84,
   "metadata": {},
   "outputs": [
    {
     "name": "stdout",
     "output_type": "stream",
     "text": [
      "svc validation accuracy:  0.5940753776213521\n",
      "              precision    recall  f1-score   support\n",
      "\n",
      "           F       0.00      0.00      0.00     13314\n",
      "           I       0.00      0.00      0.00        69\n",
      "           M       0.59      1.00      0.75     20255\n",
      "           V       0.00      0.00      0.00       457\n",
      "\n",
      "    accuracy                           0.59     34095\n",
      "   macro avg       0.15      0.25      0.19     34095\n",
      "weighted avg       0.35      0.59      0.44     34095\n",
      "\n"
     ]
    },
    {
     "name": "stderr",
     "output_type": "stream",
     "text": [
      "C:\\Users\\bible_000\\anaconda3\\lib\\site-packages\\sklearn\\metrics\\_classification.py:1272: UndefinedMetricWarning: Precision and F-score are ill-defined and being set to 0.0 in labels with no predicted samples. Use `zero_division` parameter to control this behavior.\n",
      "  _warn_prf(average, modifier, msg_start, len(result))\n"
     ]
    }
   ],
   "source": [
    "y_pred_svc_val = svc.predict(X_val)\n",
    "print('svc validation accuracy: ', accuracy_score(y_val, y_pred_svc_val))\n",
    "print(classification_report(y_val, y_pred_svc_val, target_names=['F', 'I', 'M', 'V']))"
   ]
  },
  {
   "cell_type": "code",
   "execution_count": null,
   "metadata": {
    "collapsed": true
   },
   "outputs": [],
   "source": []
  },
  {
   "cell_type": "code",
   "execution_count": 86,
   "metadata": {},
   "outputs": [
    {
     "name": "stdout",
     "output_type": "stream",
     "text": [
      "Random forest training accuracy:  0.9879817563207602\n",
      "              precision    recall  f1-score   support\n",
      "\n",
      "           F       1.00      0.97      0.99     53374\n",
      "           I       0.94      0.48      0.63       273\n",
      "           M       0.98      1.00      0.99     80917\n",
      "           V       1.00      1.00      1.00      1812\n",
      "\n",
      "    accuracy                           0.99    136376\n",
      "   macro avg       0.98      0.86      0.90    136376\n",
      "weighted avg       0.99      0.99      0.99    136376\n",
      "\n"
     ]
    }
   ],
   "source": [
    "from sklearn.ensemble import RandomForestClassifier\n",
    "\n",
    "rfc = RandomForestClassifier()\n",
    "rfc.fit(X_train, y_train)\n",
    "y_pred_rfc = rfc.predict(X_train)\n",
    "print('Random forest training accuracy: ', accuracy_score(y_train, y_pred_rfc))\n",
    "print(classification_report(y_train, y_pred_rfc, target_names=['F', 'I', 'M', 'V']))"
   ]
  },
  {
   "cell_type": "code",
   "execution_count": 88,
   "metadata": {},
   "outputs": [
    {
     "name": "stdout",
     "output_type": "stream",
     "text": [
      "Random forest validation accuracy:  0.9833406657867723\n",
      "              precision    recall  f1-score   support\n",
      "\n",
      "           F       0.99      0.97      0.98     13314\n",
      "           I       0.78      0.26      0.39        69\n",
      "           M       0.98      1.00      0.99     20255\n",
      "           V       0.97      0.96      0.96       457\n",
      "\n",
      "    accuracy                           0.98     34095\n",
      "   macro avg       0.93      0.80      0.83     34095\n",
      "weighted avg       0.98      0.98      0.98     34095\n",
      "\n"
     ]
    }
   ],
   "source": [
    "y_pred_rfc_val = rfc.predict(X_val)\n",
    "print('Random forest validation accuracy: ', accuracy_score(y_val, y_pred_rfc_val))\n",
    "print(classification_report(y_val, y_pred_rfc_val, target_names=['F', 'I', 'M', 'V']))"
   ]
  },
  {
   "cell_type": "code",
   "execution_count": 89,
   "metadata": {},
   "outputs": [
    {
     "data": {
      "text/plain": [
       "array([0.97549861, 0.01227386, 0.00716318, 0.00506434])"
      ]
     },
     "execution_count": 89,
     "metadata": {},
     "output_type": "execute_result"
    }
   ],
   "source": [
    "rfc.feature_importances_"
   ]
  },
  {
   "cell_type": "markdown",
   "metadata": {
    "collapsed": true
   },
   "source": [
    "## Examining using Locations data"
   ]
  },
  {
   "cell_type": "code",
   "execution_count": 1,
   "metadata": {},
   "outputs": [],
   "source": [
    "### taking a long time to set up geopandas. I had to unistall Anaconda and install it back\n",
    "### My computer still trying configure geopandas. \n"
   ]
  },
  {
   "cell_type": "code",
   "execution_count": 14,
   "metadata": {},
   "outputs": [],
   "source": [
    "import fiona\n",
    "import rtree\n",
    "import pyproj\n",
    "import shapely"
   ]
  },
  {
   "cell_type": "code",
   "execution_count": 284,
   "metadata": {},
   "outputs": [],
   "source": [
    "import geopandas as gpd"
   ]
  },
  {
   "cell_type": "code",
   "execution_count": 133,
   "metadata": {},
   "outputs": [],
   "source": [
    "data_geo = gpd.GeoDataFrame(dat, geometry=gpd.points_from_xy(dat.Longitude, dat.Latitude))"
   ]
  },
  {
   "cell_type": "code",
   "execution_count": 136,
   "metadata": {},
   "outputs": [
    {
     "data": {
      "text/html": [
       "<div>\n",
       "<style scoped>\n",
       "    .dataframe tbody tr th:only-of-type {\n",
       "        vertical-align: middle;\n",
       "    }\n",
       "\n",
       "    .dataframe tbody tr th {\n",
       "        vertical-align: top;\n",
       "    }\n",
       "\n",
       "    .dataframe thead th {\n",
       "        text-align: right;\n",
       "    }\n",
       "</style>\n",
       "<table border=\"1\" class=\"dataframe\">\n",
       "  <thead>\n",
       "    <tr style=\"text-align: right;\">\n",
       "      <th></th>\n",
       "      <th>ARREST_DATE</th>\n",
       "      <th>offenses</th>\n",
       "      <th>OFNS_DESC</th>\n",
       "      <th>offense_type</th>\n",
       "      <th>ARREST_BORO</th>\n",
       "      <th>ARREST_PRECINCT</th>\n",
       "      <th>JURISDICTION_CODE</th>\n",
       "      <th>AGE_GROUP</th>\n",
       "      <th>PERP_SEX</th>\n",
       "      <th>PERP_RACE</th>\n",
       "      <th>X_COORD_CD</th>\n",
       "      <th>Y_COORD_CD</th>\n",
       "      <th>Latitude</th>\n",
       "      <th>Longitude</th>\n",
       "      <th>geometry</th>\n",
       "    </tr>\n",
       "    <tr>\n",
       "      <th>date</th>\n",
       "      <th></th>\n",
       "      <th></th>\n",
       "      <th></th>\n",
       "      <th></th>\n",
       "      <th></th>\n",
       "      <th></th>\n",
       "      <th></th>\n",
       "      <th></th>\n",
       "      <th></th>\n",
       "      <th></th>\n",
       "      <th></th>\n",
       "      <th></th>\n",
       "      <th></th>\n",
       "      <th></th>\n",
       "      <th></th>\n",
       "    </tr>\n",
       "  </thead>\n",
       "  <tbody>\n",
       "    <tr>\n",
       "      <th>2019-12-31</th>\n",
       "      <td>12/31/2019</td>\n",
       "      <td>IMPAIRED DRIVING,DRUG</td>\n",
       "      <td>INTOXICATED &amp; IMPAIRED DRIVING</td>\n",
       "      <td>M</td>\n",
       "      <td>M</td>\n",
       "      <td>33</td>\n",
       "      <td>0</td>\n",
       "      <td>25-44</td>\n",
       "      <td>M</td>\n",
       "      <td>WHITE</td>\n",
       "      <td>1000916</td>\n",
       "      <td>245710</td>\n",
       "      <td>40.841085</td>\n",
       "      <td>-73.939769</td>\n",
       "      <td>POINT (-73.93977 40.84108)</td>\n",
       "    </tr>\n",
       "    <tr>\n",
       "      <th>2019-12-31</th>\n",
       "      <td>12/31/2019</td>\n",
       "      <td>FRAUD,UNCLASSIFIED-FELONY</td>\n",
       "      <td>THEFT-FRAUD</td>\n",
       "      <td>F</td>\n",
       "      <td>Q</td>\n",
       "      <td>101</td>\n",
       "      <td>0</td>\n",
       "      <td>25-44</td>\n",
       "      <td>M</td>\n",
       "      <td>BLACK HISPANIC</td>\n",
       "      <td>1055868</td>\n",
       "      <td>156522</td>\n",
       "      <td>40.596012</td>\n",
       "      <td>-73.742116</td>\n",
       "      <td>POINT (-73.74212 40.59601)</td>\n",
       "    </tr>\n",
       "    <tr>\n",
       "      <th>2019-12-31</th>\n",
       "      <td>12/31/2019</td>\n",
       "      <td>HOMICIDE, NEGLIGENT, VEHICLE,</td>\n",
       "      <td>HOMICIDE-NEGLIGENT-VEHICLE</td>\n",
       "      <td>F</td>\n",
       "      <td>M</td>\n",
       "      <td>23</td>\n",
       "      <td>0</td>\n",
       "      <td>18-24</td>\n",
       "      <td>M</td>\n",
       "      <td>BLACK</td>\n",
       "      <td>997462</td>\n",
       "      <td>227024</td>\n",
       "      <td>40.789803</td>\n",
       "      <td>-73.952289</td>\n",
       "      <td>POINT (-73.95229 40.78980)</td>\n",
       "    </tr>\n",
       "    <tr>\n",
       "      <th>2019-12-31</th>\n",
       "      <td>12/31/2019</td>\n",
       "      <td>CRIMINAL MIS 2 &amp; 3</td>\n",
       "      <td>CRIMINAL MISCHIEF &amp; RELATED OF</td>\n",
       "      <td>F</td>\n",
       "      <td>S</td>\n",
       "      <td>120</td>\n",
       "      <td>0</td>\n",
       "      <td>18-24</td>\n",
       "      <td>M</td>\n",
       "      <td>BLACK</td>\n",
       "      <td>962822</td>\n",
       "      <td>174282</td>\n",
       "      <td>40.645023</td>\n",
       "      <td>-74.077217</td>\n",
       "      <td>POINT (-74.07722 40.64502)</td>\n",
       "    </tr>\n",
       "    <tr>\n",
       "      <th>2019-12-31</th>\n",
       "      <td>12/31/2019</td>\n",
       "      <td>ASSAULT 3</td>\n",
       "      <td>ASSAULT 3 &amp; RELATED OFFENSES</td>\n",
       "      <td>M</td>\n",
       "      <td>M</td>\n",
       "      <td>25</td>\n",
       "      <td>97</td>\n",
       "      <td>25-44</td>\n",
       "      <td>M</td>\n",
       "      <td>BLACK</td>\n",
       "      <td>1004138</td>\n",
       "      <td>226326</td>\n",
       "      <td>40.787875</td>\n",
       "      <td>-73.928182</td>\n",
       "      <td>POINT (-73.92818 40.78787)</td>\n",
       "    </tr>\n",
       "  </tbody>\n",
       "</table>\n",
       "</div>"
      ],
      "text/plain": [
       "           ARREST_DATE                       offenses  \\\n",
       "date                                                    \n",
       "2019-12-31  12/31/2019          IMPAIRED DRIVING,DRUG   \n",
       "2019-12-31  12/31/2019      FRAUD,UNCLASSIFIED-FELONY   \n",
       "2019-12-31  12/31/2019  HOMICIDE, NEGLIGENT, VEHICLE,   \n",
       "2019-12-31  12/31/2019             CRIMINAL MIS 2 & 3   \n",
       "2019-12-31  12/31/2019                      ASSAULT 3   \n",
       "\n",
       "                                 OFNS_DESC offense_type ARREST_BORO  \\\n",
       "date                                                                  \n",
       "2019-12-31  INTOXICATED & IMPAIRED DRIVING            M           M   \n",
       "2019-12-31                     THEFT-FRAUD            F           Q   \n",
       "2019-12-31      HOMICIDE-NEGLIGENT-VEHICLE            F           M   \n",
       "2019-12-31  CRIMINAL MISCHIEF & RELATED OF            F           S   \n",
       "2019-12-31    ASSAULT 3 & RELATED OFFENSES            M           M   \n",
       "\n",
       "            ARREST_PRECINCT  JURISDICTION_CODE AGE_GROUP PERP_SEX  \\\n",
       "date                                                                \n",
       "2019-12-31               33                  0     25-44        M   \n",
       "2019-12-31              101                  0     25-44        M   \n",
       "2019-12-31               23                  0     18-24        M   \n",
       "2019-12-31              120                  0     18-24        M   \n",
       "2019-12-31               25                 97     25-44        M   \n",
       "\n",
       "                 PERP_RACE  X_COORD_CD  Y_COORD_CD   Latitude  Longitude  \\\n",
       "date                                                                       \n",
       "2019-12-31           WHITE     1000916      245710  40.841085 -73.939769   \n",
       "2019-12-31  BLACK HISPANIC     1055868      156522  40.596012 -73.742116   \n",
       "2019-12-31           BLACK      997462      227024  40.789803 -73.952289   \n",
       "2019-12-31           BLACK      962822      174282  40.645023 -74.077217   \n",
       "2019-12-31           BLACK     1004138      226326  40.787875 -73.928182   \n",
       "\n",
       "                              geometry  \n",
       "date                                    \n",
       "2019-12-31  POINT (-73.93977 40.84108)  \n",
       "2019-12-31  POINT (-73.74212 40.59601)  \n",
       "2019-12-31  POINT (-73.95229 40.78980)  \n",
       "2019-12-31  POINT (-74.07722 40.64502)  \n",
       "2019-12-31  POINT (-73.92818 40.78787)  "
      ]
     },
     "execution_count": 136,
     "metadata": {},
     "output_type": "execute_result"
    }
   ],
   "source": [
    "data_geo.head()"
   ]
  },
  {
   "cell_type": "code",
   "execution_count": 160,
   "metadata": {},
   "outputs": [
    {
     "data": {
      "image/png": "[encoded data removed]",
      "text/plain": [
       "<Figure size 720x720 with 1 Axes>"
      ]
     },
     "metadata": {
      "needs_background": "light"
     },
     "output_type": "display_data"
    }
   ],
   "source": [
    "ny_boroughs = gpd.read_file(gpd.datasets.get_path('nybb')).to_crs(\"EPSG:4326\")\n",
    "ax = ny_boroughs.plot(figsize=(10, 10), alpha=0.5, edgecolor='k')\n",
    "data_geo.plot(ax=ax, alpha=0.01, color='red')\n",
    "plt.xlabel('Longitude')\n",
    "plt.ylabel('Latitude')\n",
    "plt.title('Crimes Distributed Accros NYC')\n",
    "plt.show()"
   ]
  },
  {
   "cell_type": "code",
   "execution_count": 157,
   "metadata": {
    "scrolled": true
   },
   "outputs": [
    {
     "data": {
      "image/png": "[encoded data removed]",
      "text/plain": [
       "<Figure size 432x288 with 1 Axes>"
      ]
     },
     "metadata": {
      "needs_background": "light"
     },
     "output_type": "display_data"
    }
   ],
   "source": [
    "data_geo.plot(alpha=0.1, color='red')\n",
    "\n",
    "plt.show()"
   ]
  },
  {
   "cell_type": "code",
   "execution_count": 359,
   "metadata": {},
   "outputs": [],
   "source": [
    "data_always = gpd.GeoDataFrame(test_1, geometry=gpd.points_from_xy(test_1.longitude, test_1.latitude))"
   ]
  },
  {
   "cell_type": "code",
   "execution_count": 376,
   "metadata": {},
   "outputs": [
    {
     "data": {
      "text/html": [
       "<div>\n",
       "<style scoped>\n",
       "    .dataframe tbody tr th:only-of-type {\n",
       "        vertical-align: middle;\n",
       "    }\n",
       "\n",
       "    .dataframe tbody tr th {\n",
       "        vertical-align: top;\n",
       "    }\n",
       "\n",
       "    .dataframe thead th {\n",
       "        text-align: right;\n",
       "    }\n",
       "</style>\n",
       "<table border=\"1\" class=\"dataframe\">\n",
       "  <thead>\n",
       "    <tr style=\"text-align: right;\">\n",
       "      <th></th>\n",
       "      <th>latitude</th>\n",
       "      <th>longitude</th>\n",
       "      <th>geometry</th>\n",
       "    </tr>\n",
       "  </thead>\n",
       "  <tbody>\n",
       "    <tr>\n",
       "      <th>11</th>\n",
       "      <td>40.855803</td>\n",
       "      <td>-73.843910</td>\n",
       "      <td>POINT (-73.84391 40.85580)</td>\n",
       "    </tr>\n",
       "    <tr>\n",
       "      <th>32</th>\n",
       "      <td>40.853960</td>\n",
       "      <td>-73.900121</td>\n",
       "      <td>POINT (-73.90012 40.85396)</td>\n",
       "    </tr>\n",
       "    <tr>\n",
       "      <th>34</th>\n",
       "      <td>40.887333</td>\n",
       "      <td>-73.847250</td>\n",
       "      <td>POINT (-73.84725 40.88733)</td>\n",
       "    </tr>\n",
       "    <tr>\n",
       "      <th>56</th>\n",
       "      <td>40.869407</td>\n",
       "      <td>-73.879998</td>\n",
       "      <td>POINT (-73.88000 40.86941)</td>\n",
       "    </tr>\n",
       "    <tr>\n",
       "      <th>57</th>\n",
       "      <td>40.873671</td>\n",
       "      <td>-73.908014</td>\n",
       "      <td>POINT (-73.90801 40.87367)</td>\n",
       "    </tr>\n",
       "    <tr>\n",
       "      <th>58</th>\n",
       "      <td>40.853587</td>\n",
       "      <td>-73.900591</td>\n",
       "      <td>POINT (-73.90059 40.85359)</td>\n",
       "    </tr>\n",
       "    <tr>\n",
       "      <th>87</th>\n",
       "      <td>40.883120</td>\n",
       "      <td>-73.903321</td>\n",
       "      <td>POINT (-73.90332 40.88312)</td>\n",
       "    </tr>\n",
       "    <tr>\n",
       "      <th>98</th>\n",
       "      <td>40.868467</td>\n",
       "      <td>-73.821583</td>\n",
       "      <td>POINT (-73.82158 40.86847)</td>\n",
       "    </tr>\n",
       "    <tr>\n",
       "      <th>117</th>\n",
       "      <td>40.851112</td>\n",
       "      <td>-73.935256</td>\n",
       "      <td>POINT (-73.93526 40.85111)</td>\n",
       "    </tr>\n",
       "  </tbody>\n",
       "</table>\n",
       "</div>"
      ],
      "text/plain": [
       "      latitude  longitude                    geometry\n",
       "11   40.855803 -73.843910  POINT (-73.84391 40.85580)\n",
       "32   40.853960 -73.900121  POINT (-73.90012 40.85396)\n",
       "34   40.887333 -73.847250  POINT (-73.84725 40.88733)\n",
       "56   40.869407 -73.879998  POINT (-73.88000 40.86941)\n",
       "57   40.873671 -73.908014  POINT (-73.90801 40.87367)\n",
       "58   40.853587 -73.900591  POINT (-73.90059 40.85359)\n",
       "87   40.883120 -73.903321  POINT (-73.90332 40.88312)\n",
       "98   40.868467 -73.821583  POINT (-73.82158 40.86847)\n",
       "117  40.851112 -73.935256  POINT (-73.93526 40.85111)"
      ]
     },
     "execution_count": 376,
     "metadata": {},
     "output_type": "execute_result"
    }
   ],
   "source": [
    "data_always[data_always.latitude > 40.85] "
   ]
  },
  {
   "cell_type": "code",
   "execution_count": 363,
   "metadata": {},
   "outputs": [
    {
     "data": {
      "image/png": "[encoded data removed]",
      "text/plain": [
       "<Figure size 720x720 with 1 Axes>"
      ]
     },
     "metadata": {
      "needs_background": "light"
     },
     "output_type": "display_data"
    }
   ],
   "source": [
    "ny_boroughs = gpd.read_file(gpd.datasets.get_path('nybb')).to_crs(\"EPSG:4326\")\n",
    "ax = ny_boroughs.plot(figsize=(10, 10), alpha=0.5, edgecolor='k')\n",
    "data_always.plot(ax=ax, alpha=0.7, color='red')\n",
    "plt.xlabel('Longitude')\n",
    "plt.ylabel('Latitude')\n",
    "plt.title('Everyday Crime Occurence')\n",
    "plt.show()"
   ]
  },
  {
   "cell_type": "code",
   "execution_count": null,
   "metadata": {},
   "outputs": [],
   "source": []
  },
  {
   "cell_type": "code",
   "execution_count": null,
   "metadata": {},
   "outputs": [],
   "source": []
  },
  {
   "cell_type": "code",
   "execution_count": null,
   "metadata": {},
   "outputs": [],
   "source": []
  },
  {
   "cell_type": "code",
   "execution_count": 164,
   "metadata": {},
   "outputs": [],
   "source": [
    "from sklearn.linear_model import LinearRegression"
   ]
  },
  {
   "cell_type": "code",
   "execution_count": 165,
   "metadata": {},
   "outputs": [],
   "source": [
    "from sklearn.model_selection import train_test_split"
   ]
  },
  {
   "cell_type": "code",
   "execution_count": 169,
   "metadata": {},
   "outputs": [],
   "source": [
    "data_geo_Manh = data_geo[data_geo['ARREST_BORO']=='M']"
   ]
  },
  {
   "cell_type": "code",
   "execution_count": 171,
   "metadata": {},
   "outputs": [
    {
     "data": {
      "text/html": [
       "<div>\n",
       "<style scoped>\n",
       "    .dataframe tbody tr th:only-of-type {\n",
       "        vertical-align: middle;\n",
       "    }\n",
       "\n",
       "    .dataframe tbody tr th {\n",
       "        vertical-align: top;\n",
       "    }\n",
       "\n",
       "    .dataframe thead th {\n",
       "        text-align: right;\n",
       "    }\n",
       "</style>\n",
       "<table border=\"1\" class=\"dataframe\">\n",
       "  <thead>\n",
       "    <tr style=\"text-align: right;\">\n",
       "      <th></th>\n",
       "      <th>ARREST_DATE</th>\n",
       "      <th>offenses</th>\n",
       "      <th>OFNS_DESC</th>\n",
       "      <th>offense_type</th>\n",
       "      <th>ARREST_BORO</th>\n",
       "      <th>ARREST_PRECINCT</th>\n",
       "      <th>JURISDICTION_CODE</th>\n",
       "      <th>AGE_GROUP</th>\n",
       "      <th>PERP_SEX</th>\n",
       "      <th>PERP_RACE</th>\n",
       "      <th>X_COORD_CD</th>\n",
       "      <th>Y_COORD_CD</th>\n",
       "      <th>Latitude</th>\n",
       "      <th>Longitude</th>\n",
       "      <th>geometry</th>\n",
       "    </tr>\n",
       "    <tr>\n",
       "      <th>date</th>\n",
       "      <th></th>\n",
       "      <th></th>\n",
       "      <th></th>\n",
       "      <th></th>\n",
       "      <th></th>\n",
       "      <th></th>\n",
       "      <th></th>\n",
       "      <th></th>\n",
       "      <th></th>\n",
       "      <th></th>\n",
       "      <th></th>\n",
       "      <th></th>\n",
       "      <th></th>\n",
       "      <th></th>\n",
       "      <th></th>\n",
       "    </tr>\n",
       "  </thead>\n",
       "  <tbody>\n",
       "    <tr>\n",
       "      <th>2019-01-01</th>\n",
       "      <td>01/01/2019</td>\n",
       "      <td>LARCENY,GRAND FROM PERSON,UNCL</td>\n",
       "      <td>GRAND LARCENY</td>\n",
       "      <td>F</td>\n",
       "      <td>M</td>\n",
       "      <td>6</td>\n",
       "      <td>0</td>\n",
       "      <td>25-44</td>\n",
       "      <td>M</td>\n",
       "      <td>BLACK</td>\n",
       "      <td>981783</td>\n",
       "      <td>208203</td>\n",
       "      <td>40.738154</td>\n",
       "      <td>-74.008904</td>\n",
       "      <td>POINT (-74.00890 40.73815)</td>\n",
       "    </tr>\n",
       "    <tr>\n",
       "      <th>2019-01-01</th>\n",
       "      <td>01/01/2019</td>\n",
       "      <td>INTOXICATED DRIVING,ALCOHOL</td>\n",
       "      <td>INTOXICATED/IMPAIRED DRIVING</td>\n",
       "      <td>F</td>\n",
       "      <td>M</td>\n",
       "      <td>7</td>\n",
       "      <td>0</td>\n",
       "      <td>25-44</td>\n",
       "      <td>M</td>\n",
       "      <td>WHITE</td>\n",
       "      <td>987931</td>\n",
       "      <td>200118</td>\n",
       "      <td>40.715962</td>\n",
       "      <td>-73.986723</td>\n",
       "      <td>POINT (-73.98672 40.71596)</td>\n",
       "    </tr>\n",
       "    <tr>\n",
       "      <th>2019-01-01</th>\n",
       "      <td>01/01/2019</td>\n",
       "      <td>PUBLIC HEALTH LAW,UNCLASSIFIED</td>\n",
       "      <td>OTHER STATE LAWS (NON PENAL LA</td>\n",
       "      <td>M</td>\n",
       "      <td>M</td>\n",
       "      <td>14</td>\n",
       "      <td>0</td>\n",
       "      <td>25-44</td>\n",
       "      <td>M</td>\n",
       "      <td>WHITE</td>\n",
       "      <td>986713</td>\n",
       "      <td>212638</td>\n",
       "      <td>40.750327</td>\n",
       "      <td>-73.991112</td>\n",
       "      <td>POINT (-73.99111 40.75033)</td>\n",
       "    </tr>\n",
       "    <tr>\n",
       "      <th>2019-01-01</th>\n",
       "      <td>01/01/2019</td>\n",
       "      <td>BURGLARY,UNCLASSIFIED,UNKNOWN</td>\n",
       "      <td>BURGLARY</td>\n",
       "      <td>F</td>\n",
       "      <td>M</td>\n",
       "      <td>19</td>\n",
       "      <td>0</td>\n",
       "      <td>25-44</td>\n",
       "      <td>M</td>\n",
       "      <td>BLACK</td>\n",
       "      <td>994297</td>\n",
       "      <td>218680</td>\n",
       "      <td>40.766905</td>\n",
       "      <td>-73.963731</td>\n",
       "      <td>POINT (-73.96373 40.76691)</td>\n",
       "    </tr>\n",
       "    <tr>\n",
       "      <th>2019-01-01</th>\n",
       "      <td>01/01/2019</td>\n",
       "      <td>CRIMINAL MISCHIEF,UNCLASSIFIED 4</td>\n",
       "      <td>CRIMINAL MISCHIEF &amp; RELATED OF</td>\n",
       "      <td>M</td>\n",
       "      <td>M</td>\n",
       "      <td>18</td>\n",
       "      <td>0</td>\n",
       "      <td>25-44</td>\n",
       "      <td>M</td>\n",
       "      <td>WHITE</td>\n",
       "      <td>986665</td>\n",
       "      <td>217198</td>\n",
       "      <td>40.762843</td>\n",
       "      <td>-73.991284</td>\n",
       "      <td>POINT (-73.99128 40.76284)</td>\n",
       "    </tr>\n",
       "  </tbody>\n",
       "</table>\n",
       "</div>"
      ],
      "text/plain": [
       "           ARREST_DATE                          offenses  \\\n",
       "date                                                       \n",
       "2019-01-01  01/01/2019    LARCENY,GRAND FROM PERSON,UNCL   \n",
       "2019-01-01  01/01/2019       INTOXICATED DRIVING,ALCOHOL   \n",
       "2019-01-01  01/01/2019    PUBLIC HEALTH LAW,UNCLASSIFIED   \n",
       "2019-01-01  01/01/2019     BURGLARY,UNCLASSIFIED,UNKNOWN   \n",
       "2019-01-01  01/01/2019  CRIMINAL MISCHIEF,UNCLASSIFIED 4   \n",
       "\n",
       "                                 OFNS_DESC offense_type ARREST_BORO  \\\n",
       "date                                                                  \n",
       "2019-01-01                   GRAND LARCENY            F           M   \n",
       "2019-01-01    INTOXICATED/IMPAIRED DRIVING            F           M   \n",
       "2019-01-01  OTHER STATE LAWS (NON PENAL LA            M           M   \n",
       "2019-01-01                        BURGLARY            F           M   \n",
       "2019-01-01  CRIMINAL MISCHIEF & RELATED OF            M           M   \n",
       "\n",
       "            ARREST_PRECINCT  JURISDICTION_CODE AGE_GROUP PERP_SEX PERP_RACE  \\\n",
       "date                                                                          \n",
       "2019-01-01                6                  0     25-44        M     BLACK   \n",
       "2019-01-01                7                  0     25-44        M     WHITE   \n",
       "2019-01-01               14                  0     25-44        M     WHITE   \n",
       "2019-01-01               19                  0     25-44        M     BLACK   \n",
       "2019-01-01               18                  0     25-44        M     WHITE   \n",
       "\n",
       "            X_COORD_CD  Y_COORD_CD   Latitude  Longitude  \\\n",
       "date                                                       \n",
       "2019-01-01      981783      208203  40.738154 -74.008904   \n",
       "2019-01-01      987931      200118  40.715962 -73.986723   \n",
       "2019-01-01      986713      212638  40.750327 -73.991112   \n",
       "2019-01-01      994297      218680  40.766905 -73.963731   \n",
       "2019-01-01      986665      217198  40.762843 -73.991284   \n",
       "\n",
       "                              geometry  \n",
       "date                                    \n",
       "2019-01-01  POINT (-74.00890 40.73815)  \n",
       "2019-01-01  POINT (-73.98672 40.71596)  \n",
       "2019-01-01  POINT (-73.99111 40.75033)  \n",
       "2019-01-01  POINT (-73.96373 40.76691)  \n",
       "2019-01-01  POINT (-73.99128 40.76284)  "
      ]
     },
     "execution_count": 171,
     "metadata": {},
     "output_type": "execute_result"
    }
   ],
   "source": [
    "data_geo_Manh.tail()"
   ]
  },
  {
   "cell_type": "code",
   "execution_count": 208,
   "metadata": {},
   "outputs": [],
   "source": [
    "X = data_geo_Manh.index.values\n",
    "y = data_geo_Manh.Longitude.values"
   ]
  },
  {
   "cell_type": "code",
   "execution_count": 209,
   "metadata": {},
   "outputs": [],
   "source": [
    "lab_enc = LabelEncoder()\n",
    "X = lab_enc.fit_transform(X)"
   ]
  },
  {
   "cell_type": "code",
   "execution_count": 210,
   "metadata": {},
   "outputs": [],
   "source": [
    "X_train_all, X_test, y_train_all, y_test = train_test_split( X, y, test_size=0.2, random_state=42)\n",
    "X_train, X_val, y_train, y_val = train_test_split( X_train_all, y_train_all, test_size=0.2, random_state=42)\n",
    "\n",
    "linear_model = LinearRegression()"
   ]
  },
  {
   "cell_type": "code",
   "execution_count": null,
   "metadata": {},
   "outputs": [],
   "source": []
  },
  {
   "cell_type": "code",
   "execution_count": 217,
   "metadata": {},
   "outputs": [
    {
     "data": {
      "text/plain": [
       "LinearRegression(copy_X=True, fit_intercept=True, n_jobs=None, normalize=False)"
      ]
     },
     "execution_count": 217,
     "metadata": {},
     "output_type": "execute_result"
    }
   ],
   "source": [
    "linear_model.fit(X_train.reshape(-1,1), y_train)\n",
    "#y_pred = log.predict(X_train)\n",
    "#print('training accuracy: ', accuracy_score(y_train, y_pred))"
   ]
  },
  {
   "cell_type": "code",
   "execution_count": 218,
   "metadata": {},
   "outputs": [],
   "source": [
    "y_pred = linear_model.predict(X_val.reshape(-1,1))\n",
    "#print('training accuracy: ', accuracy_score(y_train, y_pred))"
   ]
  },
  {
   "cell_type": "code",
   "execution_count": 219,
   "metadata": {},
   "outputs": [
    {
     "data": {
      "text/plain": [
       "array([-5.49747e-06])"
      ]
     },
     "execution_count": 219,
     "metadata": {},
     "output_type": "execute_result"
    }
   ],
   "source": [
    "linear_model.coef_"
   ]
  },
  {
   "cell_type": "code",
   "execution_count": 220,
   "metadata": {},
   "outputs": [
    {
     "data": {
      "text/plain": [
       "0.0006731844336789194"
      ]
     },
     "execution_count": 220,
     "metadata": {},
     "output_type": "execute_result"
    }
   ],
   "source": [
    "from sklearn.metrics import mean_squared_error, r2_score\n",
    "r2_score(y_val, y_pred)"
   ]
  },
  {
   "cell_type": "code",
   "execution_count": 221,
   "metadata": {},
   "outputs": [
    {
     "data": {
      "text/plain": [
       "0.00062396745413089"
      ]
     },
     "execution_count": 221,
     "metadata": {},
     "output_type": "execute_result"
    }
   ],
   "source": [
    "mean_squared_error(y_val, y_pred)"
   ]
  },
  {
   "cell_type": "code",
   "execution_count": null,
   "metadata": {},
   "outputs": [],
   "source": []
  },
  {
   "cell_type": "code",
   "execution_count": 95,
   "metadata": {},
   "outputs": [
    {
     "data": {
      "text/html": [
       "<div>\n",
       "<style scoped>\n",
       "    .dataframe tbody tr th:only-of-type {\n",
       "        vertical-align: middle;\n",
       "    }\n",
       "\n",
       "    .dataframe tbody tr th {\n",
       "        vertical-align: top;\n",
       "    }\n",
       "\n",
       "    .dataframe thead th {\n",
       "        text-align: right;\n",
       "    }\n",
       "</style>\n",
       "<table border=\"1\" class=\"dataframe\">\n",
       "  <thead>\n",
       "    <tr style=\"text-align: right;\">\n",
       "      <th></th>\n",
       "      <th>ARREST_DATE</th>\n",
       "      <th>offenses</th>\n",
       "      <th>OFNS_DESC</th>\n",
       "      <th>offense_type</th>\n",
       "      <th>ARREST_BORO</th>\n",
       "      <th>ARREST_PRECINCT</th>\n",
       "      <th>JURISDICTION_CODE</th>\n",
       "      <th>AGE_GROUP</th>\n",
       "      <th>PERP_SEX</th>\n",
       "      <th>PERP_RACE</th>\n",
       "      <th>X_COORD_CD</th>\n",
       "      <th>Y_COORD_CD</th>\n",
       "      <th>Latitude</th>\n",
       "      <th>Longitude</th>\n",
       "    </tr>\n",
       "    <tr>\n",
       "      <th>date</th>\n",
       "      <th></th>\n",
       "      <th></th>\n",
       "      <th></th>\n",
       "      <th></th>\n",
       "      <th></th>\n",
       "      <th></th>\n",
       "      <th></th>\n",
       "      <th></th>\n",
       "      <th></th>\n",
       "      <th></th>\n",
       "      <th></th>\n",
       "      <th></th>\n",
       "      <th></th>\n",
       "      <th></th>\n",
       "    </tr>\n",
       "  </thead>\n",
       "  <tbody>\n",
       "    <tr>\n",
       "      <th>2019-12-31</th>\n",
       "      <td>12/31/2019</td>\n",
       "      <td>IMPAIRED DRIVING,DRUG</td>\n",
       "      <td>INTOXICATED &amp; IMPAIRED DRIVING</td>\n",
       "      <td>M</td>\n",
       "      <td>M</td>\n",
       "      <td>33</td>\n",
       "      <td>0</td>\n",
       "      <td>25-44</td>\n",
       "      <td>M</td>\n",
       "      <td>WHITE</td>\n",
       "      <td>1000916</td>\n",
       "      <td>245710</td>\n",
       "      <td>40.841085</td>\n",
       "      <td>-73.939769</td>\n",
       "    </tr>\n",
       "    <tr>\n",
       "      <th>2019-12-31</th>\n",
       "      <td>12/31/2019</td>\n",
       "      <td>FRAUD,UNCLASSIFIED-FELONY</td>\n",
       "      <td>THEFT-FRAUD</td>\n",
       "      <td>F</td>\n",
       "      <td>Q</td>\n",
       "      <td>101</td>\n",
       "      <td>0</td>\n",
       "      <td>25-44</td>\n",
       "      <td>M</td>\n",
       "      <td>BLACK HISPANIC</td>\n",
       "      <td>1055868</td>\n",
       "      <td>156522</td>\n",
       "      <td>40.596012</td>\n",
       "      <td>-73.742116</td>\n",
       "    </tr>\n",
       "    <tr>\n",
       "      <th>2019-12-31</th>\n",
       "      <td>12/31/2019</td>\n",
       "      <td>HOMICIDE, NEGLIGENT, VEHICLE,</td>\n",
       "      <td>HOMICIDE-NEGLIGENT-VEHICLE</td>\n",
       "      <td>F</td>\n",
       "      <td>M</td>\n",
       "      <td>23</td>\n",
       "      <td>0</td>\n",
       "      <td>18-24</td>\n",
       "      <td>M</td>\n",
       "      <td>BLACK</td>\n",
       "      <td>997462</td>\n",
       "      <td>227024</td>\n",
       "      <td>40.789803</td>\n",
       "      <td>-73.952289</td>\n",
       "    </tr>\n",
       "    <tr>\n",
       "      <th>2019-12-31</th>\n",
       "      <td>12/31/2019</td>\n",
       "      <td>CRIMINAL MIS 2 &amp; 3</td>\n",
       "      <td>CRIMINAL MISCHIEF &amp; RELATED OF</td>\n",
       "      <td>F</td>\n",
       "      <td>S</td>\n",
       "      <td>120</td>\n",
       "      <td>0</td>\n",
       "      <td>18-24</td>\n",
       "      <td>M</td>\n",
       "      <td>BLACK</td>\n",
       "      <td>962822</td>\n",
       "      <td>174282</td>\n",
       "      <td>40.645023</td>\n",
       "      <td>-74.077217</td>\n",
       "    </tr>\n",
       "    <tr>\n",
       "      <th>2019-12-31</th>\n",
       "      <td>12/31/2019</td>\n",
       "      <td>ASSAULT 3</td>\n",
       "      <td>ASSAULT 3 &amp; RELATED OFFENSES</td>\n",
       "      <td>M</td>\n",
       "      <td>M</td>\n",
       "      <td>25</td>\n",
       "      <td>97</td>\n",
       "      <td>25-44</td>\n",
       "      <td>M</td>\n",
       "      <td>BLACK</td>\n",
       "      <td>1004138</td>\n",
       "      <td>226326</td>\n",
       "      <td>40.787875</td>\n",
       "      <td>-73.928182</td>\n",
       "    </tr>\n",
       "  </tbody>\n",
       "</table>\n",
       "</div>"
      ],
      "text/plain": [
       "           ARREST_DATE                       offenses  \\\n",
       "date                                                    \n",
       "2019-12-31  12/31/2019          IMPAIRED DRIVING,DRUG   \n",
       "2019-12-31  12/31/2019      FRAUD,UNCLASSIFIED-FELONY   \n",
       "2019-12-31  12/31/2019  HOMICIDE, NEGLIGENT, VEHICLE,   \n",
       "2019-12-31  12/31/2019             CRIMINAL MIS 2 & 3   \n",
       "2019-12-31  12/31/2019                      ASSAULT 3   \n",
       "\n",
       "                                 OFNS_DESC offense_type ARREST_BORO  \\\n",
       "date                                                                  \n",
       "2019-12-31  INTOXICATED & IMPAIRED DRIVING            M           M   \n",
       "2019-12-31                     THEFT-FRAUD            F           Q   \n",
       "2019-12-31      HOMICIDE-NEGLIGENT-VEHICLE            F           M   \n",
       "2019-12-31  CRIMINAL MISCHIEF & RELATED OF            F           S   \n",
       "2019-12-31    ASSAULT 3 & RELATED OFFENSES            M           M   \n",
       "\n",
       "            ARREST_PRECINCT  JURISDICTION_CODE AGE_GROUP PERP_SEX  \\\n",
       "date                                                                \n",
       "2019-12-31               33                  0     25-44        M   \n",
       "2019-12-31              101                  0     25-44        M   \n",
       "2019-12-31               23                  0     18-24        M   \n",
       "2019-12-31              120                  0     18-24        M   \n",
       "2019-12-31               25                 97     25-44        M   \n",
       "\n",
       "                 PERP_RACE  X_COORD_CD  Y_COORD_CD   Latitude  Longitude  \n",
       "date                                                                      \n",
       "2019-12-31           WHITE     1000916      245710  40.841085 -73.939769  \n",
       "2019-12-31  BLACK HISPANIC     1055868      156522  40.596012 -73.742116  \n",
       "2019-12-31           BLACK      997462      227024  40.789803 -73.952289  \n",
       "2019-12-31           BLACK      962822      174282  40.645023 -74.077217  \n",
       "2019-12-31           BLACK     1004138      226326  40.787875 -73.928182  "
      ]
     },
     "execution_count": 95,
     "metadata": {},
     "output_type": "execute_result"
    }
   ],
   "source": [
    "dat.head()"
   ]
  },
  {
   "cell_type": "code",
   "execution_count": 170,
   "metadata": {},
   "outputs": [
    {
     "name": "stderr",
     "output_type": "stream",
     "text": [
      "C:\\Users\\bible_000\\anaconda3\\lib\\site-packages\\ipykernel_launcher.py:1: FutureWarning: Indexing with multiple keys (implicitly converted to a tuple of keys) will be deprecated, use a list instead.\n",
      "  \"\"\"Entry point for launching an IPython kernel.\n"
     ]
    }
   ],
   "source": [
    "da = dat.groupby(dat.index.month)['Latitude', 'Longitude'] #dat[['Latitude']]"
   ]
  },
  {
   "cell_type": "code",
   "execution_count": 138,
   "metadata": {},
   "outputs": [
    {
     "data": {
      "text/html": [
       "<div>\n",
       "<style scoped>\n",
       "    .dataframe tbody tr th:only-of-type {\n",
       "        vertical-align: middle;\n",
       "    }\n",
       "\n",
       "    .dataframe tbody tr th {\n",
       "        vertical-align: top;\n",
       "    }\n",
       "\n",
       "    .dataframe thead th {\n",
       "        text-align: right;\n",
       "    }\n",
       "</style>\n",
       "<table border=\"1\" class=\"dataframe\">\n",
       "  <thead>\n",
       "    <tr style=\"text-align: right;\">\n",
       "      <th></th>\n",
       "      <th>Latitude</th>\n",
       "      <th>Longitude</th>\n",
       "    </tr>\n",
       "    <tr>\n",
       "      <th>date</th>\n",
       "      <th></th>\n",
       "      <th></th>\n",
       "    </tr>\n",
       "  </thead>\n",
       "  <tbody>\n",
       "    <tr>\n",
       "      <th>2019-12-31</th>\n",
       "      <td>40.841085</td>\n",
       "      <td>-73.939769</td>\n",
       "    </tr>\n",
       "    <tr>\n",
       "      <th>2019-12-31</th>\n",
       "      <td>40.596012</td>\n",
       "      <td>-73.742116</td>\n",
       "    </tr>\n",
       "    <tr>\n",
       "      <th>2019-12-31</th>\n",
       "      <td>40.789803</td>\n",
       "      <td>-73.952289</td>\n",
       "    </tr>\n",
       "    <tr>\n",
       "      <th>2019-12-31</th>\n",
       "      <td>40.645023</td>\n",
       "      <td>-74.077217</td>\n",
       "    </tr>\n",
       "    <tr>\n",
       "      <th>2019-12-31</th>\n",
       "      <td>40.787875</td>\n",
       "      <td>-73.928182</td>\n",
       "    </tr>\n",
       "  </tbody>\n",
       "</table>\n",
       "</div>"
      ],
      "text/plain": [
       "             Latitude  Longitude\n",
       "date                            \n",
       "2019-12-31  40.841085 -73.939769\n",
       "2019-12-31  40.596012 -73.742116\n",
       "2019-12-31  40.789803 -73.952289\n",
       "2019-12-31  40.645023 -74.077217\n",
       "2019-12-31  40.787875 -73.928182"
      ]
     },
     "execution_count": 138,
     "metadata": {},
     "output_type": "execute_result"
    }
   ],
   "source": [
    "da.head()"
   ]
  },
  {
   "cell_type": "code",
   "execution_count": 150,
   "metadata": {},
   "outputs": [],
   "source": [
    "df =  dat.resample('D')['ARREST_DATE', 'Latitude', 'Longitude']"
   ]
  },
  {
   "cell_type": "code",
   "execution_count": 171,
   "metadata": {},
   "outputs": [],
   "source": [
    "df1 = dat[['Latitude']]"
   ]
  },
  {
   "cell_type": "code",
   "execution_count": 371,
   "metadata": {},
   "outputs": [],
   "source": [
    "#dat.index.week.value_counts().index(dat[['Latitude']])\n",
    "dff = dat.groupby(dat.index.day)['Latitude']\n",
    "dff_final = dff.unique().values\n"
   ]
  },
  {
   "cell_type": "code",
   "execution_count": 373,
   "metadata": {},
   "outputs": [
    {
     "name": "stdout",
     "output_type": "stream",
     "text": [
      "Day  1 881\n",
      "Day  2 464\n",
      "Day  3 343\n",
      "Day  4 288\n",
      "Day  5 251\n",
      "Day  6 236\n",
      "Day  7 222\n",
      "Day  8 215\n",
      "Day  9 209\n",
      "Day  10 202\n",
      "Day  11 200\n",
      "Day  12 198\n",
      "Day  13 182\n",
      "Day  14 179\n",
      "Day  15 175\n",
      "Day  16 170\n",
      "Day  17 167\n",
      "Day  18 165\n",
      "Day  19 162\n",
      "Day  20 161\n",
      "Day  21 158\n",
      "Day  22 155\n",
      "Day  23 152\n",
      "Day  24 150\n",
      "Day  25 149\n",
      "Day  26 148\n",
      "Day  27 146\n",
      "Day  28 143\n",
      "Day  29 139\n",
      "Day  30 133\n"
     ]
    }
   ],
   "source": [
    "for i in range(1,31):\n",
    "    \n",
    "    b = set(dff_final[i])\n",
    "    if i == 1:\n",
    "        c = set(dff_final[0]).intersection(b)\n",
    "        \n",
    "    else:\n",
    "        c = c.intersection(b)\n",
    "        \n",
    "    print('Day ', i, len(c))\n",
    "\n",
    " \n",
    "    "
   ]
  },
  {
   "cell_type": "code",
   "execution_count": 353,
   "metadata": {},
   "outputs": [],
   "source": [
    "test = list()\n",
    "for i in c:\n",
    "    g = dat['Longitude'][dat['Latitude'] == i]\n",
    "    gg = g.unique()\n",
    "    location_plot = i, g[0]\n",
    "    test.append(location_plot)\n",
    "    #print(i, g.unique())\n",
    "    #print(location_plot)"
   ]
  },
  {
   "cell_type": "code",
   "execution_count": 357,
   "metadata": {},
   "outputs": [],
   "source": [
    "np.shape(test)\n",
    "#a.tail()\n",
    "test_1 = pd.DataFrame(test, columns=['latitude', 'longitude'])"
   ]
  },
  {
   "cell_type": "code",
   "execution_count": 358,
   "metadata": {},
   "outputs": [
    {
     "data": {
      "text/html": [
       "<div>\n",
       "<style scoped>\n",
       "    .dataframe tbody tr th:only-of-type {\n",
       "        vertical-align: middle;\n",
       "    }\n",
       "\n",
       "    .dataframe tbody tr th {\n",
       "        vertical-align: top;\n",
       "    }\n",
       "\n",
       "    .dataframe thead th {\n",
       "        text-align: right;\n",
       "    }\n",
       "</style>\n",
       "<table border=\"1\" class=\"dataframe\">\n",
       "  <thead>\n",
       "    <tr style=\"text-align: right;\">\n",
       "      <th></th>\n",
       "      <th>latitude</th>\n",
       "      <th>longitude</th>\n",
       "    </tr>\n",
       "  </thead>\n",
       "  <tbody>\n",
       "    <tr>\n",
       "      <th>0</th>\n",
       "      <td>40.726965</td>\n",
       "      <td>-73.953117</td>\n",
       "    </tr>\n",
       "    <tr>\n",
       "      <th>1</th>\n",
       "      <td>40.814853</td>\n",
       "      <td>-73.956313</td>\n",
       "    </tr>\n",
       "    <tr>\n",
       "      <th>2</th>\n",
       "      <td>40.689648</td>\n",
       "      <td>-73.924054</td>\n",
       "    </tr>\n",
       "    <tr>\n",
       "      <th>3</th>\n",
       "      <td>40.758232</td>\n",
       "      <td>-73.977431</td>\n",
       "    </tr>\n",
       "    <tr>\n",
       "      <th>4</th>\n",
       "      <td>40.735331</td>\n",
       "      <td>-73.875451</td>\n",
       "    </tr>\n",
       "  </tbody>\n",
       "</table>\n",
       "</div>"
      ],
      "text/plain": [
       "    latitude  longitude\n",
       "0  40.726965 -73.953117\n",
       "1  40.814853 -73.956313\n",
       "2  40.689648 -73.924054\n",
       "3  40.758232 -73.977431\n",
       "4  40.735331 -73.875451"
      ]
     },
     "execution_count": 358,
     "metadata": {},
     "output_type": "execute_result"
    }
   ],
   "source": [
    "test_1.head()"
   ]
  },
  {
   "cell_type": "code",
   "execution_count": 226,
   "metadata": {},
   "outputs": [],
   "source": [
    "dff_final = pd.DataFrame(dff_final)"
   ]
  },
  {
   "cell_type": "code",
   "execution_count": 237,
   "metadata": {},
   "outputs": [],
   "source": [
    "final = dff_final.T"
   ]
  },
  {
   "cell_type": "code",
   "execution_count": 283,
   "metadata": {},
   "outputs": [],
   "source": [
    "from sklearn.cluster import KMeans\n",
    "#data['ARREST_DATE'] = lab_enc.fit_transform(data['ARREST_DATE'])\n",
    "#kmeans = KMeans(random_state=42).fit(data[['ARREST_DATE', 'Latitude']]) \n",
    "\n",
    "#kmeans = KMeans(random_state=42).fit(final) "
   ]
  },
  {
   "cell_type": "code",
   "execution_count": 159,
   "metadata": {},
   "outputs": [],
   "source": [
    "X_clusters = kmeans.predict(data[['ARREST_DATE', 'Latitude']])\n",
    "X_clusters_centers = kmeans.cluster_centers_"
   ]
  },
  {
   "cell_type": "code",
   "execution_count": 160,
   "metadata": {},
   "outputs": [
    {
     "name": "stdout",
     "output_type": "stream",
     "text": [
      "[[201.60743293  40.73780454]\n",
      " [ 64.74792632  40.73865117]\n",
      " [336.92146069  40.73812887]\n",
      " [109.17845036  40.73817115]\n",
      " [290.83223086  40.73853646]\n",
      " [154.92214077  40.73665101]\n",
      " [ 20.73355812  40.73833046]\n",
      " [246.61978807  40.7385324 ]]\n"
     ]
    }
   ],
   "source": [
    "print(X_clusters_centers)"
   ]
  },
  {
   "cell_type": "code",
   "execution_count": 161,
   "metadata": {},
   "outputs": [
    {
     "data": {
      "image/png": "[encoded data removed]",
      "text/plain": [
       "<Figure size 432x288 with 1 Axes>"
      ]
     },
     "metadata": {
      "needs_background": "light"
     },
     "output_type": "display_data"
    }
   ],
   "source": [
    "#from sklearn.cluster import KMeans\n",
    "\n",
    "\n",
    "clust = range(1, 10) \n",
    "kmeans = [KMeans(n_clusters=i) for i in clust]\n",
    "score = [kmeans[i].fit(data[['ARREST_DATE', 'Latitude']]).score(data[['ARREST_DATE', 'Latitude']]) for i in range(len(kmeans))]\n",
    " \n",
    "plt.plot(clust,score)\n",
    "plt.xlabel('Number of Clusters')\n",
    "plt.ylabel('Score')\n",
    "plt.title('Elbow Curve')\n",
    "plt.show()"
   ]
  },
  {
   "cell_type": "code",
   "execution_count": null,
   "metadata": {},
   "outputs": [],
   "source": []
  }
 ],
 "metadata": {
  "kernelspec": {
   "display_name": "Python 3",
   "language": "python",
   "name": "python3"
  },
  "language_info": {
   "codemirror_mode": {
    "name": "ipython",
    "version": 3
   },
   "file_extension": ".py",
   "mimetype": "text/x-python",
   "name": "python",
   "nbconvert_exporter": "python",
   "pygments_lexer": "ipython3",
   "version": "3.7.6"
  }
 },
 "nbformat": 4,
 "nbformat_minor": 2
}
