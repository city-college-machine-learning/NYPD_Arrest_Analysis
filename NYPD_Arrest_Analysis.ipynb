{
 "cells": [
  {
   "cell_type": "code",
   "execution_count": 1,
   "metadata": {},
   "outputs": [],
   "source": [
    "import pandas as pd\n",
    "import numpy as np\n",
    "import matplotlib.pyplot as plt\n",
    "%matplotlib inline\n",
    "import seaborn as sns\n",
    "from datetime import datetime"
   ]
  },
  {
   "cell_type": "code",
   "execution_count": 2,
   "metadata": {},
   "outputs": [],
   "source": [
    "nypd = pd.read_csv(r'C:\\Users\\natasha\\Downloads\\NYPD_Arrest_Data__Year_to_Date_.csv')"
   ]
  },
  {
   "cell_type": "code",
   "execution_count": 22,
   "metadata": {},
   "outputs": [
    {
     "data": {
      "text/html": [
       "<div>\n",
       "<style scoped>\n",
       "    .dataframe tbody tr th:only-of-type {\n",
       "        vertical-align: middle;\n",
       "    }\n",
       "\n",
       "    .dataframe tbody tr th {\n",
       "        vertical-align: top;\n",
       "    }\n",
       "\n",
       "    .dataframe thead th {\n",
       "        text-align: right;\n",
       "    }\n",
       "</style>\n",
       "<table border=\"1\" class=\"dataframe\">\n",
       "  <thead>\n",
       "    <tr style=\"text-align: right;\">\n",
       "      <th></th>\n",
       "      <th>ARREST_KEY</th>\n",
       "      <th>ARREST_DATE</th>\n",
       "      <th>PD_CD</th>\n",
       "      <th>PD_DESC</th>\n",
       "      <th>KY_CD</th>\n",
       "      <th>OFNS_DESC</th>\n",
       "      <th>LAW_CODE</th>\n",
       "      <th>LAW_CAT_CD</th>\n",
       "      <th>ARREST_BORO</th>\n",
       "      <th>ARREST_PRECINCT</th>\n",
       "      <th>JURISDICTION_CODE</th>\n",
       "      <th>AGE_GROUP</th>\n",
       "      <th>PERP_SEX</th>\n",
       "      <th>PERP_RACE</th>\n",
       "      <th>X_COORD_CD</th>\n",
       "      <th>Y_COORD_CD</th>\n",
       "      <th>Latitude</th>\n",
       "      <th>Longitude</th>\n",
       "    </tr>\n",
       "  </thead>\n",
       "  <tbody>\n",
       "    <tr>\n",
       "      <th>0</th>\n",
       "      <td>206892169</td>\n",
       "      <td>2019-12-31</td>\n",
       "      <td>907.0</td>\n",
       "      <td>IMPAIRED DRIVING,DRUG</td>\n",
       "      <td>347.0</td>\n",
       "      <td>INTOXICATED &amp; IMPAIRED DRIVING</td>\n",
       "      <td>VTL11920U4</td>\n",
       "      <td>M</td>\n",
       "      <td>M</td>\n",
       "      <td>33</td>\n",
       "      <td>0</td>\n",
       "      <td>25-44</td>\n",
       "      <td>M</td>\n",
       "      <td>WHITE</td>\n",
       "      <td>1000916</td>\n",
       "      <td>245710</td>\n",
       "      <td>40.841085</td>\n",
       "      <td>-73.939769</td>\n",
       "    </tr>\n",
       "    <tr>\n",
       "      <th>1</th>\n",
       "      <td>206888084</td>\n",
       "      <td>2019-12-31</td>\n",
       "      <td>739.0</td>\n",
       "      <td>FRAUD,UNCLASSIFIED-FELONY</td>\n",
       "      <td>112.0</td>\n",
       "      <td>THEFT-FRAUD</td>\n",
       "      <td>PL 1908301</td>\n",
       "      <td>F</td>\n",
       "      <td>Q</td>\n",
       "      <td>101</td>\n",
       "      <td>0</td>\n",
       "      <td>25-44</td>\n",
       "      <td>M</td>\n",
       "      <td>BLACK HISPANIC</td>\n",
       "      <td>1055868</td>\n",
       "      <td>156522</td>\n",
       "      <td>40.596012</td>\n",
       "      <td>-73.742116</td>\n",
       "    </tr>\n",
       "    <tr>\n",
       "      <th>2</th>\n",
       "      <td>206890433</td>\n",
       "      <td>2019-12-31</td>\n",
       "      <td>122.0</td>\n",
       "      <td>HOMICIDE, NEGLIGENT, VEHICLE,</td>\n",
       "      <td>102.0</td>\n",
       "      <td>HOMICIDE-NEGLIGENT-VEHICLE</td>\n",
       "      <td>PL 1251201</td>\n",
       "      <td>F</td>\n",
       "      <td>M</td>\n",
       "      <td>23</td>\n",
       "      <td>0</td>\n",
       "      <td>18-24</td>\n",
       "      <td>M</td>\n",
       "      <td>BLACK</td>\n",
       "      <td>997462</td>\n",
       "      <td>227024</td>\n",
       "      <td>40.789803</td>\n",
       "      <td>-73.952289</td>\n",
       "    </tr>\n",
       "    <tr>\n",
       "      <th>3</th>\n",
       "      <td>206890441</td>\n",
       "      <td>2019-12-31</td>\n",
       "      <td>268.0</td>\n",
       "      <td>CRIMINAL MIS 2 &amp; 3</td>\n",
       "      <td>121.0</td>\n",
       "      <td>CRIMINAL MISCHIEF &amp; RELATED OF</td>\n",
       "      <td>PL 1450502</td>\n",
       "      <td>F</td>\n",
       "      <td>S</td>\n",
       "      <td>120</td>\n",
       "      <td>0</td>\n",
       "      <td>18-24</td>\n",
       "      <td>M</td>\n",
       "      <td>BLACK</td>\n",
       "      <td>962822</td>\n",
       "      <td>174282</td>\n",
       "      <td>40.645023</td>\n",
       "      <td>-74.077217</td>\n",
       "    </tr>\n",
       "    <tr>\n",
       "      <th>4</th>\n",
       "      <td>206890973</td>\n",
       "      <td>2019-12-31</td>\n",
       "      <td>101.0</td>\n",
       "      <td>ASSAULT 3</td>\n",
       "      <td>344.0</td>\n",
       "      <td>ASSAULT 3 &amp; RELATED OFFENSES</td>\n",
       "      <td>PL 1200001</td>\n",
       "      <td>M</td>\n",
       "      <td>M</td>\n",
       "      <td>25</td>\n",
       "      <td>97</td>\n",
       "      <td>25-44</td>\n",
       "      <td>M</td>\n",
       "      <td>BLACK</td>\n",
       "      <td>1004138</td>\n",
       "      <td>226326</td>\n",
       "      <td>40.787875</td>\n",
       "      <td>-73.928182</td>\n",
       "    </tr>\n",
       "  </tbody>\n",
       "</table>\n",
       "</div>"
      ],
      "text/plain": [
       "   ARREST_KEY ARREST_DATE  PD_CD                        PD_DESC  KY_CD  \\\n",
       "0   206892169  2019-12-31  907.0          IMPAIRED DRIVING,DRUG  347.0   \n",
       "1   206888084  2019-12-31  739.0      FRAUD,UNCLASSIFIED-FELONY  112.0   \n",
       "2   206890433  2019-12-31  122.0  HOMICIDE, NEGLIGENT, VEHICLE,  102.0   \n",
       "3   206890441  2019-12-31  268.0             CRIMINAL MIS 2 & 3  121.0   \n",
       "4   206890973  2019-12-31  101.0                      ASSAULT 3  344.0   \n",
       "\n",
       "                        OFNS_DESC    LAW_CODE LAW_CAT_CD ARREST_BORO  \\\n",
       "0  INTOXICATED & IMPAIRED DRIVING  VTL11920U4          M           M   \n",
       "1                     THEFT-FRAUD  PL 1908301          F           Q   \n",
       "2      HOMICIDE-NEGLIGENT-VEHICLE  PL 1251201          F           M   \n",
       "3  CRIMINAL MISCHIEF & RELATED OF  PL 1450502          F           S   \n",
       "4    ASSAULT 3 & RELATED OFFENSES  PL 1200001          M           M   \n",
       "\n",
       "   ARREST_PRECINCT  JURISDICTION_CODE AGE_GROUP PERP_SEX       PERP_RACE  \\\n",
       "0               33                  0     25-44        M           WHITE   \n",
       "1              101                  0     25-44        M  BLACK HISPANIC   \n",
       "2               23                  0     18-24        M           BLACK   \n",
       "3              120                  0     18-24        M           BLACK   \n",
       "4               25                 97     25-44        M           BLACK   \n",
       "\n",
       "   X_COORD_CD  Y_COORD_CD   Latitude  Longitude  \n",
       "0     1000916      245710  40.841085 -73.939769  \n",
       "1     1055868      156522  40.596012 -73.742116  \n",
       "2      997462      227024  40.789803 -73.952289  \n",
       "3      962822      174282  40.645023 -74.077217  \n",
       "4     1004138      226326  40.787875 -73.928182  "
      ]
     },
     "execution_count": 22,
     "metadata": {},
     "output_type": "execute_result"
    }
   ],
   "source": [
    "nypd.head()"
   ]
  },
  {
   "cell_type": "code",
   "execution_count": 4,
   "metadata": {},
   "outputs": [
    {
     "data": {
      "text/plain": [
       "(214617, 18)"
      ]
     },
     "execution_count": 4,
     "metadata": {},
     "output_type": "execute_result"
    }
   ],
   "source": [
    "nypd.shape"
   ]
  },
  {
   "cell_type": "code",
   "execution_count": 5,
   "metadata": {},
   "outputs": [],
   "source": [
    "#nypd = nypd.drop(columns = [])"
   ]
  },
  {
   "cell_type": "code",
   "execution_count": 6,
   "metadata": {},
   "outputs": [],
   "source": [
    "#nypd.head()"
   ]
  },
  {
   "cell_type": "code",
   "execution_count": 7,
   "metadata": {},
   "outputs": [],
   "source": [
    "#nypd..shape"
   ]
  },
  {
   "cell_type": "code",
   "execution_count": 8,
   "metadata": {},
   "outputs": [
    {
     "data": {
      "text/plain": [
       "True"
      ]
     },
     "execution_count": 8,
     "metadata": {},
     "output_type": "execute_result"
    }
   ],
   "source": [
    "nypd.isnull().values.any()"
   ]
  },
  {
   "cell_type": "code",
   "execution_count": 9,
   "metadata": {},
   "outputs": [
    {
     "data": {
      "text/plain": [
       "1887"
      ]
     },
     "execution_count": 9,
     "metadata": {},
     "output_type": "execute_result"
    }
   ],
   "source": [
    "nypd.isnull().sum().sum()"
   ]
  },
  {
   "cell_type": "markdown",
   "metadata": {},
   "source": [
    "<font color ='purple'> After examining the NYPD dataset, we observed that there are 1887 missing values. </font>\n"
   ]
  },
  {
   "cell_type": "code",
   "execution_count": 10,
   "metadata": {},
   "outputs": [],
   "source": [
    "nypd = nypd.dropna()"
   ]
  },
  {
   "cell_type": "markdown",
   "metadata": {},
   "source": [
    "<font color='purple'>We dropped all records with missing data, since filling it with zeros or the mean would not be the best choice, since no calculations will be used to analyse the data. Those numeric values are data that reflects real facts/numbers and should not be manipulated else it can result in misleading analysis. We only lost less than 1% of our data by dropping them. </font>\n"
   ]
  },
  {
   "cell_type": "code",
   "execution_count": 11,
   "metadata": {},
   "outputs": [
    {
     "name": "stdout",
     "output_type": "stream",
     "text": [
      "<class 'pandas.core.frame.DataFrame'>\n",
      "Int64Index: 213089 entries, 0 to 214616\n",
      "Data columns (total 18 columns):\n",
      " #   Column             Non-Null Count   Dtype  \n",
      "---  ------             --------------   -----  \n",
      " 0   ARREST_KEY         213089 non-null  int64  \n",
      " 1   ARREST_DATE        213089 non-null  object \n",
      " 2   PD_CD              213089 non-null  float64\n",
      " 3   PD_DESC            213089 non-null  object \n",
      " 4   KY_CD              213089 non-null  float64\n",
      " 5   OFNS_DESC          213089 non-null  object \n",
      " 6   LAW_CODE           213089 non-null  object \n",
      " 7   LAW_CAT_CD         213089 non-null  object \n",
      " 8   ARREST_BORO        213089 non-null  object \n",
      " 9   ARREST_PRECINCT    213089 non-null  int64  \n",
      " 10  JURISDICTION_CODE  213089 non-null  int64  \n",
      " 11  AGE_GROUP          213089 non-null  object \n",
      " 12  PERP_SEX           213089 non-null  object \n",
      " 13  PERP_RACE          213089 non-null  object \n",
      " 14  X_COORD_CD         213089 non-null  int64  \n",
      " 15  Y_COORD_CD         213089 non-null  int64  \n",
      " 16  Latitude           213089 non-null  float64\n",
      " 17  Longitude          213089 non-null  float64\n",
      "dtypes: float64(4), int64(5), object(9)\n",
      "memory usage: 30.9+ MB\n"
     ]
    }
   ],
   "source": [
    "nypd.info()"
   ]
  },
  {
   "cell_type": "code",
   "execution_count": 20,
   "metadata": {},
   "outputs": [],
   "source": [
    "nypd['ARREST_DATE'] = pd.to_datetime(nypd['ARREST_DATE'], format = \"%m/%d/%Y\")\n"
   ]
  },
  {
   "cell_type": "code",
   "execution_count": 21,
   "metadata": {},
   "outputs": [
    {
     "name": "stdout",
     "output_type": "stream",
     "text": [
      "<class 'pandas.core.frame.DataFrame'>\n",
      "Int64Index: 213089 entries, 0 to 214616\n",
      "Data columns (total 18 columns):\n",
      " #   Column             Non-Null Count   Dtype         \n",
      "---  ------             --------------   -----         \n",
      " 0   ARREST_KEY         213089 non-null  int64         \n",
      " 1   ARREST_DATE        213089 non-null  datetime64[ns]\n",
      " 2   PD_CD              213089 non-null  float64       \n",
      " 3   PD_DESC            213089 non-null  object        \n",
      " 4   KY_CD              213089 non-null  float64       \n",
      " 5   OFNS_DESC          213089 non-null  object        \n",
      " 6   LAW_CODE           213089 non-null  object        \n",
      " 7   LAW_CAT_CD         213089 non-null  object        \n",
      " 8   ARREST_BORO        213089 non-null  object        \n",
      " 9   ARREST_PRECINCT    213089 non-null  int64         \n",
      " 10  JURISDICTION_CODE  213089 non-null  int64         \n",
      " 11  AGE_GROUP          213089 non-null  object        \n",
      " 12  PERP_SEX           213089 non-null  object        \n",
      " 13  PERP_RACE          213089 non-null  object        \n",
      " 14  X_COORD_CD         213089 non-null  int64         \n",
      " 15  Y_COORD_CD         213089 non-null  int64         \n",
      " 16  Latitude           213089 non-null  float64       \n",
      " 17  Longitude          213089 non-null  float64       \n",
      "dtypes: datetime64[ns](1), float64(4), int64(5), object(8)\n",
      "memory usage: 30.9+ MB\n"
     ]
    }
   ],
   "source": [
    "nypd.info()"
   ]
  },
  {
   "cell_type": "code",
   "execution_count": 23,
   "metadata": {},
   "outputs": [
    {
     "data": {
      "text/html": [
       "<div>\n",
       "<style scoped>\n",
       "    .dataframe tbody tr th:only-of-type {\n",
       "        vertical-align: middle;\n",
       "    }\n",
       "\n",
       "    .dataframe tbody tr th {\n",
       "        vertical-align: top;\n",
       "    }\n",
       "\n",
       "    .dataframe thead th {\n",
       "        text-align: right;\n",
       "    }\n",
       "</style>\n",
       "<table border=\"1\" class=\"dataframe\">\n",
       "  <thead>\n",
       "    <tr style=\"text-align: right;\">\n",
       "      <th></th>\n",
       "      <th>counts</th>\n",
       "      <th>percent</th>\n",
       "    </tr>\n",
       "  </thead>\n",
       "  <tbody>\n",
       "    <tr>\n",
       "      <th>ASSAULT 3 &amp; RELATED OFFENSES</th>\n",
       "      <td>31988</td>\n",
       "      <td>15.01%</td>\n",
       "    </tr>\n",
       "    <tr>\n",
       "      <th>PETIT LARCENY</th>\n",
       "      <td>21627</td>\n",
       "      <td>10.15%</td>\n",
       "    </tr>\n",
       "    <tr>\n",
       "      <th>DANGEROUS DRUGS</th>\n",
       "      <td>21071</td>\n",
       "      <td>9.89%</td>\n",
       "    </tr>\n",
       "    <tr>\n",
       "      <th>FELONY ASSAULT</th>\n",
       "      <td>15208</td>\n",
       "      <td>7.14%</td>\n",
       "    </tr>\n",
       "    <tr>\n",
       "      <th>VEHICLE AND TRAFFIC LAWS</th>\n",
       "      <td>14243</td>\n",
       "      <td>6.68%</td>\n",
       "    </tr>\n",
       "    <tr>\n",
       "      <th>...</th>\n",
       "      <td>...</td>\n",
       "      <td>...</td>\n",
       "    </tr>\n",
       "    <tr>\n",
       "      <th>HOMICIDE-NEGLIGENT-VEHICLE</th>\n",
       "      <td>5</td>\n",
       "      <td>0.0%</td>\n",
       "    </tr>\n",
       "    <tr>\n",
       "      <th>PARKING OFFENSES</th>\n",
       "      <td>3</td>\n",
       "      <td>0.0%</td>\n",
       "    </tr>\n",
       "    <tr>\n",
       "      <th>LOITERING FOR DRUG PURPOSES</th>\n",
       "      <td>2</td>\n",
       "      <td>0.0%</td>\n",
       "    </tr>\n",
       "    <tr>\n",
       "      <th>NYS LAWS-UNCLASSIFIED VIOLATION</th>\n",
       "      <td>2</td>\n",
       "      <td>0.0%</td>\n",
       "    </tr>\n",
       "    <tr>\n",
       "      <th>UNLAWFUL POSS. WEAP. ON SCHOOL</th>\n",
       "      <td>1</td>\n",
       "      <td>0.0%</td>\n",
       "    </tr>\n",
       "  </tbody>\n",
       "</table>\n",
       "<p>64 rows × 2 columns</p>\n",
       "</div>"
      ],
      "text/plain": [
       "                                 counts percent\n",
       "ASSAULT 3 & RELATED OFFENSES      31988  15.01%\n",
       "PETIT LARCENY                     21627  10.15%\n",
       "DANGEROUS DRUGS                   21071   9.89%\n",
       "FELONY ASSAULT                    15208   7.14%\n",
       "VEHICLE AND TRAFFIC LAWS          14243   6.68%\n",
       "...                                 ...     ...\n",
       "HOMICIDE-NEGLIGENT-VEHICLE            5    0.0%\n",
       "PARKING OFFENSES                      3    0.0%\n",
       "LOITERING FOR DRUG PURPOSES           2    0.0%\n",
       "NYS LAWS-UNCLASSIFIED VIOLATION       2    0.0%\n",
       "UNLAWFUL POSS. WEAP. ON SCHOOL        1    0.0%\n",
       "\n",
       "[64 rows x 2 columns]"
      ]
     },
     "execution_count": 23,
     "metadata": {},
     "output_type": "execute_result"
    }
   ],
   "source": [
    "counts = nypd.OFNS_DESC.value_counts()\n",
    "percent = nypd.OFNS_DESC.value_counts(normalize = True).mul(100).round(2).astype(str) + '%'\n",
    "pd.DataFrame({'counts': counts, 'percent': percent})"
   ]
  },
  {
   "cell_type": "markdown",
   "metadata": {},
   "source": [
    "##\n",
    "<font color = 'purple' > In 2019, the highest Offence was 'Assault related Offensed which made up 15%, followed by Petit Larceny with 10%.<\\font>"
   ]
  },
  {
   "cell_type": "code",
   "execution_count": 64,
   "metadata": {},
   "outputs": [
    {
     "data": {
      "text/html": [
       "<div>\n",
       "<style scoped>\n",
       "    .dataframe tbody tr th:only-of-type {\n",
       "        vertical-align: middle;\n",
       "    }\n",
       "\n",
       "    .dataframe tbody tr th {\n",
       "        vertical-align: top;\n",
       "    }\n",
       "\n",
       "    .dataframe thead th {\n",
       "        text-align: right;\n",
       "    }\n",
       "</style>\n",
       "<table border=\"1\" class=\"dataframe\">\n",
       "  <thead>\n",
       "    <tr style=\"text-align: right;\">\n",
       "      <th></th>\n",
       "      <th>OFNS_DESC</th>\n",
       "    </tr>\n",
       "    <tr>\n",
       "      <th>ARREST_BORO</th>\n",
       "      <th></th>\n",
       "    </tr>\n",
       "  </thead>\n",
       "  <tbody>\n",
       "    <tr>\n",
       "      <th>K</th>\n",
       "      <td>58077</td>\n",
       "    </tr>\n",
       "    <tr>\n",
       "      <th>M</th>\n",
       "      <td>53172</td>\n",
       "    </tr>\n",
       "    <tr>\n",
       "      <th>B</th>\n",
       "      <td>48516</td>\n",
       "    </tr>\n",
       "    <tr>\n",
       "      <th>Q</th>\n",
       "      <td>44329</td>\n",
       "    </tr>\n",
       "    <tr>\n",
       "      <th>S</th>\n",
       "      <td>8995</td>\n",
       "    </tr>\n",
       "  </tbody>\n",
       "</table>\n",
       "</div>"
      ],
      "text/plain": [
       "             OFNS_DESC\n",
       "ARREST_BORO           \n",
       "K                58077\n",
       "M                53172\n",
       "B                48516\n",
       "Q                44329\n",
       "S                 8995"
      ]
     },
     "execution_count": 64,
     "metadata": {},
     "output_type": "execute_result"
    }
   ],
   "source": [
    "Arrest_by_boro = nypd.groupby('ARREST_BORO').OFNS_DESC.count()\n",
    "\n",
    "\n",
    "Arrest_by_boro = pd.DataFrame(Arrest_by_boro.sort_values(ascending = False))\n",
    "\n",
    "Arrest_by_boro\n"
   ]
  },
  {
   "cell_type": "markdown",
   "metadata": {},
   "source": [
    "<font color = 'purple'> K(Brooklyn) had 58,077 Offences, the highest number of Offences for the year 2019 as shown above, followed by Manhattan with 53,172, then the Bronx, Queens and Staten island, with 48,516, 44,329 and 8,995 respectively.<font/>"
   ]
  },
  {
   "cell_type": "code",
   "execution_count": null,
   "metadata": {},
   "outputs": [],
   "source": []
  },
  {
   "cell_type": "markdown",
   "metadata": {},
   "source": []
  }
 ],
 "metadata": {
  "kernelspec": {
   "display_name": "Python 3",
   "language": "python",
   "name": "python3"
  },
  "language_info": {
   "codemirror_mode": {
    "name": "ipython",
    "version": 3
   },
   "file_extension": ".py",
   "mimetype": "text/x-python",
   "name": "python",
   "nbconvert_exporter": "python",
   "pygments_lexer": "ipython3",
   "version": "3.7.6"
  }
 },
 "nbformat": 4,
 "nbformat_minor": 4
}
