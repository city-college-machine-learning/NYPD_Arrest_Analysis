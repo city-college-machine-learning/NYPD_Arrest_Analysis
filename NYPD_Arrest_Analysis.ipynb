{
 "cells": [
  {
   "cell_type": "code",
   "execution_count": 1,
   "metadata": {},
   "outputs": [],
   "source": [
    "import pandas as pd\n",
    "import numpy as np\n",
    "import matplotlib.pyplot as plt\n",
    "%matplotlib inline\n",
    "import seaborn as sns\n",
    "from datetime import datetime"
   ]
  },
  {
   "cell_type": "code",
   "execution_count": 2,
   "metadata": {},
   "outputs": [],
   "source": [
    "#Load the arrest data\n",
    "nypd = pd.read_csv('NYPD_Arrest_Data__Year_to_Date_.csv')"
   ]
  },
  {
   "cell_type": "code",
   "execution_count": 3,
   "metadata": {},
   "outputs": [
    {
     "data": {
      "text/html": [
       "<div>\n",
       "<style scoped>\n",
       "    .dataframe tbody tr th:only-of-type {\n",
       "        vertical-align: middle;\n",
       "    }\n",
       "\n",
       "    .dataframe tbody tr th {\n",
       "        vertical-align: top;\n",
       "    }\n",
       "\n",
       "    .dataframe thead th {\n",
       "        text-align: right;\n",
       "    }\n",
       "</style>\n",
       "<table border=\"1\" class=\"dataframe\">\n",
       "  <thead>\n",
       "    <tr style=\"text-align: right;\">\n",
       "      <th></th>\n",
       "      <th>ARREST_KEY</th>\n",
       "      <th>ARREST_DATE</th>\n",
       "      <th>PD_CD</th>\n",
       "      <th>PD_DESC</th>\n",
       "      <th>KY_CD</th>\n",
       "      <th>OFNS_DESC</th>\n",
       "      <th>LAW_CODE</th>\n",
       "      <th>LAW_CAT_CD</th>\n",
       "      <th>ARREST_BORO</th>\n",
       "      <th>ARREST_PRECINCT</th>\n",
       "      <th>JURISDICTION_CODE</th>\n",
       "      <th>AGE_GROUP</th>\n",
       "      <th>PERP_SEX</th>\n",
       "      <th>PERP_RACE</th>\n",
       "      <th>X_COORD_CD</th>\n",
       "      <th>Y_COORD_CD</th>\n",
       "      <th>Latitude</th>\n",
       "      <th>Longitude</th>\n",
       "    </tr>\n",
       "  </thead>\n",
       "  <tbody>\n",
       "    <tr>\n",
       "      <th>0</th>\n",
       "      <td>206892169</td>\n",
       "      <td>12/31/2019</td>\n",
       "      <td>907.0</td>\n",
       "      <td>IMPAIRED DRIVING,DRUG</td>\n",
       "      <td>347.0</td>\n",
       "      <td>INTOXICATED &amp; IMPAIRED DRIVING</td>\n",
       "      <td>VTL11920U4</td>\n",
       "      <td>M</td>\n",
       "      <td>M</td>\n",
       "      <td>33</td>\n",
       "      <td>0</td>\n",
       "      <td>25-44</td>\n",
       "      <td>M</td>\n",
       "      <td>WHITE</td>\n",
       "      <td>1000916</td>\n",
       "      <td>245710</td>\n",
       "      <td>40.841085</td>\n",
       "      <td>-73.939769</td>\n",
       "    </tr>\n",
       "    <tr>\n",
       "      <th>1</th>\n",
       "      <td>206888084</td>\n",
       "      <td>12/31/2019</td>\n",
       "      <td>739.0</td>\n",
       "      <td>FRAUD,UNCLASSIFIED-FELONY</td>\n",
       "      <td>112.0</td>\n",
       "      <td>THEFT-FRAUD</td>\n",
       "      <td>PL 1908301</td>\n",
       "      <td>F</td>\n",
       "      <td>Q</td>\n",
       "      <td>101</td>\n",
       "      <td>0</td>\n",
       "      <td>25-44</td>\n",
       "      <td>M</td>\n",
       "      <td>BLACK HISPANIC</td>\n",
       "      <td>1055868</td>\n",
       "      <td>156522</td>\n",
       "      <td>40.596012</td>\n",
       "      <td>-73.742116</td>\n",
       "    </tr>\n",
       "    <tr>\n",
       "      <th>2</th>\n",
       "      <td>206890433</td>\n",
       "      <td>12/31/2019</td>\n",
       "      <td>122.0</td>\n",
       "      <td>HOMICIDE, NEGLIGENT, VEHICLE,</td>\n",
       "      <td>102.0</td>\n",
       "      <td>HOMICIDE-NEGLIGENT-VEHICLE</td>\n",
       "      <td>PL 1251201</td>\n",
       "      <td>F</td>\n",
       "      <td>M</td>\n",
       "      <td>23</td>\n",
       "      <td>0</td>\n",
       "      <td>18-24</td>\n",
       "      <td>M</td>\n",
       "      <td>BLACK</td>\n",
       "      <td>997462</td>\n",
       "      <td>227024</td>\n",
       "      <td>40.789803</td>\n",
       "      <td>-73.952289</td>\n",
       "    </tr>\n",
       "    <tr>\n",
       "      <th>3</th>\n",
       "      <td>206890441</td>\n",
       "      <td>12/31/2019</td>\n",
       "      <td>268.0</td>\n",
       "      <td>CRIMINAL MIS 2 &amp; 3</td>\n",
       "      <td>121.0</td>\n",
       "      <td>CRIMINAL MISCHIEF &amp; RELATED OF</td>\n",
       "      <td>PL 1450502</td>\n",
       "      <td>F</td>\n",
       "      <td>S</td>\n",
       "      <td>120</td>\n",
       "      <td>0</td>\n",
       "      <td>18-24</td>\n",
       "      <td>M</td>\n",
       "      <td>BLACK</td>\n",
       "      <td>962822</td>\n",
       "      <td>174282</td>\n",
       "      <td>40.645023</td>\n",
       "      <td>-74.077217</td>\n",
       "    </tr>\n",
       "    <tr>\n",
       "      <th>4</th>\n",
       "      <td>206890973</td>\n",
       "      <td>12/31/2019</td>\n",
       "      <td>101.0</td>\n",
       "      <td>ASSAULT 3</td>\n",
       "      <td>344.0</td>\n",
       "      <td>ASSAULT 3 &amp; RELATED OFFENSES</td>\n",
       "      <td>PL 1200001</td>\n",
       "      <td>M</td>\n",
       "      <td>M</td>\n",
       "      <td>25</td>\n",
       "      <td>97</td>\n",
       "      <td>25-44</td>\n",
       "      <td>M</td>\n",
       "      <td>BLACK</td>\n",
       "      <td>1004138</td>\n",
       "      <td>226326</td>\n",
       "      <td>40.787875</td>\n",
       "      <td>-73.928182</td>\n",
       "    </tr>\n",
       "  </tbody>\n",
       "</table>\n",
       "</div>"
      ],
      "text/plain": [
       "   ARREST_KEY ARREST_DATE  PD_CD                        PD_DESC  KY_CD  \\\n",
       "0   206892169  12/31/2019  907.0          IMPAIRED DRIVING,DRUG  347.0   \n",
       "1   206888084  12/31/2019  739.0      FRAUD,UNCLASSIFIED-FELONY  112.0   \n",
       "2   206890433  12/31/2019  122.0  HOMICIDE, NEGLIGENT, VEHICLE,  102.0   \n",
       "3   206890441  12/31/2019  268.0             CRIMINAL MIS 2 & 3  121.0   \n",
       "4   206890973  12/31/2019  101.0                      ASSAULT 3  344.0   \n",
       "\n",
       "                        OFNS_DESC    LAW_CODE LAW_CAT_CD ARREST_BORO  \\\n",
       "0  INTOXICATED & IMPAIRED DRIVING  VTL11920U4          M           M   \n",
       "1                     THEFT-FRAUD  PL 1908301          F           Q   \n",
       "2      HOMICIDE-NEGLIGENT-VEHICLE  PL 1251201          F           M   \n",
       "3  CRIMINAL MISCHIEF & RELATED OF  PL 1450502          F           S   \n",
       "4    ASSAULT 3 & RELATED OFFENSES  PL 1200001          M           M   \n",
       "\n",
       "   ARREST_PRECINCT  JURISDICTION_CODE AGE_GROUP PERP_SEX       PERP_RACE  \\\n",
       "0               33                  0     25-44        M           WHITE   \n",
       "1              101                  0     25-44        M  BLACK HISPANIC   \n",
       "2               23                  0     18-24        M           BLACK   \n",
       "3              120                  0     18-24        M           BLACK   \n",
       "4               25                 97     25-44        M           BLACK   \n",
       "\n",
       "   X_COORD_CD  Y_COORD_CD   Latitude  Longitude  \n",
       "0     1000916      245710  40.841085 -73.939769  \n",
       "1     1055868      156522  40.596012 -73.742116  \n",
       "2      997462      227024  40.789803 -73.952289  \n",
       "3      962822      174282  40.645023 -74.077217  \n",
       "4     1004138      226326  40.787875 -73.928182  "
      ]
     },
     "execution_count": 3,
     "metadata": {},
     "output_type": "execute_result"
    }
   ],
   "source": [
    "#Look at the five rows\n",
    "nypd.head()"
   ]
  },
  {
   "cell_type": "code",
   "execution_count": 4,
   "metadata": {},
   "outputs": [],
   "source": [
    "#The Data Dictionary for the Columns\n",
    "data_dictionary = \"\"\"\n",
    "ARREST_KEY: Randomly generated persistent ID for each arrest\n",
    "\n",
    "ARREST_DATE: Exact date of arrest for the reported event\n",
    "\n",
    "PD_CD: Three digit internal classification code (more granular than\n",
    "Key Code)\n",
    "\n",
    "PD_DESC: Description of internal classification corresponding with PD\n",
    "code (more granular than Offense Description)\n",
    "\n",
    "KY_CD: Three digit internal classification code (more general\n",
    "category than PD code)\n",
    "\n",
    "OFNS_DESC: Description of internal classification corresponding with KY\n",
    "code (more general category than PD description)\n",
    "\n",
    "LAW_CODE: Law code charges corresponding to the NYS Penal Law,\n",
    "VTL and other various local laws\n",
    "\n",
    "LAW_CAT_CD: Level of offense: felony, misdemeanor, violation\n",
    "\n",
    "ARREST_BORO: Borough of arrest. B(Bronx), S(Staten Island), K(Brooklyn),\n",
    "M(Manhattan), Q(Queens)\n",
    "\n",
    "ARREST_PRECINCT: Precinct where the arrest occurred\n",
    "\n",
    "JURISDICTION_CODE: Jurisdiction responsible for arrest. Jurisdiction codes\n",
    "0(Patrol), 1(Transit) and 2(Housing) represent NYPD whilst\n",
    "codes 3 and more represent non NYPD jurisdictions\n",
    "\n",
    "AGE_GROUP: Perpetrator’s age within a category\n",
    "\n",
    "PERP_SEX: Perpetrator’s sex description\n",
    "\n",
    "PERP_RACE: Perpetrator’s race description\n",
    "\n",
    "X_COORD_CD: Midblock X-coordinate for New York State Plane\n",
    "Coordinate System, Long Island Zone, NAD 83, units feet (FIPS 3104)\n",
    "\n",
    "Y_COORD_CD: Midblock Y-coordinate for New York State Plane\n",
    "Coordinate System, Long Island Zone, NAD 83, units feet (FIPS 3104)\n",
    "\n",
    "Latitude: Latitude coordinate for Global Coordinate System, WGS\n",
    "1984, decimal degrees (EPSG 4326)\n",
    "\n",
    "Longitude: Longitude coordinate for Global Coordinate System, WGS\n",
    "1984, decimal degrees (EPSG 4326)\n",
    "\n",
    "\"\"\"\n"
   ]
  },
  {
   "cell_type": "code",
   "execution_count": 5,
   "metadata": {},
   "outputs": [
    {
     "data": {
      "text/plain": [
       "(214617, 18)"
      ]
     },
     "execution_count": 5,
     "metadata": {},
     "output_type": "execute_result"
    }
   ],
   "source": [
    "#Look at the shape\n",
    "nypd.shape"
   ]
  },
  {
   "cell_type": "code",
   "execution_count": 6,
   "metadata": {},
   "outputs": [
    {
     "name": "stdout",
     "output_type": "stream",
     "text": [
      "<class 'pandas.core.frame.DataFrame'>\n",
      "RangeIndex: 214617 entries, 0 to 214616\n",
      "Data columns (total 18 columns):\n",
      "ARREST_KEY           214617 non-null int64\n",
      "ARREST_DATE          214617 non-null object\n",
      "PD_CD                214576 non-null float64\n",
      "PD_DESC              214458 non-null object\n",
      "KY_CD                214458 non-null float64\n",
      "OFNS_DESC            214458 non-null object\n",
      "LAW_CODE             214617 non-null object\n",
      "LAW_CAT_CD           213248 non-null object\n",
      "ARREST_BORO          214617 non-null object\n",
      "ARREST_PRECINCT      214617 non-null int64\n",
      "JURISDICTION_CODE    214617 non-null int64\n",
      "AGE_GROUP            214617 non-null object\n",
      "PERP_SEX             214617 non-null object\n",
      "PERP_RACE            214617 non-null object\n",
      "X_COORD_CD           214617 non-null int64\n",
      "Y_COORD_CD           214617 non-null int64\n",
      "Latitude             214617 non-null float64\n",
      "Longitude            214617 non-null float64\n",
      "dtypes: float64(4), int64(5), object(9)\n",
      "memory usage: 29.5+ MB\n"
     ]
    }
   ],
   "source": [
    "#Look at the column names and types\n",
    "nypd.info()"
   ]
  },
  {
   "cell_type": "markdown",
   "metadata": {},
   "source": [
    "For the most part there are no missing entries (almost 214,617 for all columns). It looks like half of the columns are numbers and half are strings (object)"
   ]
  },
  {
   "cell_type": "code",
   "execution_count": 7,
   "metadata": {},
   "outputs": [
    {
     "data": {
      "text/plain": [
       "True"
      ]
     },
     "execution_count": 7,
     "metadata": {},
     "output_type": "execute_result"
    }
   ],
   "source": [
    "#Are there empty values?\n",
    "nypd.isnull().values.any()"
   ]
  },
  {
   "cell_type": "code",
   "execution_count": 8,
   "metadata": {},
   "outputs": [
    {
     "data": {
      "text/plain": [
       "ARREST_KEY              0\n",
       "ARREST_DATE             0\n",
       "PD_CD                  41\n",
       "PD_DESC               159\n",
       "KY_CD                 159\n",
       "OFNS_DESC             159\n",
       "LAW_CODE                0\n",
       "LAW_CAT_CD           1369\n",
       "ARREST_BORO             0\n",
       "ARREST_PRECINCT         0\n",
       "JURISDICTION_CODE       0\n",
       "AGE_GROUP               0\n",
       "PERP_SEX                0\n",
       "PERP_RACE               0\n",
       "X_COORD_CD              0\n",
       "Y_COORD_CD              0\n",
       "Latitude                0\n",
       "Longitude               0\n",
       "dtype: int64"
      ]
     },
     "execution_count": 8,
     "metadata": {},
     "output_type": "execute_result"
    }
   ],
   "source": [
    "#How many empty values are there in each column?\n",
    "nypd.isnull().sum()"
   ]
  },
  {
   "cell_type": "code",
   "execution_count": 9,
   "metadata": {},
   "outputs": [
    {
     "data": {
      "text/plain": [
       "1887"
      ]
     },
     "execution_count": 9,
     "metadata": {},
     "output_type": "execute_result"
    }
   ],
   "source": [
    "#Add the above counts together\n",
    "nypd.isnull().sum().sum()"
   ]
  },
  {
   "cell_type": "markdown",
   "metadata": {},
   "source": [
    "<font color ='purple'> After examining the NYPD dataset, we observed that there are 1887 missing values. </font>\n"
   ]
  },
  {
   "cell_type": "code",
   "execution_count": 10,
   "metadata": {},
   "outputs": [],
   "source": [
    "#Because it is not many, we drop the null values\n",
    "nypd = nypd.dropna()"
   ]
  },
  {
   "cell_type": "markdown",
   "metadata": {},
   "source": [
    "<font color='purple'>We dropped all records with missing data, since filling it with zeros or the mean would not be the best choice, since no calculations will be used to analyse the data. Those numeric values are data that reflects real facts/numbers and should not be manipulated else it can result in misleading analysis. We only lost less than 1% of our data by dropping them. </font>\n"
   ]
  },
  {
   "cell_type": "code",
   "execution_count": 11,
   "metadata": {},
   "outputs": [
    {
     "name": "stdout",
     "output_type": "stream",
     "text": [
      "<class 'pandas.core.frame.DataFrame'>\n",
      "Int64Index: 213089 entries, 0 to 214616\n",
      "Data columns (total 18 columns):\n",
      "ARREST_KEY           213089 non-null int64\n",
      "ARREST_DATE          213089 non-null datetime64[ns]\n",
      "PD_CD                213089 non-null float64\n",
      "PD_DESC              213089 non-null object\n",
      "KY_CD                213089 non-null float64\n",
      "OFNS_DESC            213089 non-null object\n",
      "LAW_CODE             213089 non-null object\n",
      "LAW_CAT_CD           213089 non-null object\n",
      "ARREST_BORO          213089 non-null object\n",
      "ARREST_PRECINCT      213089 non-null int64\n",
      "JURISDICTION_CODE    213089 non-null int64\n",
      "AGE_GROUP            213089 non-null object\n",
      "PERP_SEX             213089 non-null object\n",
      "PERP_RACE            213089 non-null object\n",
      "X_COORD_CD           213089 non-null int64\n",
      "Y_COORD_CD           213089 non-null int64\n",
      "Latitude             213089 non-null float64\n",
      "Longitude            213089 non-null float64\n",
      "dtypes: datetime64[ns](1), float64(4), int64(5), object(8)\n",
      "memory usage: 30.9+ MB\n"
     ]
    }
   ],
   "source": [
    "#After dropping the null values we look at the data info again\n",
    "nypd['ARREST_DATE'] = pd.to_datetime(nypd['ARREST_DATE'], format = \"%m/%d/%Y\")\n",
    "nypd.info()"
   ]
  },
  {
   "cell_type": "code",
   "execution_count": 12,
   "metadata": {},
   "outputs": [],
   "source": [
    "nypd['ARREST_DATE'] = pd.to_datetime(nypd['ARREST_DATE'], format = \"%m/%d/%Y\")\n",
    "\n"
   ]
  },
  {
   "cell_type": "code",
   "execution_count": 13,
   "metadata": {},
   "outputs": [],
   "source": [
    "nypd['ARREST_PRECINCT'] = nypd['ARREST_PRECINCT'].astype(str)"
   ]
  },
  {
   "cell_type": "code",
   "execution_count": 14,
   "metadata": {},
   "outputs": [
    {
     "data": {
      "text/html": [
       "<div>\n",
       "<style scoped>\n",
       "    .dataframe tbody tr th:only-of-type {\n",
       "        vertical-align: middle;\n",
       "    }\n",
       "\n",
       "    .dataframe tbody tr th {\n",
       "        vertical-align: top;\n",
       "    }\n",
       "\n",
       "    .dataframe thead th {\n",
       "        text-align: right;\n",
       "    }\n",
       "</style>\n",
       "<table border=\"1\" class=\"dataframe\">\n",
       "  <thead>\n",
       "    <tr style=\"text-align: right;\">\n",
       "      <th></th>\n",
       "      <th>counts</th>\n",
       "      <th>percent</th>\n",
       "    </tr>\n",
       "  </thead>\n",
       "  <tbody>\n",
       "    <tr>\n",
       "      <th>ASSAULT 3 &amp; RELATED OFFENSES</th>\n",
       "      <td>31988</td>\n",
       "      <td>15.01%</td>\n",
       "    </tr>\n",
       "    <tr>\n",
       "      <th>PETIT LARCENY</th>\n",
       "      <td>21627</td>\n",
       "      <td>10.15%</td>\n",
       "    </tr>\n",
       "    <tr>\n",
       "      <th>DANGEROUS DRUGS</th>\n",
       "      <td>21071</td>\n",
       "      <td>9.89%</td>\n",
       "    </tr>\n",
       "    <tr>\n",
       "      <th>FELONY ASSAULT</th>\n",
       "      <td>15208</td>\n",
       "      <td>7.14%</td>\n",
       "    </tr>\n",
       "    <tr>\n",
       "      <th>VEHICLE AND TRAFFIC LAWS</th>\n",
       "      <td>14243</td>\n",
       "      <td>6.68%</td>\n",
       "    </tr>\n",
       "    <tr>\n",
       "      <th>MISCELLANEOUS PENAL LAW</th>\n",
       "      <td>12325</td>\n",
       "      <td>5.78%</td>\n",
       "    </tr>\n",
       "    <tr>\n",
       "      <th>CRIMINAL MISCHIEF &amp; RELATED OF</th>\n",
       "      <td>9971</td>\n",
       "      <td>4.68%</td>\n",
       "    </tr>\n",
       "    <tr>\n",
       "      <th>GRAND LARCENY</th>\n",
       "      <td>9913</td>\n",
       "      <td>4.65%</td>\n",
       "    </tr>\n",
       "    <tr>\n",
       "      <th>ROBBERY</th>\n",
       "      <td>9259</td>\n",
       "      <td>4.35%</td>\n",
       "    </tr>\n",
       "    <tr>\n",
       "      <th>DANGEROUS WEAPONS</th>\n",
       "      <td>7921</td>\n",
       "      <td>3.72%</td>\n",
       "    </tr>\n",
       "    <tr>\n",
       "      <th>OFFENSES AGAINST PUBLIC ADMINI</th>\n",
       "      <td>7748</td>\n",
       "      <td>3.64%</td>\n",
       "    </tr>\n",
       "    <tr>\n",
       "      <th>FORGERY</th>\n",
       "      <td>4799</td>\n",
       "      <td>2.25%</td>\n",
       "    </tr>\n",
       "    <tr>\n",
       "      <th>INTOXICATED &amp; IMPAIRED DRIVING</th>\n",
       "      <td>4653</td>\n",
       "      <td>2.18%</td>\n",
       "    </tr>\n",
       "    <tr>\n",
       "      <th>BURGLARY</th>\n",
       "      <td>4451</td>\n",
       "      <td>2.09%</td>\n",
       "    </tr>\n",
       "    <tr>\n",
       "      <th>OTHER OFFENSES RELATED TO THEF</th>\n",
       "      <td>4262</td>\n",
       "      <td>2.0%</td>\n",
       "    </tr>\n",
       "    <tr>\n",
       "      <th>OFF. AGNST PUB ORD SENSBLTY &amp;</th>\n",
       "      <td>4222</td>\n",
       "      <td>1.98%</td>\n",
       "    </tr>\n",
       "    <tr>\n",
       "      <th>SEX CRIMES</th>\n",
       "      <td>4152</td>\n",
       "      <td>1.95%</td>\n",
       "    </tr>\n",
       "    <tr>\n",
       "      <th>CRIMINAL TRESPASS</th>\n",
       "      <td>3250</td>\n",
       "      <td>1.53%</td>\n",
       "    </tr>\n",
       "    <tr>\n",
       "      <th>OTHER TRAFFIC INFRACTION</th>\n",
       "      <td>3125</td>\n",
       "      <td>1.47%</td>\n",
       "    </tr>\n",
       "    <tr>\n",
       "      <th>POSSESSION OF STOLEN PROPERTY</th>\n",
       "      <td>2241</td>\n",
       "      <td>1.05%</td>\n",
       "    </tr>\n",
       "    <tr>\n",
       "      <th>OFFENSES INVOLVING FRAUD</th>\n",
       "      <td>1204</td>\n",
       "      <td>0.57%</td>\n",
       "    </tr>\n",
       "    <tr>\n",
       "      <th>NYS LAWS-UNCLASSIFIED FELONY</th>\n",
       "      <td>1165</td>\n",
       "      <td>0.55%</td>\n",
       "    </tr>\n",
       "    <tr>\n",
       "      <th>OTHER STATE LAWS (NON PENAL LA</th>\n",
       "      <td>1135</td>\n",
       "      <td>0.53%</td>\n",
       "    </tr>\n",
       "    <tr>\n",
       "      <th>GRAND LARCENY OF MOTOR VEHICLE</th>\n",
       "      <td>1114</td>\n",
       "      <td>0.52%</td>\n",
       "    </tr>\n",
       "    <tr>\n",
       "      <th>PROSTITUTION &amp; RELATED OFFENSES</th>\n",
       "      <td>1104</td>\n",
       "      <td>0.52%</td>\n",
       "    </tr>\n",
       "    <tr>\n",
       "      <th>OFFENSES AGAINST THE PERSON</th>\n",
       "      <td>1031</td>\n",
       "      <td>0.48%</td>\n",
       "    </tr>\n",
       "    <tr>\n",
       "      <th>MURDER &amp; NON-NEGL. MANSLAUGHTE</th>\n",
       "      <td>1013</td>\n",
       "      <td>0.48%</td>\n",
       "    </tr>\n",
       "    <tr>\n",
       "      <th>RAPE</th>\n",
       "      <td>900</td>\n",
       "      <td>0.42%</td>\n",
       "    </tr>\n",
       "    <tr>\n",
       "      <th>FRAUDS</th>\n",
       "      <td>872</td>\n",
       "      <td>0.41%</td>\n",
       "    </tr>\n",
       "    <tr>\n",
       "      <th>OTHER STATE LAWS</th>\n",
       "      <td>826</td>\n",
       "      <td>0.39%</td>\n",
       "    </tr>\n",
       "    <tr>\n",
       "      <th>...</th>\n",
       "      <td>...</td>\n",
       "      <td>...</td>\n",
       "    </tr>\n",
       "    <tr>\n",
       "      <th>GAMBLING</th>\n",
       "      <td>645</td>\n",
       "      <td>0.3%</td>\n",
       "    </tr>\n",
       "    <tr>\n",
       "      <th>INTOXICATED/IMPAIRED DRIVING</th>\n",
       "      <td>577</td>\n",
       "      <td>0.27%</td>\n",
       "    </tr>\n",
       "    <tr>\n",
       "      <th>ALCOHOLIC BEVERAGE CONTROL LAW</th>\n",
       "      <td>542</td>\n",
       "      <td>0.25%</td>\n",
       "    </tr>\n",
       "    <tr>\n",
       "      <th>THEFT OF SERVICES</th>\n",
       "      <td>479</td>\n",
       "      <td>0.22%</td>\n",
       "    </tr>\n",
       "    <tr>\n",
       "      <th>THEFT-FRAUD</th>\n",
       "      <td>334</td>\n",
       "      <td>0.16%</td>\n",
       "    </tr>\n",
       "    <tr>\n",
       "      <th>ARSON</th>\n",
       "      <td>140</td>\n",
       "      <td>0.07%</td>\n",
       "    </tr>\n",
       "    <tr>\n",
       "      <th>FRAUDULENT ACCOSTING</th>\n",
       "      <td>128</td>\n",
       "      <td>0.06%</td>\n",
       "    </tr>\n",
       "    <tr>\n",
       "      <th>OFFENSES RELATED TO CHILDREN</th>\n",
       "      <td>95</td>\n",
       "      <td>0.04%</td>\n",
       "    </tr>\n",
       "    <tr>\n",
       "      <th>AGRICULTURE &amp; MRKTS LAW-UNCLASSIFIED</th>\n",
       "      <td>89</td>\n",
       "      <td>0.04%</td>\n",
       "    </tr>\n",
       "    <tr>\n",
       "      <th>MOVING INFRACTIONS</th>\n",
       "      <td>80</td>\n",
       "      <td>0.04%</td>\n",
       "    </tr>\n",
       "    <tr>\n",
       "      <th>KIDNAPPING &amp; RELATED OFFENSES</th>\n",
       "      <td>78</td>\n",
       "      <td>0.04%</td>\n",
       "    </tr>\n",
       "    <tr>\n",
       "      <th>HARRASSMENT 2</th>\n",
       "      <td>66</td>\n",
       "      <td>0.03%</td>\n",
       "    </tr>\n",
       "    <tr>\n",
       "      <th>OFFENSES AGAINST PUBLIC SAFETY</th>\n",
       "      <td>62</td>\n",
       "      <td>0.03%</td>\n",
       "    </tr>\n",
       "    <tr>\n",
       "      <th>ENDAN WELFARE INCOMP</th>\n",
       "      <td>57</td>\n",
       "      <td>0.03%</td>\n",
       "    </tr>\n",
       "    <tr>\n",
       "      <th>OTHER STATE LAWS (NON PENAL LAW)</th>\n",
       "      <td>38</td>\n",
       "      <td>0.02%</td>\n",
       "    </tr>\n",
       "    <tr>\n",
       "      <th>JOSTLING</th>\n",
       "      <td>28</td>\n",
       "      <td>0.01%</td>\n",
       "    </tr>\n",
       "    <tr>\n",
       "      <th>CHILD ABANDONMENT/NON SUPPORT</th>\n",
       "      <td>25</td>\n",
       "      <td>0.01%</td>\n",
       "    </tr>\n",
       "    <tr>\n",
       "      <th>ANTICIPATORY OFFENSES</th>\n",
       "      <td>22</td>\n",
       "      <td>0.01%</td>\n",
       "    </tr>\n",
       "    <tr>\n",
       "      <th>HOMICIDE-NEGLIGENT,UNCLASSIFIE</th>\n",
       "      <td>15</td>\n",
       "      <td>0.01%</td>\n",
       "    </tr>\n",
       "    <tr>\n",
       "      <th>LOITERING/GAMBLING (CARDS, DIC</th>\n",
       "      <td>14</td>\n",
       "      <td>0.01%</td>\n",
       "    </tr>\n",
       "    <tr>\n",
       "      <th>NEW YORK CITY HEALTH CODE</th>\n",
       "      <td>11</td>\n",
       "      <td>0.01%</td>\n",
       "    </tr>\n",
       "    <tr>\n",
       "      <th>ESCAPE 3</th>\n",
       "      <td>10</td>\n",
       "      <td>0.0%</td>\n",
       "    </tr>\n",
       "    <tr>\n",
       "      <th>KIDNAPPING</th>\n",
       "      <td>8</td>\n",
       "      <td>0.0%</td>\n",
       "    </tr>\n",
       "    <tr>\n",
       "      <th>ADMINISTRATIVE CODES</th>\n",
       "      <td>8</td>\n",
       "      <td>0.0%</td>\n",
       "    </tr>\n",
       "    <tr>\n",
       "      <th>DISRUPTION OF A RELIGIOUS SERV</th>\n",
       "      <td>6</td>\n",
       "      <td>0.0%</td>\n",
       "    </tr>\n",
       "    <tr>\n",
       "      <th>HOMICIDE-NEGLIGENT-VEHICLE</th>\n",
       "      <td>5</td>\n",
       "      <td>0.0%</td>\n",
       "    </tr>\n",
       "    <tr>\n",
       "      <th>PARKING OFFENSES</th>\n",
       "      <td>3</td>\n",
       "      <td>0.0%</td>\n",
       "    </tr>\n",
       "    <tr>\n",
       "      <th>NYS LAWS-UNCLASSIFIED VIOLATION</th>\n",
       "      <td>2</td>\n",
       "      <td>0.0%</td>\n",
       "    </tr>\n",
       "    <tr>\n",
       "      <th>LOITERING FOR DRUG PURPOSES</th>\n",
       "      <td>2</td>\n",
       "      <td>0.0%</td>\n",
       "    </tr>\n",
       "    <tr>\n",
       "      <th>UNLAWFUL POSS. WEAP. ON SCHOOL</th>\n",
       "      <td>1</td>\n",
       "      <td>0.0%</td>\n",
       "    </tr>\n",
       "  </tbody>\n",
       "</table>\n",
       "<p>64 rows × 2 columns</p>\n",
       "</div>"
      ],
      "text/plain": [
       "                                      counts percent\n",
       "ASSAULT 3 & RELATED OFFENSES           31988  15.01%\n",
       "PETIT LARCENY                          21627  10.15%\n",
       "DANGEROUS DRUGS                        21071   9.89%\n",
       "FELONY ASSAULT                         15208   7.14%\n",
       "VEHICLE AND TRAFFIC LAWS               14243   6.68%\n",
       "MISCELLANEOUS PENAL LAW                12325   5.78%\n",
       "CRIMINAL MISCHIEF & RELATED OF          9971   4.68%\n",
       "GRAND LARCENY                           9913   4.65%\n",
       "ROBBERY                                 9259   4.35%\n",
       "DANGEROUS WEAPONS                       7921   3.72%\n",
       "OFFENSES AGAINST PUBLIC ADMINI          7748   3.64%\n",
       "FORGERY                                 4799   2.25%\n",
       "INTOXICATED & IMPAIRED DRIVING          4653   2.18%\n",
       "BURGLARY                                4451   2.09%\n",
       "OTHER OFFENSES RELATED TO THEF          4262    2.0%\n",
       "OFF. AGNST PUB ORD SENSBLTY &           4222   1.98%\n",
       "SEX CRIMES                              4152   1.95%\n",
       "CRIMINAL TRESPASS                       3250   1.53%\n",
       "OTHER TRAFFIC INFRACTION                3125   1.47%\n",
       "POSSESSION OF STOLEN PROPERTY           2241   1.05%\n",
       "OFFENSES INVOLVING FRAUD                1204   0.57%\n",
       "NYS LAWS-UNCLASSIFIED FELONY            1165   0.55%\n",
       "OTHER STATE LAWS (NON PENAL LA          1135   0.53%\n",
       "GRAND LARCENY OF MOTOR VEHICLE          1114   0.52%\n",
       "PROSTITUTION & RELATED OFFENSES         1104   0.52%\n",
       "OFFENSES AGAINST THE PERSON             1031   0.48%\n",
       "MURDER & NON-NEGL. MANSLAUGHTE          1013   0.48%\n",
       "RAPE                                     900   0.42%\n",
       "FRAUDS                                   872   0.41%\n",
       "OTHER STATE LAWS                         826   0.39%\n",
       "...                                      ...     ...\n",
       "GAMBLING                                 645    0.3%\n",
       "INTOXICATED/IMPAIRED DRIVING             577   0.27%\n",
       "ALCOHOLIC BEVERAGE CONTROL LAW           542   0.25%\n",
       "THEFT OF SERVICES                        479   0.22%\n",
       "THEFT-FRAUD                              334   0.16%\n",
       "ARSON                                    140   0.07%\n",
       "FRAUDULENT ACCOSTING                     128   0.06%\n",
       "OFFENSES RELATED TO CHILDREN              95   0.04%\n",
       "AGRICULTURE & MRKTS LAW-UNCLASSIFIED      89   0.04%\n",
       "MOVING INFRACTIONS                        80   0.04%\n",
       "KIDNAPPING & RELATED OFFENSES             78   0.04%\n",
       "HARRASSMENT 2                             66   0.03%\n",
       "OFFENSES AGAINST PUBLIC SAFETY            62   0.03%\n",
       "ENDAN WELFARE INCOMP                      57   0.03%\n",
       "OTHER STATE LAWS (NON PENAL LAW)          38   0.02%\n",
       "JOSTLING                                  28   0.01%\n",
       "CHILD ABANDONMENT/NON SUPPORT             25   0.01%\n",
       "ANTICIPATORY OFFENSES                     22   0.01%\n",
       "HOMICIDE-NEGLIGENT,UNCLASSIFIE            15   0.01%\n",
       "LOITERING/GAMBLING (CARDS, DIC            14   0.01%\n",
       "NEW YORK CITY HEALTH CODE                 11   0.01%\n",
       "ESCAPE 3                                  10    0.0%\n",
       "KIDNAPPING                                 8    0.0%\n",
       "ADMINISTRATIVE CODES                       8    0.0%\n",
       "DISRUPTION OF A RELIGIOUS SERV             6    0.0%\n",
       "HOMICIDE-NEGLIGENT-VEHICLE                 5    0.0%\n",
       "PARKING OFFENSES                           3    0.0%\n",
       "NYS LAWS-UNCLASSIFIED VIOLATION            2    0.0%\n",
       "LOITERING FOR DRUG PURPOSES                2    0.0%\n",
       "UNLAWFUL POSS. WEAP. ON SCHOOL             1    0.0%\n",
       "\n",
       "[64 rows x 2 columns]"
      ]
     },
     "execution_count": 14,
     "metadata": {},
     "output_type": "execute_result"
    }
   ],
   "source": [
    "counts = nypd.OFNS_DESC.value_counts()\n",
    "percent = nypd.OFNS_DESC.value_counts(normalize = True).mul(100).round(2).astype(str) + '%'\n",
    "pd.DataFrame({'counts': counts, 'percent': percent})"
   ]
  },
  {
   "cell_type": "markdown",
   "metadata": {},
   "source": [
    "\n",
    "<font color = 'purple' > In 2019, the highest Offence in New York City was 'Assault related Offences which made up 15%, followed by Petit Larceny with 10%.<\\font>"
   ]
  },
  {
   "cell_type": "code",
   "execution_count": 15,
   "metadata": {},
   "outputs": [],
   "source": [
    "#change borough columns to make it clear\n",
    "borough= {'K': 'Brooklyn', 'M': 'Manhattan','B':'Bronx','Q':\"Queens\", 'S':'Staten Island'}\n",
    "nypd['ARREST_BORO'] = nypd['ARREST_BORO'].replace(borough)"
   ]
  },
  {
   "cell_type": "code",
   "execution_count": 16,
   "metadata": {},
   "outputs": [
    {
     "data": {
      "text/html": [
       "<div>\n",
       "<style scoped>\n",
       "    .dataframe tbody tr th:only-of-type {\n",
       "        vertical-align: middle;\n",
       "    }\n",
       "\n",
       "    .dataframe tbody tr th {\n",
       "        vertical-align: top;\n",
       "    }\n",
       "\n",
       "    .dataframe thead th {\n",
       "        text-align: right;\n",
       "    }\n",
       "</style>\n",
       "<table border=\"1\" class=\"dataframe\">\n",
       "  <thead>\n",
       "    <tr style=\"text-align: right;\">\n",
       "      <th></th>\n",
       "      <th>ARREST_BORO</th>\n",
       "    </tr>\n",
       "    <tr>\n",
       "      <th>ARREST_BORO</th>\n",
       "      <th></th>\n",
       "    </tr>\n",
       "  </thead>\n",
       "  <tbody>\n",
       "    <tr>\n",
       "      <th>Brooklyn</th>\n",
       "      <td>58077</td>\n",
       "    </tr>\n",
       "    <tr>\n",
       "      <th>Manhattan</th>\n",
       "      <td>53172</td>\n",
       "    </tr>\n",
       "    <tr>\n",
       "      <th>Bronx</th>\n",
       "      <td>48516</td>\n",
       "    </tr>\n",
       "    <tr>\n",
       "      <th>Queens</th>\n",
       "      <td>44329</td>\n",
       "    </tr>\n",
       "    <tr>\n",
       "      <th>Staten Island</th>\n",
       "      <td>8995</td>\n",
       "    </tr>\n",
       "  </tbody>\n",
       "</table>\n",
       "</div>"
      ],
      "text/plain": [
       "               ARREST_BORO\n",
       "ARREST_BORO               \n",
       "Brooklyn             58077\n",
       "Manhattan            53172\n",
       "Bronx                48516\n",
       "Queens               44329\n",
       "Staten Island         8995"
      ]
     },
     "execution_count": 16,
     "metadata": {},
     "output_type": "execute_result"
    }
   ],
   "source": [
    "#Looking at the number of arrests by borough\n",
    "arrest_by_boro = nypd.groupby('ARREST_BORO').ARREST_BORO.count()\n",
    "arrest_by_boro = pd.DataFrame(arrest_by_boro.sort_values(ascending = False))\n",
    "\n",
    "arrest_by_boro"
   ]
  },
  {
   "cell_type": "code",
   "execution_count": 20,
   "metadata": {},
   "outputs": [
    {
     "data": {
      "image/png": "[encoded data removed]",
      "text/plain": [
       "<Figure size 864x576 with 1 Axes>"
      ]
     },
     "metadata": {},
     "output_type": "display_data"
    }
   ],
   "source": [
    "plt.figure(figsize = (12,8))\n",
    "sns.countplot(nypd.ARREST_BORO, hue = nypd['ARREST_BORO'])\n",
    "plt.show()"
   ]
  },
  {
   "cell_type": "markdown",
   "metadata": {},
   "source": [
    "<font color = 'purple'> Brooklyn had 58,077 Offences, the highest number of Offences for the year 2019 as shown above, followed by Manhattan with 53,172, then the Bronx, Queens and Staten island, with 48,516, 44,329 and 8,995 respectively. Below is the graphical representation <font/>"
   ]
  },
  {
   "cell_type": "code",
   "execution_count": 25,
   "metadata": {},
   "outputs": [
    {
     "data": {
      "text/plain": [
       "ARREST_BORO  OFNS_DESC                   \n",
       "Bronx        ASSAULT 3 & RELATED OFFENSES    9176\n",
       "Manhattan    PETIT LARCENY                   8470\n",
       "Brooklyn     ASSAULT 3 & RELATED OFFENSES    8129\n",
       "Queens       ASSAULT 3 & RELATED OFFENSES    7169\n",
       "Bronx        DANGEROUS DRUGS                 6458\n",
       "Manhattan    ASSAULT 3 & RELATED OFFENSES    6314\n",
       "Brooklyn     DANGEROUS DRUGS                 5402\n",
       "Manhattan    DANGEROUS DRUGS                 5302\n",
       "Brooklyn     PETIT LARCENY                   4914\n",
       "             MISCELLANEOUS PENAL LAW         4567\n",
       "Manhattan    GRAND LARCENY                   4437\n",
       "Brooklyn     FELONY ASSAULT                  4424\n",
       "Bronx        FELONY ASSAULT                  4024\n",
       "Queens       PETIT LARCENY                   3756\n",
       "             VEHICLE AND TRAFFIC LAWS        3679\n",
       "Bronx        PETIT LARCENY                   3623\n",
       "Queens       MISCELLANEOUS PENAL LAW         3484\n",
       "Brooklyn     VEHICLE AND TRAFFIC LAWS        3381\n",
       "Queens       FELONY ASSAULT                  3363\n",
       "Manhattan    VEHICLE AND TRAFFIC LAWS        3250\n",
       "Name: OFNS_DESC, dtype: int64"
      ]
     },
     "execution_count": 25,
     "metadata": {},
     "output_type": "execute_result"
    }
   ],
   "source": [
    "#Looking at offenses by borough\n",
    "nypd.groupby('ARREST_BORO')['OFNS_DESC'].value_counts().sort_values(ascending = False)[:20] #Show 20 "
   ]
  },
  {
   "cell_type": "markdown",
   "metadata": {},
   "source": [
    "Assault 3 & related Offenses topped the chart for most frequently occuring Offenses in 2019, with the Bronx in the lead, followed by Brooklyn and Queens."
   ]
  },
  {
   "cell_type": "code",
   "execution_count": 19,
   "metadata": {},
   "outputs": [],
   "source": [
    "#Count the crimes by the different races\n",
    "#nypd.PERP_RACE, Not sure what this data is telling us."
   ]
  },
  {
   "cell_type": "code",
   "execution_count": 78,
   "metadata": {},
   "outputs": [
    {
     "data": {
      "text/html": [
       "<div>\n",
       "<style scoped>\n",
       "    .dataframe tbody tr th:only-of-type {\n",
       "        vertical-align: middle;\n",
       "    }\n",
       "\n",
       "    .dataframe tbody tr th {\n",
       "        vertical-align: top;\n",
       "    }\n",
       "\n",
       "    .dataframe thead th {\n",
       "        text-align: right;\n",
       "    }\n",
       "</style>\n",
       "<table border=\"1\" class=\"dataframe\">\n",
       "  <thead>\n",
       "    <tr style=\"text-align: right;\">\n",
       "      <th></th>\n",
       "      <th>counts</th>\n",
       "      <th>percent</th>\n",
       "    </tr>\n",
       "  </thead>\n",
       "  <tbody>\n",
       "    <tr>\n",
       "      <th>M</th>\n",
       "      <td>173964</td>\n",
       "      <td>81.64%</td>\n",
       "    </tr>\n",
       "    <tr>\n",
       "      <th>F</th>\n",
       "      <td>39125</td>\n",
       "      <td>18.36%</td>\n",
       "    </tr>\n",
       "  </tbody>\n",
       "</table>\n",
       "</div>"
      ],
      "text/plain": [
       "   counts percent\n",
       "M  173964  81.64%\n",
       "F   39125  18.36%"
      ]
     },
     "execution_count": 78,
     "metadata": {},
     "output_type": "execute_result"
    }
   ],
   "source": [
    "#Count the crimes by the different genders\n",
    "#nypd.PERP_SEX.value_counts()\n",
    "counts = nypd.PERP_SEX.value_counts()\n",
    "percent = nypd.PERP_SEX.value_counts(normalize = True).mul(100).round(2).astype(str) + '%'\n",
    "pd.DataFrame({'counts': counts, 'percent': percent})"
   ]
  },
  {
   "cell_type": "markdown",
   "metadata": {},
   "source": [
    "Males are four times more likely to be arrested than females."
   ]
  },
  {
   "cell_type": "code",
   "execution_count": 21,
   "metadata": {},
   "outputs": [
    {
     "data": {
      "image/png": "[encoded data removed]",
      "text/plain": [
       "<Figure size 864x576 with 1 Axes>"
      ]
     },
     "metadata": {
      "needs_background": "light"
     },
     "output_type": "display_data"
    }
   ],
   "source": [
    "plt.figure(figsize = (12,8))\n",
    "sns.countplot(nypd.PERP_SEX, hue = nypd['PERP_SEX'])\n",
    "plt.show()"
   ]
  },
  {
   "cell_type": "markdown",
   "metadata": {},
   "source": [
    "<font color = 'Purple' >The visualization above shows that there is a great disparity between Males being Arrested in 2019 and Females.Approximately 82% of males <font/>"
   ]
  },
  {
   "cell_type": "code",
   "execution_count": 22,
   "metadata": {},
   "outputs": [
    {
     "data": {
      "text/html": [
       "<div>\n",
       "<style scoped>\n",
       "    .dataframe tbody tr th:only-of-type {\n",
       "        vertical-align: middle;\n",
       "    }\n",
       "\n",
       "    .dataframe tbody tr th {\n",
       "        vertical-align: top;\n",
       "    }\n",
       "\n",
       "    .dataframe thead th {\n",
       "        text-align: right;\n",
       "    }\n",
       "</style>\n",
       "<table border=\"1\" class=\"dataframe\">\n",
       "  <thead>\n",
       "    <tr style=\"text-align: right;\">\n",
       "      <th></th>\n",
       "      <th>counts</th>\n",
       "      <th>percent</th>\n",
       "    </tr>\n",
       "  </thead>\n",
       "  <tbody>\n",
       "    <tr>\n",
       "      <th>BLACK</th>\n",
       "      <td>101979</td>\n",
       "      <td>47.86%</td>\n",
       "    </tr>\n",
       "    <tr>\n",
       "      <th>WHITE HISPANIC</th>\n",
       "      <td>53265</td>\n",
       "      <td>25.0%</td>\n",
       "    </tr>\n",
       "    <tr>\n",
       "      <th>WHITE</th>\n",
       "      <td>25284</td>\n",
       "      <td>11.87%</td>\n",
       "    </tr>\n",
       "    <tr>\n",
       "      <th>BLACK HISPANIC</th>\n",
       "      <td>18550</td>\n",
       "      <td>8.71%</td>\n",
       "    </tr>\n",
       "    <tr>\n",
       "      <th>ASIAN / PACIFIC ISLANDER</th>\n",
       "      <td>12013</td>\n",
       "      <td>5.64%</td>\n",
       "    </tr>\n",
       "    <tr>\n",
       "      <th>UNKNOWN</th>\n",
       "      <td>1401</td>\n",
       "      <td>0.66%</td>\n",
       "    </tr>\n",
       "    <tr>\n",
       "      <th>AMERICAN INDIAN/ALASKAN NATIVE</th>\n",
       "      <td>597</td>\n",
       "      <td>0.28%</td>\n",
       "    </tr>\n",
       "  </tbody>\n",
       "</table>\n",
       "</div>"
      ],
      "text/plain": [
       "                                counts percent\n",
       "BLACK                           101979  47.86%\n",
       "WHITE HISPANIC                   53265   25.0%\n",
       "WHITE                            25284  11.87%\n",
       "BLACK HISPANIC                   18550   8.71%\n",
       "ASIAN / PACIFIC ISLANDER         12013   5.64%\n",
       "UNKNOWN                           1401   0.66%\n",
       "AMERICAN INDIAN/ALASKAN NATIVE     597   0.28%"
      ]
     },
     "execution_count": 22,
     "metadata": {},
     "output_type": "execute_result"
    }
   ],
   "source": [
    "counts = nypd.PERP_RACE.value_counts()\n",
    "percent = nypd.PERP_RACE.value_counts(normalize = True).mul(100).round(2).astype(str) + '%'\n",
    "pd.DataFrame({'counts': counts, 'percent': percent})"
   ]
  },
  {
   "cell_type": "code",
   "execution_count": 23,
   "metadata": {},
   "outputs": [],
   "source": [
    "#What is the relationship between level_of_offense (felony, misdemeanor) and race?\n",
    "\n",
    "# nypd.LAW_CAT_CD\n",
    "#.PERP_RACE.value_counts()"
   ]
  },
  {
   "cell_type": "code",
   "execution_count": 24,
   "metadata": {},
   "outputs": [
    {
     "data": {
      "image/png": "[encoded data removed]",
      "text/plain": [
       "<Figure size 1008x576 with 1 Axes>"
      ]
     },
     "metadata": {
      "needs_background": "light"
     },
     "output_type": "display_data"
    }
   ],
   "source": [
    "plt.figure(figsize = (14,8))\n",
    "sns.countplot(nypd.PERP_RACE, hue = nypd['PERP_RACE'])\n",
    "plt.show()"
   ]
  },
  {
   "cell_type": "markdown",
   "metadata": {},
   "source": [
    "<font color = 'purple'>According to the data, There were approximately 48% Arrest of blacks in New York City for the year 2019, followed by white Hispanics with 25%.<font/>"
   ]
  },
  {
   "cell_type": "code",
   "execution_count": 25,
   "metadata": {},
   "outputs": [
    {
     "data": {
      "text/plain": [
       "array(['25-44', '18-24', '45-64', '<18', '65+'], dtype=object)"
      ]
     },
     "execution_count": 25,
     "metadata": {},
     "output_type": "execute_result"
    }
   ],
   "source": [
    "nypd.AGE_GROUP.unique()"
   ]
  },
  {
   "cell_type": "code",
   "execution_count": 26,
   "metadata": {},
   "outputs": [
    {
     "data": {
      "text/plain": [
       "25-44    113292\n",
       "18-24     43275\n",
       "45-64     43249\n",
       "<18       10260\n",
       "65+        3013\n",
       "Name: AGE_GROUP, dtype: int64"
      ]
     },
     "execution_count": 26,
     "metadata": {},
     "output_type": "execute_result"
    }
   ],
   "source": [
    "nypd.AGE_GROUP.value_counts()"
   ]
  },
  {
   "cell_type": "code",
   "execution_count": 27,
   "metadata": {},
   "outputs": [
    {
     "data": {
      "image/png": "[encoded data removed]",
      "text/plain": [
       "<Figure size 1008x576 with 1 Axes>"
      ]
     },
     "metadata": {
      "needs_background": "light"
     },
     "output_type": "display_data"
    }
   ],
   "source": [
    "plt.figure(figsize = (14,8))\n",
    "sns.countplot(nypd.AGE_GROUP, hue = nypd['AGE_GROUP'])\n",
    "plt.show()"
   ]
  },
  {
   "cell_type": "code",
   "execution_count": 28,
   "metadata": {},
   "outputs": [
    {
     "data": {
      "text/plain": [
       "AGE_GROUP  PERP_RACE                     \n",
       "25-44      BLACK                             51943\n",
       "           WHITE HISPANIC                    29767\n",
       "18-24      BLACK                             21972\n",
       "45-64      BLACK                             20685\n",
       "25-44      WHITE                             14187\n",
       "18-24      WHITE HISPANIC                    10700\n",
       "45-64      WHITE HISPANIC                    10022\n",
       "25-44      BLACK HISPANIC                     9982\n",
       "45-64      WHITE                              6651\n",
       "25-44      ASIAN / PACIFIC ISLANDER           6292\n",
       "<18        BLACK                              6241\n",
       "18-24      BLACK HISPANIC                     4548\n",
       "           WHITE                              3230\n",
       "45-64      BLACK HISPANIC                     2853\n",
       "           ASIAN / PACIFIC ISLANDER           2657\n",
       "18-24      ASIAN / PACIFIC ISLANDER           2397\n",
       "<18        WHITE HISPANIC                     2156\n",
       "65+        BLACK                              1138\n",
       "<18        BLACK HISPANIC                      978\n",
       "25-44      UNKNOWN                             809\n",
       "65+        WHITE                               781\n",
       "           WHITE HISPANIC                      620\n",
       "<18        WHITE                               435\n",
       "           ASIAN / PACIFIC ISLANDER            399\n",
       "25-44      AMERICAN INDIAN/ALASKAN NATIVE      312\n",
       "18-24      UNKNOWN                             284\n",
       "65+        ASIAN / PACIFIC ISLANDER            268\n",
       "45-64      UNKNOWN                             263\n",
       "65+        BLACK HISPANIC                      189\n",
       "18-24      AMERICAN INDIAN/ALASKAN NATIVE      144\n",
       "45-64      AMERICAN INDIAN/ALASKAN NATIVE      118\n",
       "<18        UNKNOWN                              34\n",
       "           AMERICAN INDIAN/ALASKAN NATIVE       17\n",
       "65+        UNKNOWN                              11\n",
       "           AMERICAN INDIAN/ALASKAN NATIVE        6\n",
       "Name: PERP_RACE, dtype: int64"
      ]
     },
     "execution_count": 28,
     "metadata": {},
     "output_type": "execute_result"
    }
   ],
   "source": [
    "nypd.groupby('AGE_GROUP').PERP_RACE.value_counts().sort_values(ascending = False)"
   ]
  },
  {
   "cell_type": "markdown",
   "metadata": {},
   "source": [
    "<font color ='purple'>The majority of arrests were between those ages 25-44 years for the year 2019. Blacks made up the  majority with 51,943 instances.<font/>   "
   ]
  },
  {
   "cell_type": "code",
   "execution_count": 29,
   "metadata": {},
   "outputs": [
    {
     "data": {
      "text/plain": [
       "ARREST_KEY           34128\n",
       "ARREST_DATE          34128\n",
       "PD_CD                34128\n",
       "PD_DESC              34128\n",
       "KY_CD                34128\n",
       "OFNS_DESC            34128\n",
       "LAW_CODE             34128\n",
       "LAW_CAT_CD           34128\n",
       "ARREST_BORO          34128\n",
       "ARREST_PRECINCT      34128\n",
       "JURISDICTION_CODE    34128\n",
       "AGE_GROUP            34128\n",
       "PERP_SEX             34128\n",
       "PERP_RACE            34128\n",
       "X_COORD_CD           34128\n",
       "Y_COORD_CD           34128\n",
       "Latitude             34128\n",
       "Longitude            34128\n",
       "dtype: int64"
      ]
     },
     "execution_count": 29,
     "metadata": {},
     "output_type": "execute_result"
    }
   ],
   "source": [
    "KBlack= nypd[(nypd['ARREST_BORO'] == 'Brooklyn') & (nypd['PERP_RACE'] == 'BLACK')].count()\n",
    "KBlack"
   ]
  },
  {
   "cell_type": "markdown",
   "metadata": {},
   "source": [
    "<font color = 'purple'> Of the 58,077 Arrests in Brooklyn in 2019, 34,128 were Blacks. This is about 58% . The question is why? Why are blacks being disportionately Arrested in every category? </font>"
   ]
  },
  {
   "cell_type": "code",
   "execution_count": 30,
   "metadata": {},
   "outputs": [
    {
     "data": {
      "text/plain": [
       "ARREST_PRECINCT  ARREST_BORO\n",
       "40               Bronx          7077\n",
       "44               Bronx          6431\n",
       "14               Manhattan      6024\n",
       "75               Brooklyn       6010\n",
       "113              Queens         5993\n",
       "                                ... \n",
       "111              Queens          934\n",
       "22               Manhattan        88\n",
       "114              Manhattan        29\n",
       "106              Brooklyn          1\n",
       "10               Bronx             1\n",
       "Name: ARREST_BORO, Length: 80, dtype: int64"
      ]
     },
     "execution_count": 30,
     "metadata": {},
     "output_type": "execute_result"
    }
   ],
   "source": [
    "nypd.groupby('ARREST_PRECINCT')['ARREST_BORO'].value_counts().sort_values(ascending = False)"
   ]
  },
  {
   "cell_type": "markdown",
   "metadata": {},
   "source": [
    "<font color = 'purple' > Arrest Precint number 40, 44, 14, 75, 113 ranked highest in Arrests, with precinct # 40 in the Bronx arresting the highest number of persons for the year 2019.</font>"
   ]
  },
  {
   "cell_type": "code",
   "execution_count": 31,
   "metadata": {},
   "outputs": [
    {
     "data": {
      "text/plain": [
       "ARREST_BORO    OFNS_DESC                       \n",
       "Bronx          ASSAULT 3 & RELATED OFFENSES        9176\n",
       "Manhattan      PETIT LARCENY                       8470\n",
       "Brooklyn       ASSAULT 3 & RELATED OFFENSES        8129\n",
       "Queens         ASSAULT 3 & RELATED OFFENSES        7169\n",
       "Bronx          DANGEROUS DRUGS                     6458\n",
       "                                                   ... \n",
       "Queens         DISRUPTION OF A RELIGIOUS SERV         1\n",
       "Manhattan      UNLAWFUL POSS. WEAP. ON SCHOOL         1\n",
       "               DISRUPTION OF A RELIGIOUS SERV         1\n",
       "Staten Island  KIDNAPPING                             1\n",
       "               OTHER STATE LAWS (NON PENAL LAW)       1\n",
       "Name: OFNS_DESC, Length: 285, dtype: int64"
      ]
     },
     "execution_count": 31,
     "metadata": {},
     "output_type": "execute_result"
    }
   ],
   "source": [
    "nypd.groupby('ARREST_BORO')['OFNS_DESC'].value_counts().sort_values(ascending = False)"
   ]
  },
  {
   "cell_type": "code",
   "execution_count": 32,
   "metadata": {},
   "outputs": [],
   "source": [
    "Offence_level= {'F': 'Felony', 'M': 'Misdemeanor','V':'Violation'}\n",
    "nypd['LAW_CAT_CD'] = nypd['LAW_CAT_CD'].replace(Offence_level)"
   ]
  },
  {
   "cell_type": "code",
   "execution_count": 33,
   "metadata": {},
   "outputs": [
    {
     "data": {
      "text/html": [
       "<div>\n",
       "<style scoped>\n",
       "    .dataframe tbody tr th:only-of-type {\n",
       "        vertical-align: middle;\n",
       "    }\n",
       "\n",
       "    .dataframe tbody tr th {\n",
       "        vertical-align: top;\n",
       "    }\n",
       "\n",
       "    .dataframe thead th {\n",
       "        text-align: right;\n",
       "    }\n",
       "</style>\n",
       "<table border=\"1\" class=\"dataframe\">\n",
       "  <thead>\n",
       "    <tr style=\"text-align: right;\">\n",
       "      <th></th>\n",
       "      <th>counts</th>\n",
       "      <th>percent</th>\n",
       "    </tr>\n",
       "  </thead>\n",
       "  <tbody>\n",
       "    <tr>\n",
       "      <th>Misdemeanor</th>\n",
       "      <td>126590</td>\n",
       "      <td>59.41%</td>\n",
       "    </tr>\n",
       "    <tr>\n",
       "      <th>Felony</th>\n",
       "      <td>83244</td>\n",
       "      <td>39.07%</td>\n",
       "    </tr>\n",
       "    <tr>\n",
       "      <th>Violation</th>\n",
       "      <td>2822</td>\n",
       "      <td>1.32%</td>\n",
       "    </tr>\n",
       "    <tr>\n",
       "      <th>I</th>\n",
       "      <td>433</td>\n",
       "      <td>0.2%</td>\n",
       "    </tr>\n",
       "  </tbody>\n",
       "</table>\n",
       "</div>"
      ],
      "text/plain": [
       "             counts percent\n",
       "Misdemeanor  126590  59.41%\n",
       "Felony        83244  39.07%\n",
       "Violation      2822   1.32%\n",
       "I               433    0.2%"
      ]
     },
     "execution_count": 33,
     "metadata": {},
     "output_type": "execute_result"
    }
   ],
   "source": [
    "counts = nypd.LAW_CAT_CD.value_counts()\n",
    "percent = nypd.LAW_CAT_CD.value_counts(normalize = True).mul(100).round(2).astype(str) + '%'\n",
    "pd.DataFrame({'counts': counts, 'percent': percent})"
   ]
  },
  {
   "cell_type": "code",
   "execution_count": 34,
   "metadata": {},
   "outputs": [
    {
     "data": {
      "image/png": "[encoded data removed]",
      "text/plain": [
       "<Figure size 864x576 with 1 Axes>"
      ]
     },
     "metadata": {
      "needs_background": "light"
     },
     "output_type": "display_data"
    }
   ],
   "source": [
    "plt.figure(figsize = (12,8))\n",
    "sns.countplot(nypd.LAW_CAT_CD, hue = nypd['LAW_CAT_CD'])\n",
    "plt.show()"
   ]
  },
  {
   "cell_type": "markdown",
   "metadata": {},
   "source": [
    "<font color = 'purple'>Overall in 2019 there were less Violent Crime(Felony), and more minor wrong doing(Misdemeanor) as shown above with 59.41% .<font/>"
   ]
  },
  {
   "cell_type": "code",
   "execution_count": 35,
   "metadata": {},
   "outputs": [
    {
     "data": {
      "text/plain": [
       "LAW_CAT_CD   PERP_RACE                     \n",
       "Misdemeanor  BLACK                             57446\n",
       "Felony       BLACK                             43173\n",
       "Misdemeanor  WHITE HISPANIC                    32966\n",
       "Felony       WHITE HISPANIC                    19542\n",
       "Misdemeanor  WHITE                             16258\n",
       "             BLACK HISPANIC                    11028\n",
       "Felony       WHITE                              8208\n",
       "Misdemeanor  ASIAN / PACIFIC ISLANDER           7564\n",
       "Felony       BLACK HISPANIC                     7333\n",
       "             ASIAN / PACIFIC ISLANDER           4353\n",
       "Violation    BLACK                              1203\n",
       "Misdemeanor  UNKNOWN                             907\n",
       "Violation    WHITE                               754\n",
       "             WHITE HISPANIC                      617\n",
       "Felony       UNKNOWN                             466\n",
       "Misdemeanor  AMERICAN INDIAN/ALASKAN NATIVE      421\n",
       "Felony       AMERICAN INDIAN/ALASKAN NATIVE      169\n",
       "Violation    BLACK HISPANIC                      158\n",
       "I            BLACK                               157\n",
       "             WHITE HISPANIC                      140\n",
       "             WHITE                                64\n",
       "Violation    ASIAN / PACIFIC ISLANDER             61\n",
       "I            ASIAN / PACIFIC ISLANDER             35\n",
       "             BLACK HISPANIC                       31\n",
       "Violation    UNKNOWN                              22\n",
       "             AMERICAN INDIAN/ALASKAN NATIVE        7\n",
       "I            UNKNOWN                               6\n",
       "Name: PERP_RACE, dtype: int64"
      ]
     },
     "execution_count": 35,
     "metadata": {},
     "output_type": "execute_result"
    }
   ],
   "source": [
    "nypd.groupby('LAW_CAT_CD')['PERP_RACE'].value_counts().sort_values(ascending = False)"
   ]
  },
  {
   "cell_type": "markdown",
   "metadata": {},
   "source": [
    "<font color = 'purple'> Blacks were arrested with the most Misdemeanor charges(minor wrong doing), than any other group in 2019. They were also rated highest for more serious crimes(felony).<font/>"
   ]
  },
  {
   "cell_type": "code",
   "execution_count": 36,
   "metadata": {},
   "outputs": [
    {
     "data": {
      "text/plain": [
       "LAW_CAT_CD   ARREST_BORO  \n",
       "Misdemeanor  Manhattan        33066\n",
       "             Bronx            30705\n",
       "             Brooklyn         30613\n",
       "             Queens           26790\n",
       "Felony       Brooklyn         26092\n",
       "             Manhattan        18979\n",
       "             Bronx            17560\n",
       "             Queens           17068\n",
       "Misdemeanor  Staten Island     5416\n",
       "Felony       Staten Island     3545\n",
       "Violation    Brooklyn          1152\n",
       "             Manhattan         1065\n",
       "             Queens             359\n",
       "             Bronx              223\n",
       "I            Brooklyn           220\n",
       "             Queens             112\n",
       "             Manhattan           62\n",
       "             Bronx               28\n",
       "Violation    Staten Island       23\n",
       "I            Staten Island       11\n",
       "Name: ARREST_BORO, dtype: int64"
      ]
     },
     "execution_count": 36,
     "metadata": {},
     "output_type": "execute_result"
    }
   ],
   "source": [
    "nypd.groupby('LAW_CAT_CD')['ARREST_BORO'].value_counts().sort_values(ascending = False)"
   ]
  },
  {
   "cell_type": "markdown",
   "metadata": {},
   "source": [
    "<font color = 'purple'> Brooklyn had the most violent crimes (Felony) with 26,092 occurrences in 2019, out of a total of 83,244 as shown above.</font>"
   ]
  },
  {
   "cell_type": "code",
   "execution_count": 44,
   "metadata": {},
   "outputs": [
    {
     "data": {
      "text/plain": [
       "ARREST_DATE\n",
       "2019-05-02    877\n",
       "2019-04-17    868\n",
       "2019-01-10    846\n",
       "2019-01-23    834\n",
       "2019-07-24    832\n",
       "             ... \n",
       "2019-12-29    292\n",
       "2019-12-31    259\n",
       "2019-11-28    242\n",
       "2019-12-24    234\n",
       "2019-12-25    178\n",
       "Name: ARREST_DATE, Length: 365, dtype: int64"
      ]
     },
     "execution_count": 44,
     "metadata": {},
     "output_type": "execute_result"
    }
   ],
   "source": [
    "nypd.groupby('ARREST_DATE').ARREST_DATE.count().sort_values(ascending = False)"
   ]
  },
  {
   "cell_type": "markdown",
   "metadata": {},
   "source": [
    "<font color = 'purple'> The results above suggests that on May, 2nd 2019 there were 877 arrests,  the highest number for the year, followed by 868 on April 17th. Data is showing that there were more arrests/crimes committed during the first quarter of the year/Winter-spring seasons.<font/>\n",
    "\n"
   ]
  },
  {
   "cell_type": "code",
   "execution_count": 48,
   "metadata": {},
   "outputs": [
    {
     "data": {
      "text/plain": [
       "LAW_CAT_CD   ARREST_DATE\n",
       "Misdemeanor  2019-01-23     497\n",
       "             2019-05-02     495\n",
       "             2019-01-10     493\n",
       "             2019-04-10     488\n",
       "             2019-01-03     479\n",
       "                           ... \n",
       "I            2019-05-05       1\n",
       "             2019-05-06       1\n",
       "             2019-05-09       1\n",
       "             2019-05-12       1\n",
       "Violation    2019-12-31       1\n",
       "Name: ARREST_DATE, Length: 1344, dtype: int64"
      ]
     },
     "execution_count": 48,
     "metadata": {},
     "output_type": "execute_result"
    }
   ],
   "source": [
    "nypd.groupby('LAW_CAT_CD')['ARREST_DATE'].value_counts().sort_values(ascending = False)\n"
   ]
  },
  {
   "cell_type": "markdown",
   "metadata": {},
   "source": [
    "<font color = 'purple' >There were more misdemeanors in the first quarter of 2019. None serious Arrests. <font>"
   ]
  },
  {
   "cell_type": "code",
   "execution_count": 51,
   "metadata": {},
   "outputs": [
    {
     "data": {
      "text/plain": [
       "ARREST_BORO    ARREST_DATE\n",
       "Brooklyn       2019-03-11     306\n",
       "               2019-08-14     271\n",
       "               2019-01-23     263\n",
       "Manhattan      2019-04-24     262\n",
       "               2019-10-10     257\n",
       "                             ... \n",
       "Staten Island  2019-12-24       9\n",
       "               2019-12-26       8\n",
       "               2019-07-27       8\n",
       "               2019-12-01       7\n",
       "               2019-02-20       5\n",
       "Name: ARREST_DATE, Length: 1825, dtype: int64"
      ]
     },
     "execution_count": 51,
     "metadata": {},
     "output_type": "execute_result"
    }
   ],
   "source": [
    "nypd.groupby('ARREST_BORO')['ARREST_DATE'].value_counts().sort_values(ascending = False)"
   ]
  },
  {
   "cell_type": "markdown",
   "metadata": {},
   "source": [
    "Most of those Arrest were in the Brooklyn Boro."
   ]
  },
  {
   "cell_type": "code",
   "execution_count": 77,
   "metadata": {},
   "outputs": [
    {
     "data": {
      "text/plain": [
       "PERP_RACE                       ARREST_DATE\n",
       "BLACK                           2019-07-24     446\n",
       "                                2019-04-03     442\n",
       "                                2019-08-14     425\n",
       "                                2019-01-23     422\n",
       "                                2019-04-30     408\n",
       "                                              ... \n",
       "AMERICAN INDIAN/ALASKAN NATIVE  2019-09-16       1\n",
       "                                2019-09-21       1\n",
       "                                2019-09-23       1\n",
       "                                2019-09-24       1\n",
       "                                2019-11-18       1\n",
       "Name: ARREST_DATE, Length: 2443, dtype: int64"
      ]
     },
     "execution_count": 77,
     "metadata": {},
     "output_type": "execute_result"
    }
   ],
   "source": [
    "nypd.groupby('PERP_RACE')['ARREST_DATE'].value_counts().sort_values(ascending = False)"
   ]
  },
  {
   "cell_type": "markdown",
   "metadata": {},
   "source": [
    "<font color = 'purple'>Data is showing that more blacks were arrested during the spring and summer periods.<font/>"
   ]
  },
  {
   "cell_type": "code",
   "execution_count": null,
   "metadata": {},
   "outputs": [],
   "source": []
  }
 ],
 "metadata": {
  "kernelspec": {
   "display_name": "Python 3",
   "language": "python",
   "name": "python3"
  },
  "language_info": {
   "codemirror_mode": {
    "name": "ipython",
    "version": 3
   },
   "file_extension": ".py",
   "mimetype": "text/x-python",
   "name": "python",
   "nbconvert_exporter": "python",
   "pygments_lexer": "ipython3",
   "version": "3.6.8"
  }
 },
 "nbformat": 4,
 "nbformat_minor": 4
}
