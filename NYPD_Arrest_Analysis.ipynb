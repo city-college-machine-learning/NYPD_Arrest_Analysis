{
 "cells": [
  {
   "cell_type": "code",
   "execution_count": 16,
   "metadata": {},
   "outputs": [],
   "source": [
    "import pandas as pd\n",
    "import numpy as np\n",
    "import matplotlib.pyplot as plt\n",
    "%matplotlib inline\n",
    "import seaborn as sns\n",
    "from datetime import datetime"
   ]
  },
  {
   "cell_type": "code",
   "execution_count": 17,
   "metadata": {},
   "outputs": [],
   "source": [
    "#Load the arrest data\n",
    "nypd = pd.read_csv('NYPD_Arrest_Data__Year_to_Date_.csv')"
   ]
  },
  {
   "cell_type": "code",
   "execution_count": 18,
   "metadata": {},
   "outputs": [
    {
     "data": {
      "text/html": [
       "<div>\n",
       "<style scoped>\n",
       "    .dataframe tbody tr th:only-of-type {\n",
       "        vertical-align: middle;\n",
       "    }\n",
       "\n",
       "    .dataframe tbody tr th {\n",
       "        vertical-align: top;\n",
       "    }\n",
       "\n",
       "    .dataframe thead th {\n",
       "        text-align: right;\n",
       "    }\n",
       "</style>\n",
       "<table border=\"1\" class=\"dataframe\">\n",
       "  <thead>\n",
       "    <tr style=\"text-align: right;\">\n",
       "      <th></th>\n",
       "      <th>ARREST_KEY</th>\n",
       "      <th>ARREST_DATE</th>\n",
       "      <th>PD_CD</th>\n",
       "      <th>PD_DESC</th>\n",
       "      <th>KY_CD</th>\n",
       "      <th>OFNS_DESC</th>\n",
       "      <th>LAW_CODE</th>\n",
       "      <th>LAW_CAT_CD</th>\n",
       "      <th>ARREST_BORO</th>\n",
       "      <th>ARREST_PRECINCT</th>\n",
       "      <th>JURISDICTION_CODE</th>\n",
       "      <th>AGE_GROUP</th>\n",
       "      <th>PERP_SEX</th>\n",
       "      <th>PERP_RACE</th>\n",
       "      <th>X_COORD_CD</th>\n",
       "      <th>Y_COORD_CD</th>\n",
       "      <th>Latitude</th>\n",
       "      <th>Longitude</th>\n",
       "    </tr>\n",
       "  </thead>\n",
       "  <tbody>\n",
       "    <tr>\n",
       "      <th>0</th>\n",
       "      <td>206892169</td>\n",
       "      <td>12/31/2019</td>\n",
       "      <td>907.0</td>\n",
       "      <td>IMPAIRED DRIVING,DRUG</td>\n",
       "      <td>347.0</td>\n",
       "      <td>INTOXICATED &amp; IMPAIRED DRIVING</td>\n",
       "      <td>VTL11920U4</td>\n",
       "      <td>M</td>\n",
       "      <td>M</td>\n",
       "      <td>33</td>\n",
       "      <td>0</td>\n",
       "      <td>25-44</td>\n",
       "      <td>M</td>\n",
       "      <td>WHITE</td>\n",
       "      <td>1000916</td>\n",
       "      <td>245710</td>\n",
       "      <td>40.841085</td>\n",
       "      <td>-73.939769</td>\n",
       "    </tr>\n",
       "    <tr>\n",
       "      <th>1</th>\n",
       "      <td>206888084</td>\n",
       "      <td>12/31/2019</td>\n",
       "      <td>739.0</td>\n",
       "      <td>FRAUD,UNCLASSIFIED-FELONY</td>\n",
       "      <td>112.0</td>\n",
       "      <td>THEFT-FRAUD</td>\n",
       "      <td>PL 1908301</td>\n",
       "      <td>F</td>\n",
       "      <td>Q</td>\n",
       "      <td>101</td>\n",
       "      <td>0</td>\n",
       "      <td>25-44</td>\n",
       "      <td>M</td>\n",
       "      <td>BLACK HISPANIC</td>\n",
       "      <td>1055868</td>\n",
       "      <td>156522</td>\n",
       "      <td>40.596012</td>\n",
       "      <td>-73.742116</td>\n",
       "    </tr>\n",
       "    <tr>\n",
       "      <th>2</th>\n",
       "      <td>206890433</td>\n",
       "      <td>12/31/2019</td>\n",
       "      <td>122.0</td>\n",
       "      <td>HOMICIDE, NEGLIGENT, VEHICLE,</td>\n",
       "      <td>102.0</td>\n",
       "      <td>HOMICIDE-NEGLIGENT-VEHICLE</td>\n",
       "      <td>PL 1251201</td>\n",
       "      <td>F</td>\n",
       "      <td>M</td>\n",
       "      <td>23</td>\n",
       "      <td>0</td>\n",
       "      <td>18-24</td>\n",
       "      <td>M</td>\n",
       "      <td>BLACK</td>\n",
       "      <td>997462</td>\n",
       "      <td>227024</td>\n",
       "      <td>40.789803</td>\n",
       "      <td>-73.952289</td>\n",
       "    </tr>\n",
       "    <tr>\n",
       "      <th>3</th>\n",
       "      <td>206890441</td>\n",
       "      <td>12/31/2019</td>\n",
       "      <td>268.0</td>\n",
       "      <td>CRIMINAL MIS 2 &amp; 3</td>\n",
       "      <td>121.0</td>\n",
       "      <td>CRIMINAL MISCHIEF &amp; RELATED OF</td>\n",
       "      <td>PL 1450502</td>\n",
       "      <td>F</td>\n",
       "      <td>S</td>\n",
       "      <td>120</td>\n",
       "      <td>0</td>\n",
       "      <td>18-24</td>\n",
       "      <td>M</td>\n",
       "      <td>BLACK</td>\n",
       "      <td>962822</td>\n",
       "      <td>174282</td>\n",
       "      <td>40.645023</td>\n",
       "      <td>-74.077217</td>\n",
       "    </tr>\n",
       "    <tr>\n",
       "      <th>4</th>\n",
       "      <td>206890973</td>\n",
       "      <td>12/31/2019</td>\n",
       "      <td>101.0</td>\n",
       "      <td>ASSAULT 3</td>\n",
       "      <td>344.0</td>\n",
       "      <td>ASSAULT 3 &amp; RELATED OFFENSES</td>\n",
       "      <td>PL 1200001</td>\n",
       "      <td>M</td>\n",
       "      <td>M</td>\n",
       "      <td>25</td>\n",
       "      <td>97</td>\n",
       "      <td>25-44</td>\n",
       "      <td>M</td>\n",
       "      <td>BLACK</td>\n",
       "      <td>1004138</td>\n",
       "      <td>226326</td>\n",
       "      <td>40.787875</td>\n",
       "      <td>-73.928182</td>\n",
       "    </tr>\n",
       "  </tbody>\n",
       "</table>\n",
       "</div>"
      ],
      "text/plain": [
       "   ARREST_KEY ARREST_DATE  PD_CD                        PD_DESC  KY_CD  \\\n",
       "0   206892169  12/31/2019  907.0          IMPAIRED DRIVING,DRUG  347.0   \n",
       "1   206888084  12/31/2019  739.0      FRAUD,UNCLASSIFIED-FELONY  112.0   \n",
       "2   206890433  12/31/2019  122.0  HOMICIDE, NEGLIGENT, VEHICLE,  102.0   \n",
       "3   206890441  12/31/2019  268.0             CRIMINAL MIS 2 & 3  121.0   \n",
       "4   206890973  12/31/2019  101.0                      ASSAULT 3  344.0   \n",
       "\n",
       "                        OFNS_DESC    LAW_CODE LAW_CAT_CD ARREST_BORO  \\\n",
       "0  INTOXICATED & IMPAIRED DRIVING  VTL11920U4          M           M   \n",
       "1                     THEFT-FRAUD  PL 1908301          F           Q   \n",
       "2      HOMICIDE-NEGLIGENT-VEHICLE  PL 1251201          F           M   \n",
       "3  CRIMINAL MISCHIEF & RELATED OF  PL 1450502          F           S   \n",
       "4    ASSAULT 3 & RELATED OFFENSES  PL 1200001          M           M   \n",
       "\n",
       "   ARREST_PRECINCT  JURISDICTION_CODE AGE_GROUP PERP_SEX       PERP_RACE  \\\n",
       "0               33                  0     25-44        M           WHITE   \n",
       "1              101                  0     25-44        M  BLACK HISPANIC   \n",
       "2               23                  0     18-24        M           BLACK   \n",
       "3              120                  0     18-24        M           BLACK   \n",
       "4               25                 97     25-44        M           BLACK   \n",
       "\n",
       "   X_COORD_CD  Y_COORD_CD   Latitude  Longitude  \n",
       "0     1000916      245710  40.841085 -73.939769  \n",
       "1     1055868      156522  40.596012 -73.742116  \n",
       "2      997462      227024  40.789803 -73.952289  \n",
       "3      962822      174282  40.645023 -74.077217  \n",
       "4     1004138      226326  40.787875 -73.928182  "
      ]
     },
     "execution_count": 18,
     "metadata": {},
     "output_type": "execute_result"
    }
   ],
   "source": [
    "#Look at the five rows\n",
    "nypd.head()"
   ]
  },
  {
   "cell_type": "code",
   "execution_count": 19,
   "metadata": {},
   "outputs": [],
   "source": [
    "#The Data Dictionary for the Columns\n",
    "data_dictionary = \"\"\"\n",
    "ARREST_KEY: Randomly generated persistent ID for each arrest\n",
    "\n",
    "ARREST_DATE: Exact date of arrest for the reported event\n",
    "\n",
    "PD_CD: Three digit internal classification code (more granular than\n",
    "Key Code)\n",
    "\n",
    "PD_DESC: Description of internal classification corresponding with PD\n",
    "code (more granular than Offense Description)\n",
    "\n",
    "KY_CD: Three digit internal classification code (more general\n",
    "category than PD code)\n",
    "\n",
    "OFNS_DESC: Description of internal classification corresponding with KY\n",
    "code (more general category than PD description)\n",
    "\n",
    "LAW_CODE: Law code charges corresponding to the NYS Penal Law,\n",
    "VTL and other various local laws\n",
    "\n",
    "LAW_CAT_CD: Level of offense: felony, misdemeanor, violation\n",
    "\n",
    "ARREST_BORO: Borough of arrest. B(Bronx), S(Staten Island), K(Brooklyn),\n",
    "M(Manhattan), Q(Queens)\n",
    "\n",
    "ARREST_PRECINCT: Precinct where the arrest occurred\n",
    "\n",
    "JURISDICTION_CODE: Jurisdiction responsible for arrest. Jurisdiction codes\n",
    "0(Patrol), 1(Transit) and 2(Housing) represent NYPD whilst\n",
    "codes 3 and more represent non NYPD jurisdictions\n",
    "\n",
    "AGE_GROUP: Perpetrator’s age within a category\n",
    "\n",
    "PERP_SEX: Perpetrator’s sex description\n",
    "\n",
    "PERP_RACE: Perpetrator’s race description\n",
    "\n",
    "X_COORD_CD: Midblock X-coordinate for New York State Plane\n",
    "Coordinate System, Long Island Zone, NAD 83, units feet (FIPS 3104)\n",
    "\n",
    "Y_COORD_CD: Midblock Y-coordinate for New York State Plane\n",
    "Coordinate System, Long Island Zone, NAD 83, units feet (FIPS 3104)\n",
    "\n",
    "Latitude: Latitude coordinate for Global Coordinate System, WGS\n",
    "1984, decimal degrees (EPSG 4326)\n",
    "\n",
    "Longitude: Longitude coordinate for Global Coordinate System, WGS\n",
    "1984, decimal degrees (EPSG 4326)\n",
    "\n",
    "\"\"\"\n"
   ]
  },
  {
   "cell_type": "code",
   "execution_count": 20,
   "metadata": {},
   "outputs": [
    {
     "data": {
      "text/plain": [
       "(214617, 18)"
      ]
     },
     "execution_count": 20,
     "metadata": {},
     "output_type": "execute_result"
    }
   ],
   "source": [
    "#Look at the shape\n",
    "nypd.shape"
   ]
  },
  {
   "cell_type": "code",
   "execution_count": 21,
   "metadata": {},
   "outputs": [
    {
     "name": "stdout",
     "output_type": "stream",
     "text": [
      "<class 'pandas.core.frame.DataFrame'>\n",
      "RangeIndex: 214617 entries, 0 to 214616\n",
      "Data columns (total 18 columns):\n",
      "ARREST_KEY           214617 non-null int64\n",
      "ARREST_DATE          214617 non-null object\n",
      "PD_CD                214576 non-null float64\n",
      "PD_DESC              214458 non-null object\n",
      "KY_CD                214458 non-null float64\n",
      "OFNS_DESC            214458 non-null object\n",
      "LAW_CODE             214617 non-null object\n",
      "LAW_CAT_CD           213248 non-null object\n",
      "ARREST_BORO          214617 non-null object\n",
      "ARREST_PRECINCT      214617 non-null int64\n",
      "JURISDICTION_CODE    214617 non-null int64\n",
      "AGE_GROUP            214617 non-null object\n",
      "PERP_SEX             214617 non-null object\n",
      "PERP_RACE            214617 non-null object\n",
      "X_COORD_CD           214617 non-null int64\n",
      "Y_COORD_CD           214617 non-null int64\n",
      "Latitude             214617 non-null float64\n",
      "Longitude            214617 non-null float64\n",
      "dtypes: float64(4), int64(5), object(9)\n",
      "memory usage: 29.5+ MB\n"
     ]
    }
   ],
   "source": [
    "#Look at the column names and types\n",
    "nypd.info()"
   ]
  },
  {
   "cell_type": "markdown",
   "metadata": {},
   "source": [
    "For the most part there are no missing entries (almost 214,617 for all columns). It looks like half of the columns are numbers and half are strings (object)"
   ]
  },
  {
   "cell_type": "code",
   "execution_count": 22,
   "metadata": {},
   "outputs": [],
   "source": [
    "#Drop the columns that are not needed for analysis\n",
    "# nypd = nypd.drop(columns = [])"
   ]
  },
  {
   "cell_type": "code",
   "execution_count": 23,
   "metadata": {},
   "outputs": [],
   "source": [
    "#Look at the data after dropping\n",
    "# nypd.head()"
   ]
  },
  {
   "cell_type": "code",
   "execution_count": 24,
   "metadata": {},
   "outputs": [],
   "source": [
    "#Look at the shape again\n",
    "# nypd..shape"
   ]
  },
  {
   "cell_type": "code",
   "execution_count": 25,
   "metadata": {},
   "outputs": [
    {
     "data": {
      "text/plain": [
       "True"
      ]
     },
     "execution_count": 25,
     "metadata": {},
     "output_type": "execute_result"
    }
   ],
   "source": [
    "#Are there empty values?\n",
    "nypd.isnull().values.any()"
   ]
  },
  {
   "cell_type": "code",
   "execution_count": 26,
   "metadata": {},
   "outputs": [
    {
     "data": {
      "text/plain": [
       "ARREST_KEY              0\n",
       "ARREST_DATE             0\n",
       "PD_CD                  41\n",
       "PD_DESC               159\n",
       "KY_CD                 159\n",
       "OFNS_DESC             159\n",
       "LAW_CODE                0\n",
       "LAW_CAT_CD           1369\n",
       "ARREST_BORO             0\n",
       "ARREST_PRECINCT         0\n",
       "JURISDICTION_CODE       0\n",
       "AGE_GROUP               0\n",
       "PERP_SEX                0\n",
       "PERP_RACE               0\n",
       "X_COORD_CD              0\n",
       "Y_COORD_CD              0\n",
       "Latitude                0\n",
       "Longitude               0\n",
       "dtype: int64"
      ]
     },
     "execution_count": 26,
     "metadata": {},
     "output_type": "execute_result"
    }
   ],
   "source": [
    "#How many empty values are there in each column?\n",
    "nypd.isnull().sum()"
   ]
  },
  {
   "cell_type": "code",
   "execution_count": 27,
   "metadata": {},
   "outputs": [
    {
     "data": {
      "text/plain": [
       "1887"
      ]
     },
     "execution_count": 27,
     "metadata": {},
     "output_type": "execute_result"
    }
   ],
   "source": [
    "#Add the above counts together\n",
    "nypd.isnull().sum().sum()"
   ]
  },
  {
   "cell_type": "markdown",
   "metadata": {},
   "source": [
    "<font color ='purple'> After examining the NYPD dataset, we observed that there are 1887 missing values. </font>\n"
   ]
  },
  {
   "cell_type": "code",
   "execution_count": 28,
   "metadata": {},
   "outputs": [],
   "source": [
    "#Because it is not many, we drop the null values\n",
    "nypd = nypd.dropna()"
   ]
  },
  {
   "cell_type": "markdown",
   "metadata": {},
   "source": [
    "<font color='purple'>We dropped all records with missing data, since filling it with zeros or the mean would not be the best choice, since no calculations will be used to analyse the data. Those numeric values are data that reflects real facts/numbers and should not be manipulated else it can result in misleading analysis. We only lost less than 1% of our data by dropping them. </font>\n"
   ]
  },
  {
   "cell_type": "code",
   "execution_count": 29,
   "metadata": {},
   "outputs": [
    {
     "name": "stdout",
     "output_type": "stream",
     "text": [
      "<class 'pandas.core.frame.DataFrame'>\n",
      "Int64Index: 213089 entries, 0 to 214616\n",
      "Data columns (total 18 columns):\n",
      "ARREST_KEY           213089 non-null int64\n",
      "ARREST_DATE          213089 non-null object\n",
      "PD_CD                213089 non-null float64\n",
      "PD_DESC              213089 non-null object\n",
      "KY_CD                213089 non-null float64\n",
      "OFNS_DESC            213089 non-null object\n",
      "LAW_CODE             213089 non-null object\n",
      "LAW_CAT_CD           213089 non-null object\n",
      "ARREST_BORO          213089 non-null object\n",
      "ARREST_PRECINCT      213089 non-null int64\n",
      "JURISDICTION_CODE    213089 non-null int64\n",
      "AGE_GROUP            213089 non-null object\n",
      "PERP_SEX             213089 non-null object\n",
      "PERP_RACE            213089 non-null object\n",
      "X_COORD_CD           213089 non-null int64\n",
      "Y_COORD_CD           213089 non-null int64\n",
      "Latitude             213089 non-null float64\n",
      "Longitude            213089 non-null float64\n",
      "dtypes: float64(4), int64(5), object(9)\n",
      "memory usage: 30.9+ MB\n"
     ]
    }
   ],
   "source": [
    "#After dropping the null values we look at the data info again\n",
    "nypd.info()"
   ]
  },
  {
   "cell_type": "code",
   "execution_count": 30,
   "metadata": {},
   "outputs": [],
   "source": [
    "nypd['ARREST_DATE'] = pd.to_datetime(nypd['ARREST_DATE'], format = \"%m/%d/%Y\")"
   ]
  },
  {
   "cell_type": "markdown",
   "metadata": {},
   "source": [
    "\n",
    "<font color = 'purple' > In 2019, the highest Offence was 'Assault related Offensed which made up 15%, followed by Petit Larceny with 10%.<\\font>"
   ]
  },
  {
   "cell_type": "code",
   "execution_count": 31,
   "metadata": {},
   "outputs": [],
   "source": [
    "#change borough columns to make it clear\n",
    "borough= {'K': 'Brooklyn', 'M': 'Manhattan','B':'Bronx','Q':\"Queens\", 'S':'Staten Island'}\n",
    "nypd['ARREST_BORO'] = nypd['ARREST_BORO'].replace(borough)"
   ]
  },
  {
   "cell_type": "code",
   "execution_count": 32,
   "metadata": {},
   "outputs": [
    {
     "data": {
      "text/html": [
       "<div>\n",
       "<style scoped>\n",
       "    .dataframe tbody tr th:only-of-type {\n",
       "        vertical-align: middle;\n",
       "    }\n",
       "\n",
       "    .dataframe tbody tr th {\n",
       "        vertical-align: top;\n",
       "    }\n",
       "\n",
       "    .dataframe thead th {\n",
       "        text-align: right;\n",
       "    }\n",
       "</style>\n",
       "<table border=\"1\" class=\"dataframe\">\n",
       "  <thead>\n",
       "    <tr style=\"text-align: right;\">\n",
       "      <th></th>\n",
       "      <th>OFNS_DESC</th>\n",
       "    </tr>\n",
       "    <tr>\n",
       "      <th>ARREST_BORO</th>\n",
       "      <th></th>\n",
       "    </tr>\n",
       "  </thead>\n",
       "  <tbody>\n",
       "    <tr>\n",
       "      <th>Brooklyn</th>\n",
       "      <td>58077</td>\n",
       "    </tr>\n",
       "    <tr>\n",
       "      <th>Manhattan</th>\n",
       "      <td>53172</td>\n",
       "    </tr>\n",
       "    <tr>\n",
       "      <th>Bronx</th>\n",
       "      <td>48516</td>\n",
       "    </tr>\n",
       "    <tr>\n",
       "      <th>Queens</th>\n",
       "      <td>44329</td>\n",
       "    </tr>\n",
       "    <tr>\n",
       "      <th>Staten Island</th>\n",
       "      <td>8995</td>\n",
       "    </tr>\n",
       "  </tbody>\n",
       "</table>\n",
       "</div>"
      ],
      "text/plain": [
       "               OFNS_DESC\n",
       "ARREST_BORO             \n",
       "Brooklyn           58077\n",
       "Manhattan          53172\n",
       "Bronx              48516\n",
       "Queens             44329\n",
       "Staten Island       8995"
      ]
     },
     "execution_count": 32,
     "metadata": {},
     "output_type": "execute_result"
    }
   ],
   "source": [
    "#Looking at the number of arrests by borough\n",
    "arrest_by_boro = nypd.groupby('ARREST_BORO').OFNS_DESC.count()\n",
    "arrest_by_boro = pd.DataFrame(arrest_by_boro.sort_values(ascending = False))\n",
    "\n",
    "arrest_by_boro"
   ]
  },
  {
   "cell_type": "markdown",
   "metadata": {},
   "source": [
    "<font color = 'purple'> Brooklyn had 58,077 Offences, the highest number of Offences for the year 2019 as shown above, followed by Manhattan with 53,172, then the Bronx, Queens and Staten island, with 48,516, 44,329 and 8,995 respectively.<font/>"
   ]
  },
  {
   "cell_type": "code",
   "execution_count": 56,
   "metadata": {},
   "outputs": [
    {
     "data": {
      "text/html": [
       "<div>\n",
       "<style scoped>\n",
       "    .dataframe tbody tr th:only-of-type {\n",
       "        vertical-align: middle;\n",
       "    }\n",
       "\n",
       "    .dataframe tbody tr th {\n",
       "        vertical-align: top;\n",
       "    }\n",
       "\n",
       "    .dataframe thead th {\n",
       "        text-align: right;\n",
       "    }\n",
       "</style>\n",
       "<table border=\"1\" class=\"dataframe\">\n",
       "  <thead>\n",
       "    <tr style=\"text-align: right;\">\n",
       "      <th></th>\n",
       "      <th>ARREST_KEY</th>\n",
       "      <th>PD_CD</th>\n",
       "      <th>KY_CD</th>\n",
       "      <th>ARREST_PRECINCT</th>\n",
       "      <th>JURISDICTION_CODE</th>\n",
       "      <th>X_COORD_CD</th>\n",
       "      <th>Y_COORD_CD</th>\n",
       "      <th>Latitude</th>\n",
       "      <th>Longitude</th>\n",
       "    </tr>\n",
       "  </thead>\n",
       "  <tbody>\n",
       "    <tr>\n",
       "      <th>count</th>\n",
       "      <td>2.130890e+05</td>\n",
       "      <td>213089.000000</td>\n",
       "      <td>213089.000000</td>\n",
       "      <td>213089.000000</td>\n",
       "      <td>213089.000000</td>\n",
       "      <td>2.130890e+05</td>\n",
       "      <td>213089.000000</td>\n",
       "      <td>213089.000000</td>\n",
       "      <td>213089.000000</td>\n",
       "    </tr>\n",
       "    <tr>\n",
       "      <th>mean</th>\n",
       "      <td>1.989047e+08</td>\n",
       "      <td>452.744647</td>\n",
       "      <td>257.959332</td>\n",
       "      <td>62.548672</td>\n",
       "      <td>2.311813</td>\n",
       "      <td>1.005407e+06</td>\n",
       "      <td>208197.198889</td>\n",
       "      <td>40.738087</td>\n",
       "      <td>-73.923631</td>\n",
       "    </tr>\n",
       "    <tr>\n",
       "      <th>std</th>\n",
       "      <td>4.348545e+06</td>\n",
       "      <td>279.749363</td>\n",
       "      <td>141.631085</td>\n",
       "      <td>34.961465</td>\n",
       "      <td>13.578490</td>\n",
       "      <td>2.135185e+04</td>\n",
       "      <td>29941.634229</td>\n",
       "      <td>0.082188</td>\n",
       "      <td>0.077002</td>\n",
       "    </tr>\n",
       "    <tr>\n",
       "      <th>min</th>\n",
       "      <td>1.917037e+08</td>\n",
       "      <td>101.000000</td>\n",
       "      <td>101.000000</td>\n",
       "      <td>1.000000</td>\n",
       "      <td>0.000000</td>\n",
       "      <td>9.141030e+05</td>\n",
       "      <td>121152.000000</td>\n",
       "      <td>40.498957</td>\n",
       "      <td>-74.252251</td>\n",
       "    </tr>\n",
       "    <tr>\n",
       "      <th>25%</th>\n",
       "      <td>1.951565e+08</td>\n",
       "      <td>185.000000</td>\n",
       "      <td>117.000000</td>\n",
       "      <td>40.000000</td>\n",
       "      <td>0.000000</td>\n",
       "      <td>9.913600e+05</td>\n",
       "      <td>185685.000000</td>\n",
       "      <td>40.676286</td>\n",
       "      <td>-73.974367</td>\n",
       "    </tr>\n",
       "    <tr>\n",
       "      <th>50%</th>\n",
       "      <td>1.986640e+08</td>\n",
       "      <td>439.000000</td>\n",
       "      <td>341.000000</td>\n",
       "      <td>61.000000</td>\n",
       "      <td>0.000000</td>\n",
       "      <td>1.004905e+06</td>\n",
       "      <td>206894.000000</td>\n",
       "      <td>40.734485</td>\n",
       "      <td>-73.925436</td>\n",
       "    </tr>\n",
       "    <tr>\n",
       "      <th>75%</th>\n",
       "      <td>2.025553e+08</td>\n",
       "      <td>729.000000</td>\n",
       "      <td>344.000000</td>\n",
       "      <td>100.000000</td>\n",
       "      <td>0.000000</td>\n",
       "      <td>1.017440e+06</td>\n",
       "      <td>236071.000000</td>\n",
       "      <td>40.814612</td>\n",
       "      <td>-73.879998</td>\n",
       "    </tr>\n",
       "    <tr>\n",
       "      <th>max</th>\n",
       "      <td>2.068936e+08</td>\n",
       "      <td>997.000000</td>\n",
       "      <td>882.000000</td>\n",
       "      <td>123.000000</td>\n",
       "      <td>97.000000</td>\n",
       "      <td>1.067302e+06</td>\n",
       "      <td>271304.000000</td>\n",
       "      <td>40.911307</td>\n",
       "      <td>-73.700293</td>\n",
       "    </tr>\n",
       "  </tbody>\n",
       "</table>\n",
       "</div>"
      ],
      "text/plain": [
       "         ARREST_KEY          PD_CD          KY_CD  ARREST_PRECINCT  \\\n",
       "count  2.130890e+05  213089.000000  213089.000000    213089.000000   \n",
       "mean   1.989047e+08     452.744647     257.959332        62.548672   \n",
       "std    4.348545e+06     279.749363     141.631085        34.961465   \n",
       "min    1.917037e+08     101.000000     101.000000         1.000000   \n",
       "25%    1.951565e+08     185.000000     117.000000        40.000000   \n",
       "50%    1.986640e+08     439.000000     341.000000        61.000000   \n",
       "75%    2.025553e+08     729.000000     344.000000       100.000000   \n",
       "max    2.068936e+08     997.000000     882.000000       123.000000   \n",
       "\n",
       "       JURISDICTION_CODE    X_COORD_CD     Y_COORD_CD       Latitude  \\\n",
       "count      213089.000000  2.130890e+05  213089.000000  213089.000000   \n",
       "mean            2.311813  1.005407e+06  208197.198889      40.738087   \n",
       "std            13.578490  2.135185e+04   29941.634229       0.082188   \n",
       "min             0.000000  9.141030e+05  121152.000000      40.498957   \n",
       "25%             0.000000  9.913600e+05  185685.000000      40.676286   \n",
       "50%             0.000000  1.004905e+06  206894.000000      40.734485   \n",
       "75%             0.000000  1.017440e+06  236071.000000      40.814612   \n",
       "max            97.000000  1.067302e+06  271304.000000      40.911307   \n",
       "\n",
       "           Longitude  \n",
       "count  213089.000000  \n",
       "mean      -73.923631  \n",
       "std         0.077002  \n",
       "min       -74.252251  \n",
       "25%       -73.974367  \n",
       "50%       -73.925436  \n",
       "75%       -73.879998  \n",
       "max       -73.700293  "
      ]
     },
     "execution_count": 56,
     "metadata": {},
     "output_type": "execute_result"
    }
   ],
   "source": [
    "#Describe the numerical values\n",
    "nypd.describe()"
   ]
  },
  {
   "cell_type": "code",
   "execution_count": 37,
   "metadata": {},
   "outputs": [
    {
     "data": {
      "text/plain": [
       "array(['25-44', '18-24', '45-64', '<18', '65+'], dtype=object)"
      ]
     },
     "execution_count": 37,
     "metadata": {},
     "output_type": "execute_result"
    }
   ],
   "source": [
    "#How old are those arrested?\n",
    "#First lets see how age is stored:\n",
    "nypd.AGE_GROUP.unique()"
   ]
  },
  {
   "cell_type": "markdown",
   "metadata": {},
   "source": [
    "There are 5 categorical variables for age group of person"
   ]
  },
  {
   "cell_type": "code",
   "execution_count": 38,
   "metadata": {},
   "outputs": [
    {
     "data": {
      "text/plain": [
       "25-44    113292\n",
       "18-24     43275\n",
       "45-64     43249\n",
       "<18       10260\n",
       "65+        3013\n",
       "Name: AGE_GROUP, dtype: int64"
      ]
     },
     "execution_count": 38,
     "metadata": {},
     "output_type": "execute_result"
    }
   ],
   "source": [
    "#Counting the persons in each age category\n",
    "nypd.AGE_GROUP.value_counts()"
   ]
  },
  {
   "cell_type": "markdown",
   "metadata": {},
   "source": [
    "Above it shows that most criminals are in the 25 to 44 age group"
   ]
  },
  {
   "cell_type": "code",
   "execution_count": 40,
   "metadata": {},
   "outputs": [],
   "source": [
    "#Count the crimes by the different races\n",
    "nypd.PERP_RACE"
   ]
  },
  {
   "cell_type": "code",
   "execution_count": 51,
   "metadata": {},
   "outputs": [
    {
     "data": {
      "text/plain": [
       "M    173964\n",
       "F     39125\n",
       "Name: PERP_SEX, dtype: int64"
      ]
     },
     "execution_count": 51,
     "metadata": {},
     "output_type": "execute_result"
    }
   ],
   "source": [
    "#Count the crimes by the different genders\n",
    "nypd.PERP_SEX.value_counts()"
   ]
  },
  {
   "cell_type": "code",
   "execution_count": 48,
   "metadata": {},
   "outputs": [
    {
     "data": {
      "text/plain": [
       "BLACK                             101979\n",
       "WHITE HISPANIC                     53265\n",
       "WHITE                              25284\n",
       "BLACK HISPANIC                     18550\n",
       "ASIAN / PACIFIC ISLANDER           12013\n",
       "UNKNOWN                             1401\n",
       "AMERICAN INDIAN/ALASKAN NATIVE       597\n",
       "Name: PERP_RACE, dtype: int64"
      ]
     },
     "execution_count": 48,
     "metadata": {},
     "output_type": "execute_result"
    }
   ],
   "source": [
    "#What is the relationship between level_of_offense (felony, misdemeanor) and race?\n",
    "\n",
    "# nypd.LAW_CAT_CD\n",
    "nypd.PERP_RACE.value_counts()"
   ]
  },
  {
   "cell_type": "code",
   "execution_count": 43,
   "metadata": {},
   "outputs": [],
   "source": [
    "#How about level_of_offense and borough?\n",
    "# nypd.ARREST_BORO"
   ]
  },
  {
   "cell_type": "code",
   "execution_count": 47,
   "metadata": {},
   "outputs": [],
   "source": [
    "#How about level_of_offense and age?\n",
    "# nypd.AGE_GROUP"
   ]
  },
  {
   "cell_type": "code",
   "execution_count": null,
   "metadata": {},
   "outputs": [],
   "source": []
  }
 ],
 "metadata": {
  "kernelspec": {
   "display_name": "Python 3",
   "language": "python",
   "name": "python3"
  },
  "language_info": {
   "codemirror_mode": {
    "name": "ipython",
    "version": 3
   },
   "file_extension": ".py",
   "mimetype": "text/x-python",
   "name": "python",
   "nbconvert_exporter": "python",
   "pygments_lexer": "ipython3",
   "version": "3.6.8"
  }
 },
 "nbformat": 4,
 "nbformat_minor": 4
}
