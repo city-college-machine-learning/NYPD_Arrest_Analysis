{
 "cells": [
  {
   "cell_type": "markdown",
   "metadata": {
    "pycharm": {
     "name": "#%% md\n"
    }
   },
   "source": [
    "Load the data"
   ]
  },
  {
   "cell_type": "code",
   "execution_count": 1,
   "outputs": [],
   "source": [
    "import pandas as pd\n",
    "import numpy as np\n",
    "import os\n",
    "from matplotlib import pyplot as plt\n",
    "\n",
    "%matplotlib inline"
   ],
   "metadata": {
    "collapsed": false,
    "pycharm": {
     "name": "#%%\n"
    }
   }
  },
  {
   "cell_type": "code",
   "execution_count": 2,
   "outputs": [],
   "source": [
    "os.chdir('C:/Users/daoud/PycharmProjects/NYPD_Arrest_Analysis')"
   ],
   "metadata": {
    "collapsed": false,
    "pycharm": {
     "name": "#%%\n"
    }
   }
  },
  {
   "cell_type": "code",
   "execution_count": 3,
   "outputs": [],
   "source": [
    "nyp_arrest_data = pd.read_csv('NYPD_Arrest_Data__Year_to_Date_.csv')"
   ],
   "metadata": {
    "collapsed": false,
    "pycharm": {
     "name": "#%%\n"
    }
   }
  },
  {
   "cell_type": "code",
   "execution_count": 4,
   "outputs": [
    {
     "data": {
      "text/plain": "   ARREST_KEY ARREST_DATE  PD_CD                        PD_DESC  KY_CD  \\\n0   206892169  12/31/2019  907.0          IMPAIRED DRIVING,DRUG  347.0   \n1   206888084  12/31/2019  739.0      FRAUD,UNCLASSIFIED-FELONY  112.0   \n2   206890433  12/31/2019  122.0  HOMICIDE, NEGLIGENT, VEHICLE,  102.0   \n3   206890441  12/31/2019  268.0             CRIMINAL MIS 2 & 3  121.0   \n4   206890973  12/31/2019  101.0                      ASSAULT 3  344.0   \n\n                        OFNS_DESC    LAW_CODE LAW_CAT_CD ARREST_BORO  \\\n0  INTOXICATED & IMPAIRED DRIVING  VTL11920U4          M           M   \n1                     THEFT-FRAUD  PL 1908301          F           Q   \n2      HOMICIDE-NEGLIGENT-VEHICLE  PL 1251201          F           M   \n3  CRIMINAL MISCHIEF & RELATED OF  PL 1450502          F           S   \n4    ASSAULT 3 & RELATED OFFENSES  PL 1200001          M           M   \n\n   ARREST_PRECINCT  JURISDICTION_CODE AGE_GROUP PERP_SEX       PERP_RACE  \\\n0               33                  0     25-44        M           WHITE   \n1              101                  0     25-44        M  BLACK HISPANIC   \n2               23                  0     18-24        M           BLACK   \n3              120                  0     18-24        M           BLACK   \n4               25                 97     25-44        M           BLACK   \n\n   X_COORD_CD  Y_COORD_CD   Latitude  Longitude  \n0     1000916      245710  40.841085 -73.939769  \n1     1055868      156522  40.596012 -73.742116  \n2      997462      227024  40.789803 -73.952289  \n3      962822      174282  40.645023 -74.077217  \n4     1004138      226326  40.787875 -73.928182  ",
      "text/html": "<div>\n<style scoped>\n    .dataframe tbody tr th:only-of-type {\n        vertical-align: middle;\n    }\n\n    .dataframe tbody tr th {\n        vertical-align: top;\n    }\n\n    .dataframe thead th {\n        text-align: right;\n    }\n</style>\n<table border=\"1\" class=\"dataframe\">\n  <thead>\n    <tr style=\"text-align: right;\">\n      <th></th>\n      <th>ARREST_KEY</th>\n      <th>ARREST_DATE</th>\n      <th>PD_CD</th>\n      <th>PD_DESC</th>\n      <th>KY_CD</th>\n      <th>OFNS_DESC</th>\n      <th>LAW_CODE</th>\n      <th>LAW_CAT_CD</th>\n      <th>ARREST_BORO</th>\n      <th>ARREST_PRECINCT</th>\n      <th>JURISDICTION_CODE</th>\n      <th>AGE_GROUP</th>\n      <th>PERP_SEX</th>\n      <th>PERP_RACE</th>\n      <th>X_COORD_CD</th>\n      <th>Y_COORD_CD</th>\n      <th>Latitude</th>\n      <th>Longitude</th>\n    </tr>\n  </thead>\n  <tbody>\n    <tr>\n      <th>0</th>\n      <td>206892169</td>\n      <td>12/31/2019</td>\n      <td>907.0</td>\n      <td>IMPAIRED DRIVING,DRUG</td>\n      <td>347.0</td>\n      <td>INTOXICATED &amp; IMPAIRED DRIVING</td>\n      <td>VTL11920U4</td>\n      <td>M</td>\n      <td>M</td>\n      <td>33</td>\n      <td>0</td>\n      <td>25-44</td>\n      <td>M</td>\n      <td>WHITE</td>\n      <td>1000916</td>\n      <td>245710</td>\n      <td>40.841085</td>\n      <td>-73.939769</td>\n    </tr>\n    <tr>\n      <th>1</th>\n      <td>206888084</td>\n      <td>12/31/2019</td>\n      <td>739.0</td>\n      <td>FRAUD,UNCLASSIFIED-FELONY</td>\n      <td>112.0</td>\n      <td>THEFT-FRAUD</td>\n      <td>PL 1908301</td>\n      <td>F</td>\n      <td>Q</td>\n      <td>101</td>\n      <td>0</td>\n      <td>25-44</td>\n      <td>M</td>\n      <td>BLACK HISPANIC</td>\n      <td>1055868</td>\n      <td>156522</td>\n      <td>40.596012</td>\n      <td>-73.742116</td>\n    </tr>\n    <tr>\n      <th>2</th>\n      <td>206890433</td>\n      <td>12/31/2019</td>\n      <td>122.0</td>\n      <td>HOMICIDE, NEGLIGENT, VEHICLE,</td>\n      <td>102.0</td>\n      <td>HOMICIDE-NEGLIGENT-VEHICLE</td>\n      <td>PL 1251201</td>\n      <td>F</td>\n      <td>M</td>\n      <td>23</td>\n      <td>0</td>\n      <td>18-24</td>\n      <td>M</td>\n      <td>BLACK</td>\n      <td>997462</td>\n      <td>227024</td>\n      <td>40.789803</td>\n      <td>-73.952289</td>\n    </tr>\n    <tr>\n      <th>3</th>\n      <td>206890441</td>\n      <td>12/31/2019</td>\n      <td>268.0</td>\n      <td>CRIMINAL MIS 2 &amp; 3</td>\n      <td>121.0</td>\n      <td>CRIMINAL MISCHIEF &amp; RELATED OF</td>\n      <td>PL 1450502</td>\n      <td>F</td>\n      <td>S</td>\n      <td>120</td>\n      <td>0</td>\n      <td>18-24</td>\n      <td>M</td>\n      <td>BLACK</td>\n      <td>962822</td>\n      <td>174282</td>\n      <td>40.645023</td>\n      <td>-74.077217</td>\n    </tr>\n    <tr>\n      <th>4</th>\n      <td>206890973</td>\n      <td>12/31/2019</td>\n      <td>101.0</td>\n      <td>ASSAULT 3</td>\n      <td>344.0</td>\n      <td>ASSAULT 3 &amp; RELATED OFFENSES</td>\n      <td>PL 1200001</td>\n      <td>M</td>\n      <td>M</td>\n      <td>25</td>\n      <td>97</td>\n      <td>25-44</td>\n      <td>M</td>\n      <td>BLACK</td>\n      <td>1004138</td>\n      <td>226326</td>\n      <td>40.787875</td>\n      <td>-73.928182</td>\n    </tr>\n  </tbody>\n</table>\n</div>"
     },
     "execution_count": 4,
     "metadata": {},
     "output_type": "execute_result"
    }
   ],
   "source": [
    "nyp_arrest_data.head()"
   ],
   "metadata": {
    "collapsed": false,
    "pycharm": {
     "name": "#%%\n"
    }
   }
  },
  {
   "cell_type": "code",
   "execution_count": 5,
   "outputs": [
    {
     "name": "stdout",
     "output_type": "stream",
     "text": [
      "<class 'pandas.core.frame.DataFrame'>\n",
      "RangeIndex: 214617 entries, 0 to 214616\n",
      "Data columns (total 18 columns):\n",
      "ARREST_KEY           214617 non-null int64\n",
      "ARREST_DATE          214617 non-null object\n",
      "PD_CD                214576 non-null float64\n",
      "PD_DESC              214458 non-null object\n",
      "KY_CD                214458 non-null float64\n",
      "OFNS_DESC            214458 non-null object\n",
      "LAW_CODE             214617 non-null object\n",
      "LAW_CAT_CD           213248 non-null object\n",
      "ARREST_BORO          214617 non-null object\n",
      "ARREST_PRECINCT      214617 non-null int64\n",
      "JURISDICTION_CODE    214617 non-null int64\n",
      "AGE_GROUP            214617 non-null object\n",
      "PERP_SEX             214617 non-null object\n",
      "PERP_RACE            214617 non-null object\n",
      "X_COORD_CD           214617 non-null int64\n",
      "Y_COORD_CD           214617 non-null int64\n",
      "Latitude             214617 non-null float64\n",
      "Longitude            214617 non-null float64\n",
      "dtypes: float64(4), int64(5), object(9)\n",
      "memory usage: 29.5+ MB\n",
      "None\n"
     ]
    }
   ],
   "source": [
    "# inspect the data type\n",
    "print(nyp_arrest_data.info())"
   ],
   "metadata": {
    "collapsed": false,
    "pycharm": {
     "name": "#%%\n"
    }
   }
  },
  {
   "cell_type": "code",
   "execution_count": 6,
   "outputs": [],
   "source": [
    "# convert arrest date to a date type\n",
    "nyp_arrest_data.ARREST_DATE = pd.to_datetime(nyp_arrest_data.ARREST_DATE)"
   ],
   "metadata": {
    "collapsed": false,
    "pycharm": {
     "name": "#%%\n"
    }
   }
  },
  {
   "cell_type": "code",
   "execution_count": 7,
   "outputs": [
    {
     "data": {
      "text/plain": "<matplotlib.axes._subplots.AxesSubplot at 0x23c7383ba90>"
     },
     "execution_count": 7,
     "metadata": {},
     "output_type": "execute_result"
    },
    {
     "data": {
      "text/plain": "<Figure size 432x288 with 1 Axes>",
      "image/png": "[encoded data removed]"
     },
     "metadata": {
      "needs_background": "light"
     },
     "output_type": "display_data"
    }
   ],
   "source": [
    "# plot the number of arrest by month\n",
    "nyp_arrest_data[[\"ARREST_DATE\"]].groupby(nyp_arrest_data[\"ARREST_DATE\"].dt.month).count().plot(kind=\"bar\")"
   ],
   "metadata": {
    "collapsed": false,
    "pycharm": {
     "name": "#%%\n"
    }
   }
  },
  {
   "cell_type": "markdown",
   "source": [
    "The highest number of arrest happened in January and the least in December."
   ],
   "metadata": {
    "collapsed": false
   }
  },
  {
   "cell_type": "code",
   "execution_count": 8,
   "outputs": [
    {
     "data": {
      "text/plain": "<matplotlib.axes._subplots.AxesSubplot at 0x23c73b03780>"
     },
     "execution_count": 8,
     "metadata": {},
     "output_type": "execute_result"
    },
    {
     "data": {
      "text/plain": "<Figure size 432x288 with 1 Axes>",
      "image/png": "[encoded data removed]"
     },
     "metadata": {
      "needs_background": "light"
     },
     "output_type": "display_data"
    }
   ],
   "source": [
    "nyp_arrest_data[[\"ARREST_BORO\"]].groupby(nyp_arrest_data[\"ARREST_BORO\"]).count().plot(kind=\"bar\")"
   ],
   "metadata": {
    "collapsed": false,
    "pycharm": {
     "name": "#%%\n"
    }
   }
  },
  {
   "cell_type": "code",
   "execution_count": 9,
   "outputs": [
    {
     "data": {
      "text/plain": "<matplotlib.axes._subplots.AxesSubplot at 0x23c73a8d4e0>"
     },
     "execution_count": 9,
     "metadata": {},
     "output_type": "execute_result"
    },
    {
     "data": {
      "text/plain": "<Figure size 432x288 with 1 Axes>",
      "image/png": "[encoded data removed]"
     },
     "metadata": {
      "needs_background": "light"
     },
     "output_type": "display_data"
    }
   ],
   "source": [
    "nyp_arrest_data[[\"PERP_SEX\"]].groupby(nyp_arrest_data[\"PERP_SEX\"]).count().plot(kind=\"bar\")"
   ],
   "metadata": {
    "collapsed": false,
    "pycharm": {
     "name": "#%%\n"
    }
   }
  },
  {
   "cell_type": "code",
   "execution_count": 10,
   "outputs": [
    {
     "data": {
      "text/plain": "<matplotlib.axes._subplots.AxesSubplot at 0x23c769574e0>"
     },
     "execution_count": 10,
     "metadata": {},
     "output_type": "execute_result"
    },
    {
     "data": {
      "text/plain": "<Figure size 432x288 with 1 Axes>",
      "image/png": "[encoded data removed]"
     },
     "metadata": {
      "needs_background": "light"
     },
     "output_type": "display_data"
    }
   ],
   "source": [
    "nyp_arrest_data[\"PERP_RACE\"].groupby(nyp_arrest_data[\"PERP_RACE\"]).count().plot(kind=\"bar\")"
   ],
   "metadata": {
    "collapsed": false,
    "pycharm": {
     "name": "#%%\n"
    }
   }
  },
  {
   "cell_type": "code",
   "execution_count": 11,
   "outputs": [
    {
     "data": {
      "text/plain": "<matplotlib.axes._subplots.AxesSubplot at 0x23c76b495c0>"
     },
     "execution_count": 11,
     "metadata": {},
     "output_type": "execute_result"
    },
    {
     "data": {
      "text/plain": "<Figure size 432x288 with 1 Axes>",
      "image/png": "[encoded data removed]"
     },
     "metadata": {
      "needs_background": "light"
     },
     "output_type": "display_data"
    }
   ],
   "source": [
    "nyp_arrest_data[\"AGE_GROUP\"].groupby(nyp_arrest_data[\"AGE_GROUP\"]).count().plot(kind=\"bar\")"
   ],
   "metadata": {
    "collapsed": false,
    "pycharm": {
     "name": "#%%\n"
    }
   }
  },
  {
   "cell_type": "code",
   "execution_count": 11,
   "outputs": [],
   "source": [],
   "metadata": {
    "collapsed": false,
    "pycharm": {
     "name": "#%%\n"
    }
   }
  },
  {
   "cell_type": "code",
   "execution_count": 7,
   "metadata": {},
   "outputs": [],
   "source": []
  },
  {
   "cell_type": "code",
   "execution_count": 9,
   "metadata": {},
   "outputs": [],
   "source": [
    "os.chdir('C:/Users/daoud/PycharmProjects/NYPD_Arrest_Analysis')"
   ]
  },
  {
   "cell_type": "code",
   "execution_count": 10,
   "metadata": {},
   "outputs": [],
   "source": [
    "nyp_arrest_data = pd.read_csv('NYPD_Arrest_Data__Year_to_Date_.csv')"
   ]
  },
  {
   "cell_type": "code",
   "execution_count": 11,
   "metadata": {},
   "outputs": [
    {
     "data": {
      "text/html": [
       "<div>\n",
       "<style scoped>\n",
       "    .dataframe tbody tr th:only-of-type {\n",
       "        vertical-align: middle;\n",
       "    }\n",
       "\n",
       "    .dataframe tbody tr th {\n",
       "        vertical-align: top;\n",
       "    }\n",
       "\n",
       "    .dataframe thead th {\n",
       "        text-align: right;\n",
       "    }\n",
       "</style>\n",
       "<table border=\"1\" class=\"dataframe\">\n",
       "  <thead>\n",
       "    <tr style=\"text-align: right;\">\n",
       "      <th></th>\n",
       "      <th>ARREST_KEY</th>\n",
       "      <th>ARREST_DATE</th>\n",
       "      <th>PD_CD</th>\n",
       "      <th>PD_DESC</th>\n",
       "      <th>KY_CD</th>\n",
       "      <th>OFNS_DESC</th>\n",
       "      <th>LAW_CODE</th>\n",
       "      <th>LAW_CAT_CD</th>\n",
       "      <th>ARREST_BORO</th>\n",
       "      <th>ARREST_PRECINCT</th>\n",
       "      <th>JURISDICTION_CODE</th>\n",
       "      <th>AGE_GROUP</th>\n",
       "      <th>PERP_SEX</th>\n",
       "      <th>PERP_RACE</th>\n",
       "      <th>X_COORD_CD</th>\n",
       "      <th>Y_COORD_CD</th>\n",
       "      <th>Latitude</th>\n",
       "      <th>Longitude</th>\n",
       "    </tr>\n",
       "  </thead>\n",
       "  <tbody>\n",
       "    <tr>\n",
       "      <th>0</th>\n",
       "      <td>206892169</td>\n",
       "      <td>12/31/2019</td>\n",
       "      <td>907.0</td>\n",
       "      <td>IMPAIRED DRIVING,DRUG</td>\n",
       "      <td>347.0</td>\n",
       "      <td>INTOXICATED &amp; IMPAIRED DRIVING</td>\n",
       "      <td>VTL11920U4</td>\n",
       "      <td>M</td>\n",
       "      <td>M</td>\n",
       "      <td>33</td>\n",
       "      <td>0</td>\n",
       "      <td>25-44</td>\n",
       "      <td>M</td>\n",
       "      <td>WHITE</td>\n",
       "      <td>1000916</td>\n",
       "      <td>245710</td>\n",
       "      <td>40.841085</td>\n",
       "      <td>-73.939769</td>\n",
       "    </tr>\n",
       "    <tr>\n",
       "      <th>1</th>\n",
       "      <td>206888084</td>\n",
       "      <td>12/31/2019</td>\n",
       "      <td>739.0</td>\n",
       "      <td>FRAUD,UNCLASSIFIED-FELONY</td>\n",
       "      <td>112.0</td>\n",
       "      <td>THEFT-FRAUD</td>\n",
       "      <td>PL 1908301</td>\n",
       "      <td>F</td>\n",
       "      <td>Q</td>\n",
       "      <td>101</td>\n",
       "      <td>0</td>\n",
       "      <td>25-44</td>\n",
       "      <td>M</td>\n",
       "      <td>BLACK HISPANIC</td>\n",
       "      <td>1055868</td>\n",
       "      <td>156522</td>\n",
       "      <td>40.596012</td>\n",
       "      <td>-73.742116</td>\n",
       "    </tr>\n",
       "    <tr>\n",
       "      <th>2</th>\n",
       "      <td>206890433</td>\n",
       "      <td>12/31/2019</td>\n",
       "      <td>122.0</td>\n",
       "      <td>HOMICIDE, NEGLIGENT, VEHICLE,</td>\n",
       "      <td>102.0</td>\n",
       "      <td>HOMICIDE-NEGLIGENT-VEHICLE</td>\n",
       "      <td>PL 1251201</td>\n",
       "      <td>F</td>\n",
       "      <td>M</td>\n",
       "      <td>23</td>\n",
       "      <td>0</td>\n",
       "      <td>18-24</td>\n",
       "      <td>M</td>\n",
       "      <td>BLACK</td>\n",
       "      <td>997462</td>\n",
       "      <td>227024</td>\n",
       "      <td>40.789803</td>\n",
       "      <td>-73.952289</td>\n",
       "    </tr>\n",
       "    <tr>\n",
       "      <th>3</th>\n",
       "      <td>206890441</td>\n",
       "      <td>12/31/2019</td>\n",
       "      <td>268.0</td>\n",
       "      <td>CRIMINAL MIS 2 &amp; 3</td>\n",
       "      <td>121.0</td>\n",
       "      <td>CRIMINAL MISCHIEF &amp; RELATED OF</td>\n",
       "      <td>PL 1450502</td>\n",
       "      <td>F</td>\n",
       "      <td>S</td>\n",
       "      <td>120</td>\n",
       "      <td>0</td>\n",
       "      <td>18-24</td>\n",
       "      <td>M</td>\n",
       "      <td>BLACK</td>\n",
       "      <td>962822</td>\n",
       "      <td>174282</td>\n",
       "      <td>40.645023</td>\n",
       "      <td>-74.077217</td>\n",
       "    </tr>\n",
       "    <tr>\n",
       "      <th>4</th>\n",
       "      <td>206890973</td>\n",
       "      <td>12/31/2019</td>\n",
       "      <td>101.0</td>\n",
       "      <td>ASSAULT 3</td>\n",
       "      <td>344.0</td>\n",
       "      <td>ASSAULT 3 &amp; RELATED OFFENSES</td>\n",
       "      <td>PL 1200001</td>\n",
       "      <td>M</td>\n",
       "      <td>M</td>\n",
       "      <td>25</td>\n",
       "      <td>97</td>\n",
       "      <td>25-44</td>\n",
       "      <td>M</td>\n",
       "      <td>BLACK</td>\n",
       "      <td>1004138</td>\n",
       "      <td>226326</td>\n",
       "      <td>40.787875</td>\n",
       "      <td>-73.928182</td>\n",
       "    </tr>\n",
       "  </tbody>\n",
       "</table>\n",
       "</div>"
      ],
      "text/plain": [
       "   ARREST_KEY ARREST_DATE  PD_CD                        PD_DESC  KY_CD  \\\n",
       "0   206892169  12/31/2019  907.0          IMPAIRED DRIVING,DRUG  347.0   \n",
       "1   206888084  12/31/2019  739.0      FRAUD,UNCLASSIFIED-FELONY  112.0   \n",
       "2   206890433  12/31/2019  122.0  HOMICIDE, NEGLIGENT, VEHICLE,  102.0   \n",
       "3   206890441  12/31/2019  268.0             CRIMINAL MIS 2 & 3  121.0   \n",
       "4   206890973  12/31/2019  101.0                      ASSAULT 3  344.0   \n",
       "\n",
       "                        OFNS_DESC    LAW_CODE LAW_CAT_CD ARREST_BORO  \\\n",
       "0  INTOXICATED & IMPAIRED DRIVING  VTL11920U4          M           M   \n",
       "1                     THEFT-FRAUD  PL 1908301          F           Q   \n",
       "2      HOMICIDE-NEGLIGENT-VEHICLE  PL 1251201          F           M   \n",
       "3  CRIMINAL MISCHIEF & RELATED OF  PL 1450502          F           S   \n",
       "4    ASSAULT 3 & RELATED OFFENSES  PL 1200001          M           M   \n",
       "\n",
       "   ARREST_PRECINCT  JURISDICTION_CODE AGE_GROUP PERP_SEX       PERP_RACE  \\\n",
       "0               33                  0     25-44        M           WHITE   \n",
       "1              101                  0     25-44        M  BLACK HISPANIC   \n",
       "2               23                  0     18-24        M           BLACK   \n",
       "3              120                  0     18-24        M           BLACK   \n",
       "4               25                 97     25-44        M           BLACK   \n",
       "\n",
       "   X_COORD_CD  Y_COORD_CD   Latitude  Longitude  \n",
       "0     1000916      245710  40.841085 -73.939769  \n",
       "1     1055868      156522  40.596012 -73.742116  \n",
       "2      997462      227024  40.789803 -73.952289  \n",
       "3      962822      174282  40.645023 -74.077217  \n",
       "4     1004138      226326  40.787875 -73.928182  "
      ]
     },
     "execution_count": 11,
     "metadata": {},
     "output_type": "execute_result"
    }
   ],
   "source": [
    "nyp_arrest_data.head()"
   ]
  },
  {
   "cell_type": "code",
   "execution_count": 12,
   "metadata": {},
   "outputs": [
    {
     "name": "stdout",
     "output_type": "stream",
     "text": [
      "<class 'pandas.core.frame.DataFrame'>\n",
      "RangeIndex: 214617 entries, 0 to 214616\n",
      "Data columns (total 18 columns):\n",
      "ARREST_KEY           214617 non-null int64\n",
      "ARREST_DATE          214617 non-null object\n",
      "PD_CD                214576 non-null float64\n",
      "PD_DESC              214458 non-null object\n",
      "KY_CD                214458 non-null float64\n",
      "OFNS_DESC            214458 non-null object\n",
      "LAW_CODE             214617 non-null object\n",
      "LAW_CAT_CD           213248 non-null object\n",
      "ARREST_BORO          214617 non-null object\n",
      "ARREST_PRECINCT      214617 non-null int64\n",
      "JURISDICTION_CODE    214617 non-null int64\n",
      "AGE_GROUP            214617 non-null object\n",
      "PERP_SEX             214617 non-null object\n",
      "PERP_RACE            214617 non-null object\n",
      "X_COORD_CD           214617 non-null int64\n",
      "Y_COORD_CD           214617 non-null int64\n",
      "Latitude             214617 non-null float64\n",
      "Longitude            214617 non-null float64\n",
      "dtypes: float64(4), int64(5), object(9)\n",
      "memory usage: 29.5+ MB\n",
      "None\n"
     ]
    }
   ],
   "source": [
    "# inspect the data type\n",
    "print(nyp_arrest_data.info())"
   ]
  },
  {
   "cell_type": "code",
   "execution_count": 18,
   "metadata": {},
   "outputs": [],
   "source": [
    "# convert arrest date to a date type\n",
    "nyp_arrest_data.ARREST_DATE = pd.to_datetime(nyp_arrest_data.ARREST_DATE)"
   ]
  },
  {
   "cell_type": "code",
   "execution_count": 19,
   "metadata": {},
   "outputs": [
    {
     "data": {
      "text/plain": [
       "<matplotlib.axes._subplots.AxesSubplot at 0x1b18f5aa438>"
      ]
     },
     "execution_count": 19,
     "metadata": {},
     "output_type": "execute_result"
    },
    {
     "data": {
      "image/png": "[encoded data removed]",
      "text/plain": [
       "<matplotlib.figure.Figure at 0x1b18f515588>"
      ]
     },
     "metadata": {},
     "output_type": "display_data"
    }
   ],
   "source": [
    "# plot the number of arrest by month\n",
    "nyp_arrest_data[[\"ARREST_DATE\"]].groupby(nyp_arrest_data[\"ARREST_DATE\"].dt.month).count().plot(kind=\"bar\")"
   ]
  },
  {
   "cell_type": "markdown",
   "metadata": {},
   "source": [
    "The highest number of arrest happened in January and the least in December."
   ]
  },
  {
   "cell_type": "code",
   "execution_count": 20,
   "metadata": {},
   "outputs": [
    {
     "data": {
      "text/plain": [
       "<matplotlib.axes._subplots.AxesSubplot at 0x1b18f5d5da0>"
      ]
     },
     "execution_count": 20,
     "metadata": {},
     "output_type": "execute_result"
    },
    {
     "data": {
      "image/png": "[encoded data removed]",
      "text/plain": [
       "<matplotlib.figure.Figure at 0x1b18f5775f8>"
      ]
     },
     "metadata": {},
     "output_type": "display_data"
    }
   ],
   "source": [
    "nyp_arrest_data[[\"ARREST_BORO\"]].groupby(nyp_arrest_data[\"ARREST_BORO\"]).count().plot(kind=\"bar\")"
   ]
  },
  {
   "cell_type": "code",
   "execution_count": 16,
   "metadata": {},
   "outputs": [
    {
     "data": {
      "text/plain": [
       "<matplotlib.axes._subplots.AxesSubplot at 0x1b18f4e5cf8>"
      ]
     },
     "execution_count": 16,
     "metadata": {},
     "output_type": "execute_result"
    },
    {
     "data": {
      "image/png": "[encoded data removed]",
      "text/plain": [
       "<matplotlib.figure.Figure at 0x1b18f4978d0>"
      ]
     },
     "metadata": {},
     "output_type": "display_data"
    }
   ],
   "source": [
    "nyp_arrest_data[[\"PERP_SEX\"]].groupby(nyp_arrest_data[\"PERP_SEX\"]).count().plot(kind=\"bar\")"
   ]
  },
  {
   "cell_type": "code",
   "execution_count": 17,
   "metadata": {},
   "outputs": [
    {
     "data": {
      "text/plain": [
       "<matplotlib.axes._subplots.AxesSubplot at 0x1b18f532208>"
      ]
     },
     "execution_count": 17,
     "metadata": {},
     "output_type": "execute_result"
    },
    {
     "data": {
      "image/png": "[encoded data removed]",
      "text/plain": [
       "<matplotlib.figure.Figure at 0x1b18f1d92b0>"
      ]
     },
     "metadata": {},
     "output_type": "display_data"
    }
   ],
   "source": [
    "nyp_arrest_data[\"PERP_RACE\"].groupby(nyp_arrest_data[\"PERP_RACE\"]).count().plot(kind=\"bar\")"
   ]
  },
  {
   "cell_type": "code",
   "execution_count": 24,
   "metadata": {},
   "outputs": [
    {
     "data": {
      "text/plain": [
       "<matplotlib.axes._subplots.AxesSubplot at 0x1b1909025c0>"
      ]
     },
     "execution_count": 24,
     "metadata": {},
     "output_type": "execute_result"
    },
    {
     "data": {
      "image/png": "[encoded data removed]",
      "text/plain": [
       "<matplotlib.figure.Figure at 0x1b1909028d0>"
      ]
     },
     "metadata": {},
     "output_type": "display_data"
    }
   ],
   "source": [
    "nyp_arrest_data[\"AGE_GROUP\"].groupby(nyp_arrest_data[\"AGE_GROUP\"]).count().plot(kind=\"bar\")"
   ]
  },
  {
   "cell_type": "code",
   "execution_count": null,
   "metadata": {},
   "outputs": [],
   "source": []
  }
 ],
 "metadata": {
  "kernelspec": {
   "display_name": "Python 3",
   "language": "python",
   "name": "python3"
  },
  "language_info": {
   "codemirror_mode": {
    "name": "ipython",
    "version": 3
   },
   "file_extension": ".py",
   "mimetype": "text/x-python",
   "name": "python",
   "nbconvert_exporter": "python",
   "pygments_lexer": "ipython3",
   "version": "3.6.4"
  }
 },
 "nbformat": 4,
 "nbformat_minor": 1
}