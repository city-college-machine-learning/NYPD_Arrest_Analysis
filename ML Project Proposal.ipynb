{
 "cells": [
  {
   "cell_type": "markdown",
   "metadata": {},
   "source": [
    "\n",
    "<!DOCTYPE html>\n",
    "<html>\n",
    "<head>\n",
    "<style>\n",
    ".center {\n",
    "  text-align: center;\n",
    "  color: red;\n",
    "}\n",
    "</style>\n",
    "</head>\n",
    "<body>\n",
    "\n",
    "<h1 class=\"center\">New York Police Department Arrest data</h1>\n",
    "\n",
    "</body>\n",
    "</html>\n",
    "\n",
    "\n",
    "\n",
    "<img src= \"crime.jpg\" style=\"width: 600px;height:400px\"/>\n",
    "\n",
    "\n",
    "\n",
    "\n",
    "\n",
    "Group members : Natasha Arokium\n",
    "\n",
    "                (add names here)\n",
    "\n",
    "\n",
    "\n",
    "\n",
    "Introduction\n",
    "\n",
    "\n",
    "\n",
    "According to the USAtoday article \"Dangerous States: Which States have the highest rates of violent Crime and most murder\", Jan, 13th, 2020, New York City ranks #25 in the United States. Since we all reside in New York City, and safety is a need and concern for all, we thought it would be quite useful, impactful and fundamental to to delve into the Data as upcoming Data Scientist to get a better understanding of which neigborhoods are less safe and what are some of the factors contributing to that. For this reason we have chosen to analyse the New York Police Deparment's Citywide crime Statistics for the year 2019. This dataset varies from the types of offences, age of the offenders, race of the offenders, Borough where the crimes were committed amoung other very pertenant and relevant information for analysis. While investigating the data for unsafe borough, we will also be examining and trying to find answers to the questions, who, why, how, and where.\n",
    "\n",
    "Since this is an Application Project, we will investigate the data thorougly in an attempt to gain an indepth understanding of the causes and effects of our topic.  Below are some of the analystics questions that will be researched.\n",
    "\n",
    "\n",
    "1. Which Borough had the most violent offences in 2019\n",
    "\n",
    "2. Which Season of the year did we have the most Offences\n",
    "\n",
    "3. Which Borough had the most murders\n",
    "\n",
    "4. which Borough had the most offences\n",
    "\n",
    "5. Which ethnic group was responsible for those offences, broken down by the different types of offence(murder, burglary, sexual    abuse etc.)\n",
    "\n",
    "6. what crimes did repeat offenders commit? was it the same offense, or different offences\n",
    "\n",
    "7. The age group and sex of the offenders\n",
    "\n",
    "8. Which month is there an icrease in offences\n",
    "\n",
    "9. which Precincts tend to have more complaints and their geographic Locations\n",
    "\n",
    "\n",
    "In addition to cleaning and preparing for the Exploratory Data Analysis, using both correlation methods, and visualization tools to show relationships, statistics and to help us find answers, we will also utilize Machine Learning techniques, like clustering and classifications. For our clustering unsupervised learning algoritm we will look at Kmeans and for the classification supervised learning algoritm we will use an ensemble of Logistic regression, Decision tree, and KNN to train our model to make a prediction on which Borough will have most likely have the most violent crime in 2020 if factors or Situations do not change.\n",
    "\n",
    "\n"
   ]
  },
  {
   "cell_type": "markdown",
   "metadata": {},
   "source": [
    "Guys, i looked at the data and started working on the first draft of our proposal as shown above. The instructions on how to write it is on blackboard HW3, question 5. Please continue to contribute and make edits where necessary. Professor is asking for 500- 1000 words, using the format below, which i have alread started working on. \n",
    "\n",
    "1. Motivation: What problem are you tackling? Is this an application or a theoretical result?\n",
    "2. Method: What machine learning techniques are you planning to apply or improve upon?\n",
    "3. Intended experiments: What experiments are you planning to run? How do you plan to evaluate your machine learning algorithm?\n",
    "\n",
    "Two of the possible machine learning questions that i came up with as suggested by Kobe are\n",
    "\n",
    "1. which borough is predicted to have the most violent crime in 2020 if factors do not change \n",
    "2. Which ethnicity is likely to commit murder\n",
    "\n",
    "As soon as we can agree on the final draft of the proposal, i will start working on uploading, cleaning and doing some visualizing. "
   ]
  },
  {
   "cell_type": "markdown",
   "metadata": {},
   "source": []
  }
 ],
 "metadata": {
  "kernelspec": {
   "display_name": "Python 3",
   "language": "python",
   "name": "python3"
  },
  "language_info": {
   "codemirror_mode": {
    "name": "ipython",
    "version": 3
   },
   "file_extension": ".py",
   "mimetype": "text/x-python",
   "name": "python",
   "nbconvert_exporter": "python",
   "pygments_lexer": "ipython3",
   "version": "3.7.6"
  }
 },
 "nbformat": 4,
 "nbformat_minor": 4
}
