{
 "cells": [
  {
   "cell_type": "code",
   "execution_count": 1,
   "metadata": {
    "collapsed": true
   },
   "outputs": [],
   "source": [
    "import numpy as np\n",
    "import matplotlib.pyplot as plt\n",
    "import seaborn as sns\n",
    "import pandas as pd\n",
    "%matplotlib inline"
   ]
  },
  {
   "cell_type": "code",
   "execution_count": 2,
   "metadata": {
    "collapsed": true
   },
   "outputs": [],
   "source": [
    "data = pd.read_csv('nypd_arrest.csv')"
   ]
  },
  {
   "cell_type": "code",
   "execution_count": 3,
   "metadata": {
    "collapsed": false,
    "scrolled": true
   },
   "outputs": [
    {
     "data": {
      "text/html": [
       "<div>\n",
       "<table border=\"1\" class=\"dataframe\">\n",
       "  <thead>\n",
       "    <tr style=\"text-align: right;\">\n",
       "      <th></th>\n",
       "      <th>ARREST_KEY</th>\n",
       "      <th>ARREST_DATE</th>\n",
       "      <th>PD_CD</th>\n",
       "      <th>PD_DESC</th>\n",
       "      <th>KY_CD</th>\n",
       "      <th>OFNS_DESC</th>\n",
       "      <th>LAW_CODE</th>\n",
       "      <th>LAW_CAT_CD</th>\n",
       "      <th>ARREST_BORO</th>\n",
       "      <th>ARREST_PRECINCT</th>\n",
       "      <th>JURISDICTION_CODE</th>\n",
       "      <th>AGE_GROUP</th>\n",
       "      <th>PERP_SEX</th>\n",
       "      <th>PERP_RACE</th>\n",
       "      <th>X_COORD_CD</th>\n",
       "      <th>Y_COORD_CD</th>\n",
       "      <th>Latitude</th>\n",
       "      <th>Longitude</th>\n",
       "    </tr>\n",
       "  </thead>\n",
       "  <tbody>\n",
       "    <tr>\n",
       "      <th>0</th>\n",
       "      <td>206892169</td>\n",
       "      <td>12/31/2019</td>\n",
       "      <td>907.0</td>\n",
       "      <td>IMPAIRED DRIVING,DRUG</td>\n",
       "      <td>347.0</td>\n",
       "      <td>INTOXICATED &amp; IMPAIRED DRIVING</td>\n",
       "      <td>VTL11920U4</td>\n",
       "      <td>M</td>\n",
       "      <td>M</td>\n",
       "      <td>33</td>\n",
       "      <td>0</td>\n",
       "      <td>25-44</td>\n",
       "      <td>M</td>\n",
       "      <td>WHITE</td>\n",
       "      <td>1000916</td>\n",
       "      <td>245710</td>\n",
       "      <td>40.841085</td>\n",
       "      <td>-73.939769</td>\n",
       "    </tr>\n",
       "    <tr>\n",
       "      <th>1</th>\n",
       "      <td>206888084</td>\n",
       "      <td>12/31/2019</td>\n",
       "      <td>739.0</td>\n",
       "      <td>FRAUD,UNCLASSIFIED-FELONY</td>\n",
       "      <td>112.0</td>\n",
       "      <td>THEFT-FRAUD</td>\n",
       "      <td>PL 1908301</td>\n",
       "      <td>F</td>\n",
       "      <td>Q</td>\n",
       "      <td>101</td>\n",
       "      <td>0</td>\n",
       "      <td>25-44</td>\n",
       "      <td>M</td>\n",
       "      <td>BLACK HISPANIC</td>\n",
       "      <td>1055868</td>\n",
       "      <td>156522</td>\n",
       "      <td>40.596012</td>\n",
       "      <td>-73.742116</td>\n",
       "    </tr>\n",
       "    <tr>\n",
       "      <th>2</th>\n",
       "      <td>206890433</td>\n",
       "      <td>12/31/2019</td>\n",
       "      <td>122.0</td>\n",
       "      <td>HOMICIDE, NEGLIGENT, VEHICLE,</td>\n",
       "      <td>102.0</td>\n",
       "      <td>HOMICIDE-NEGLIGENT-VEHICLE</td>\n",
       "      <td>PL 1251201</td>\n",
       "      <td>F</td>\n",
       "      <td>M</td>\n",
       "      <td>23</td>\n",
       "      <td>0</td>\n",
       "      <td>18-24</td>\n",
       "      <td>M</td>\n",
       "      <td>BLACK</td>\n",
       "      <td>997462</td>\n",
       "      <td>227024</td>\n",
       "      <td>40.789803</td>\n",
       "      <td>-73.952289</td>\n",
       "    </tr>\n",
       "    <tr>\n",
       "      <th>3</th>\n",
       "      <td>206890441</td>\n",
       "      <td>12/31/2019</td>\n",
       "      <td>268.0</td>\n",
       "      <td>CRIMINAL MIS 2 &amp; 3</td>\n",
       "      <td>121.0</td>\n",
       "      <td>CRIMINAL MISCHIEF &amp; RELATED OF</td>\n",
       "      <td>PL 1450502</td>\n",
       "      <td>F</td>\n",
       "      <td>S</td>\n",
       "      <td>120</td>\n",
       "      <td>0</td>\n",
       "      <td>18-24</td>\n",
       "      <td>M</td>\n",
       "      <td>BLACK</td>\n",
       "      <td>962822</td>\n",
       "      <td>174282</td>\n",
       "      <td>40.645023</td>\n",
       "      <td>-74.077217</td>\n",
       "    </tr>\n",
       "    <tr>\n",
       "      <th>4</th>\n",
       "      <td>206890973</td>\n",
       "      <td>12/31/2019</td>\n",
       "      <td>101.0</td>\n",
       "      <td>ASSAULT 3</td>\n",
       "      <td>344.0</td>\n",
       "      <td>ASSAULT 3 &amp; RELATED OFFENSES</td>\n",
       "      <td>PL 1200001</td>\n",
       "      <td>M</td>\n",
       "      <td>M</td>\n",
       "      <td>25</td>\n",
       "      <td>97</td>\n",
       "      <td>25-44</td>\n",
       "      <td>M</td>\n",
       "      <td>BLACK</td>\n",
       "      <td>1004138</td>\n",
       "      <td>226326</td>\n",
       "      <td>40.787875</td>\n",
       "      <td>-73.928182</td>\n",
       "    </tr>\n",
       "  </tbody>\n",
       "</table>\n",
       "</div>"
      ],
      "text/plain": [
       "   ARREST_KEY ARREST_DATE  PD_CD                        PD_DESC  KY_CD  \\\n",
       "0   206892169  12/31/2019  907.0          IMPAIRED DRIVING,DRUG  347.0   \n",
       "1   206888084  12/31/2019  739.0      FRAUD,UNCLASSIFIED-FELONY  112.0   \n",
       "2   206890433  12/31/2019  122.0  HOMICIDE, NEGLIGENT, VEHICLE,  102.0   \n",
       "3   206890441  12/31/2019  268.0             CRIMINAL MIS 2 & 3  121.0   \n",
       "4   206890973  12/31/2019  101.0                      ASSAULT 3  344.0   \n",
       "\n",
       "                        OFNS_DESC    LAW_CODE LAW_CAT_CD ARREST_BORO  \\\n",
       "0  INTOXICATED & IMPAIRED DRIVING  VTL11920U4          M           M   \n",
       "1                     THEFT-FRAUD  PL 1908301          F           Q   \n",
       "2      HOMICIDE-NEGLIGENT-VEHICLE  PL 1251201          F           M   \n",
       "3  CRIMINAL MISCHIEF & RELATED OF  PL 1450502          F           S   \n",
       "4    ASSAULT 3 & RELATED OFFENSES  PL 1200001          M           M   \n",
       "\n",
       "   ARREST_PRECINCT  JURISDICTION_CODE AGE_GROUP PERP_SEX       PERP_RACE  \\\n",
       "0               33                  0     25-44        M           WHITE   \n",
       "1              101                  0     25-44        M  BLACK HISPANIC   \n",
       "2               23                  0     18-24        M           BLACK   \n",
       "3              120                  0     18-24        M           BLACK   \n",
       "4               25                 97     25-44        M           BLACK   \n",
       "\n",
       "   X_COORD_CD  Y_COORD_CD   Latitude  Longitude  \n",
       "0     1000916      245710  40.841085 -73.939769  \n",
       "1     1055868      156522  40.596012 -73.742116  \n",
       "2      997462      227024  40.789803 -73.952289  \n",
       "3      962822      174282  40.645023 -74.077217  \n",
       "4     1004138      226326  40.787875 -73.928182  "
      ]
     },
     "execution_count": 3,
     "metadata": {},
     "output_type": "execute_result"
    }
   ],
   "source": [
    "data.head()"
   ]
  },
  {
   "cell_type": "code",
   "execution_count": 4,
   "metadata": {
    "collapsed": false
   },
   "outputs": [],
   "source": [
    "data.drop(['ARREST_KEY', 'PD_CD', 'KY_CD', 'LAW_CODE', ], axis=1, inplace=True)"
   ]
  },
  {
   "cell_type": "code",
   "execution_count": 5,
   "metadata": {
    "collapsed": true
   },
   "outputs": [],
   "source": [
    "data.dropna(inplace=True)"
   ]
  },
  {
   "cell_type": "code",
   "execution_count": 6,
   "metadata": {
    "collapsed": false
   },
   "outputs": [
    {
     "name": "stdout",
     "output_type": "stream",
     "text": [
      "<class 'pandas.core.frame.DataFrame'>\n",
      "Int64Index: 213089 entries, 0 to 214616\n",
      "Data columns (total 14 columns):\n",
      "ARREST_DATE          213089 non-null object\n",
      "PD_DESC              213089 non-null object\n",
      "OFNS_DESC            213089 non-null object\n",
      "LAW_CAT_CD           213089 non-null object\n",
      "ARREST_BORO          213089 non-null object\n",
      "ARREST_PRECINCT      213089 non-null int64\n",
      "JURISDICTION_CODE    213089 non-null int64\n",
      "AGE_GROUP            213089 non-null object\n",
      "PERP_SEX             213089 non-null object\n",
      "PERP_RACE            213089 non-null object\n",
      "X_COORD_CD           213089 non-null int64\n",
      "Y_COORD_CD           213089 non-null int64\n",
      "Latitude             213089 non-null float64\n",
      "Longitude            213089 non-null float64\n",
      "dtypes: float64(2), int64(4), object(8)\n",
      "memory usage: 24.4+ MB\n"
     ]
    }
   ],
   "source": [
    "data.info()"
   ]
  },
  {
   "cell_type": "code",
   "execution_count": 8,
   "metadata": {
    "collapsed": true
   },
   "outputs": [],
   "source": [
    "data.rename(columns={'PD_DESC':'offenses', 'LAW_CAT_CD':'offense_type'}, inplace=True)"
   ]
  },
  {
   "cell_type": "code",
   "execution_count": 7,
   "metadata": {
    "collapsed": false
   },
   "outputs": [],
   "source": [
    "#data.PERP_RACE.value_counts(normalize=True).mul(100).round(2).astype(str) + ' %'"
   ]
  },
  {
   "cell_type": "code",
   "execution_count": 9,
   "metadata": {
    "collapsed": false
   },
   "outputs": [],
   "source": [
    "#data.ARREST_BORO.value_counts()"
   ]
  },
  {
   "cell_type": "code",
   "execution_count": 10,
   "metadata": {
    "collapsed": false
   },
   "outputs": [],
   "source": [
    "#data.PD_DESC.value_counts()[:10]"
   ]
  },
  {
   "cell_type": "code",
   "execution_count": 11,
   "metadata": {
    "collapsed": false
   },
   "outputs": [],
   "source": [
    "#data.ARREST_PRECINCT.value_counts()[:20]"
   ]
  },
  {
   "cell_type": "code",
   "execution_count": 13,
   "metadata": {
    "collapsed": false
   },
   "outputs": [],
   "source": [
    "from sklearn.preprocessing import LabelEncoder"
   ]
  },
  {
   "cell_type": "code",
   "execution_count": 12,
   "metadata": {
    "collapsed": false
   },
   "outputs": [],
   "source": [
    "X = data[['offenses', 'offense_type', 'ARREST_BORO', 'AGE_GROUP']].values"
   ]
  },
  {
   "cell_type": "code",
   "execution_count": 14,
   "metadata": {
    "collapsed": false
   },
   "outputs": [],
   "source": [
    "lab_enc = LabelEncoder()\n",
    "X[:,1] = lab_enc.fit_transform(X[:,1])\n",
    "X[:,2] = lab_enc.fit_transform(X[:,2])\n",
    "X[:,3] = lab_enc.fit_transform(X[:,3])"
   ]
  },
  {
   "cell_type": "code",
   "execution_count": 15,
   "metadata": {
    "collapsed": false
   },
   "outputs": [],
   "source": [
    "X[:,0] = lab_enc.fit_transform(X[:,0])"
   ]
  },
  {
   "cell_type": "code",
   "execution_count": 16,
   "metadata": {
    "collapsed": false
   },
   "outputs": [
    {
     "name": "stderr",
     "output_type": "stream",
     "text": [
      "C:\\ProgramData\\Anaconda3\\lib\\site-packages\\sklearn\\preprocessing\\label.py:129: DataConversionWarning: A column-vector y was passed when a 1d array was expected. Please change the shape of y to (n_samples, ), for example using ravel().\n",
      "  y = column_or_1d(y, warn=True)\n"
     ]
    }
   ],
   "source": [
    "y = lab_enc.fit_transform(data[['PERP_RACE']].values)"
   ]
  },
  {
   "cell_type": "code",
   "execution_count": null,
   "metadata": {
    "collapsed": false
   },
   "outputs": [],
   "source": []
  },
  {
   "cell_type": "code",
   "execution_count": 18,
   "metadata": {
    "collapsed": false
   },
   "outputs": [],
   "source": [
    "from sklearn.model_selection import train_test_split\n",
    "from sklearn.linear_model import LogisticRegression\n",
    "from sklearn.metrics import accuracy_score\n",
    "\n",
    "X_train_all, X_test, y_train_all, y_test = train_test_split( X, y, test_size=0.2, random_state=42)"
   ]
  },
  {
   "cell_type": "code",
   "execution_count": 33,
   "metadata": {
    "collapsed": false
   },
   "outputs": [
    {
     "name": "stdout",
     "output_type": "stream",
     "text": [
      "training accuracy:  0.47591951663\n"
     ]
    }
   ],
   "source": [
    "X_train, X_val, y_train, y_val = train_test_split( X_train_all, y_train_all, test_size=0.2, random_state=42)\n",
    "\n",
    "log = LogisticRegression(solver='lbfgs', multi_class='multinomial')\n",
    "log.fit(X_train, y_train)\n",
    "y_pred = log.predict(X_train)\n",
    "print('training accuracy: ', accuracy_score(y_train, y_pred))"
   ]
  },
  {
   "cell_type": "code",
   "execution_count": 36,
   "metadata": {
    "collapsed": false
   },
   "outputs": [
    {
     "name": "stdout",
     "output_type": "stream",
     "text": [
      "Logistic Validation accuracy:  0.47942513565\n"
     ]
    }
   ],
   "source": [
    "log_y_pred_val = log.predict(X_val)\n",
    "print('Logistic Validation accuracy: ', accuracy_score(y_val, log_y_pred_val))"
   ]
  },
  {
   "cell_type": "code",
   "execution_count": null,
   "metadata": {
    "collapsed": true
   },
   "outputs": [],
   "source": []
  },
  {
   "cell_type": "code",
   "execution_count": 37,
   "metadata": {
    "collapsed": false
   },
   "outputs": [
    {
     "name": "stdout",
     "output_type": "stream",
     "text": [
      "knn training accuracy:  0.443318472458\n"
     ]
    }
   ],
   "source": [
    "from sklearn.neighbors import KNeighborsClassifier\n",
    "\n",
    "knn = KNeighborsClassifier(n_neighbors=5)\n",
    "knn.fit(X_train, y_train)\n",
    "y_pred_knn = knn.predict(X_train)\n",
    "print('knn training accuracy: ', accuracy_score(y_train, y_pred_knn))"
   ]
  },
  {
   "cell_type": "code",
   "execution_count": 38,
   "metadata": {
    "collapsed": false
   },
   "outputs": [
    {
     "name": "stdout",
     "output_type": "stream",
     "text": [
      "knn validaton accuracy:  0.435078457252\n"
     ]
    }
   ],
   "source": [
    "y_pred_knn = knn.predict(X_val)\n",
    "print('knn validaton accuracy: ', accuracy_score(y_val, y_pred_knn))"
   ]
  },
  {
   "cell_type": "code",
   "execution_count": null,
   "metadata": {
    "collapsed": true
   },
   "outputs": [],
   "source": []
  },
  {
   "cell_type": "code",
   "execution_count": 39,
   "metadata": {
    "collapsed": false
   },
   "outputs": [
    {
     "name": "stdout",
     "output_type": "stream",
     "text": [
      "svc training accuracy:  0.477613363055\n"
     ]
    }
   ],
   "source": [
    "from sklearn.svm import LinearSVC\n",
    "\n",
    "svc = LinearSVC(C=10)\n",
    "svc.fit(X_train, y_train)\n",
    "y_pred_svc = svc.predict(X_train)\n",
    "print('svc training accuracy: ', accuracy_score(y_train, y_pred_svc))"
   ]
  },
  {
   "cell_type": "code",
   "execution_count": 40,
   "metadata": {
    "collapsed": false
   },
   "outputs": [
    {
     "name": "stdout",
     "output_type": "stream",
     "text": [
      "svc validation accuracy:  0.481067605221\n"
     ]
    }
   ],
   "source": [
    "y_pred_svc_val = svc.predict(X_val)\n",
    "print('svc validation accuracy: ', accuracy_score(y_val, y_pred_svc_val))"
   ]
  },
  {
   "cell_type": "code",
   "execution_count": null,
   "metadata": {
    "collapsed": true
   },
   "outputs": [],
   "source": []
  },
  {
   "cell_type": "code",
   "execution_count": 41,
   "metadata": {
    "collapsed": false
   },
   "outputs": [
    {
     "name": "stdout",
     "output_type": "stream",
     "text": [
      "Random forest training accuracy:  0.505008212589\n"
     ]
    }
   ],
   "source": [
    "from sklearn.ensemble import RandomForestClassifier\n",
    "\n",
    "rfc = RandomForestClassifier()\n",
    "rfc.fit(X_train, y_train)\n",
    "y_pred_rfc = rfc.predict(X_train)\n",
    "print('Random forest training accuracy: ', accuracy_score(y_train, y_pred_rfc))"
   ]
  },
  {
   "cell_type": "code",
   "execution_count": 42,
   "metadata": {
    "collapsed": false
   },
   "outputs": [
    {
     "name": "stdout",
     "output_type": "stream",
     "text": [
      "Random forest validation accuracy:  0.489925208975\n"
     ]
    }
   ],
   "source": [
    "y_pred_rfc_val = rfc.predict(X_val)\n",
    "print('Random forest validation accuracy: ', accuracy_score(y_val, y_pred_rfc_val))"
   ]
  },
  {
   "cell_type": "code",
   "execution_count": null,
   "metadata": {
    "collapsed": true
   },
   "outputs": [],
   "source": []
  }
 ],
 "metadata": {
  "kernelspec": {
   "display_name": "Python 3",
   "language": "python",
   "name": "python3"
  },
  "language_info": {
   "codemirror_mode": {
    "name": "ipython",
    "version": 3
   },
   "file_extension": ".py",
   "mimetype": "text/x-python",
   "name": "python",
   "nbconvert_exporter": "python",
   "pygments_lexer": "ipython3",
   "version": "3.6.0"
  }
 },
 "nbformat": 4,
 "nbformat_minor": 2
}