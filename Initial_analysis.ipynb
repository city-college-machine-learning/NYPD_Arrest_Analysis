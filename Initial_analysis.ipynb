{
 "cells": [
  {
   "cell_type": "code",
   "execution_count": 1,
   "metadata": {
    "collapsed": true
   },
   "outputs": [],
   "source": [
    "import numpy as np\n",
    "import matplotlib.pyplot as plt\n",
    "import seaborn as sns\n",
    "import pandas as pd\n",
    "%matplotlib inline"
   ]
  },
  {
   "cell_type": "code",
   "execution_count": 2,
   "metadata": {
    "collapsed": true
   },
   "outputs": [],
   "source": [
    "data = pd.read_csv('nypd_arrest.csv')"
   ]
  },
  {
   "cell_type": "code",
   "execution_count": 16,
   "metadata": {
    "collapsed": false
   },
   "outputs": [
    {
     "data": {
      "text/html": [
       "<div>\n",
       "<table border=\"1\" class=\"dataframe\">\n",
       "  <thead>\n",
       "    <tr style=\"text-align: right;\">\n",
       "      <th></th>\n",
       "      <th>ARREST_DATE</th>\n",
       "      <th>PD_DESC</th>\n",
       "      <th>OFNS_DESC</th>\n",
       "      <th>LAW_CAT_CD</th>\n",
       "      <th>ARREST_BORO</th>\n",
       "      <th>ARREST_PRECINCT</th>\n",
       "      <th>JURISDICTION_CODE</th>\n",
       "      <th>AGE_GROUP</th>\n",
       "      <th>PERP_SEX</th>\n",
       "      <th>PERP_RACE</th>\n",
       "      <th>X_COORD_CD</th>\n",
       "      <th>Y_COORD_CD</th>\n",
       "      <th>Latitude</th>\n",
       "      <th>Longitude</th>\n",
       "    </tr>\n",
       "  </thead>\n",
       "  <tbody>\n",
       "    <tr>\n",
       "      <th>0</th>\n",
       "      <td>12/31/2019</td>\n",
       "      <td>IMPAIRED DRIVING,DRUG</td>\n",
       "      <td>INTOXICATED &amp; IMPAIRED DRIVING</td>\n",
       "      <td>M</td>\n",
       "      <td>M</td>\n",
       "      <td>33</td>\n",
       "      <td>0</td>\n",
       "      <td>25-44</td>\n",
       "      <td>M</td>\n",
       "      <td>WHITE</td>\n",
       "      <td>1000916</td>\n",
       "      <td>245710</td>\n",
       "      <td>40.841085</td>\n",
       "      <td>-73.939769</td>\n",
       "    </tr>\n",
       "    <tr>\n",
       "      <th>1</th>\n",
       "      <td>12/31/2019</td>\n",
       "      <td>FRAUD,UNCLASSIFIED-FELONY</td>\n",
       "      <td>THEFT-FRAUD</td>\n",
       "      <td>F</td>\n",
       "      <td>Q</td>\n",
       "      <td>101</td>\n",
       "      <td>0</td>\n",
       "      <td>25-44</td>\n",
       "      <td>M</td>\n",
       "      <td>BLACK HISPANIC</td>\n",
       "      <td>1055868</td>\n",
       "      <td>156522</td>\n",
       "      <td>40.596012</td>\n",
       "      <td>-73.742116</td>\n",
       "    </tr>\n",
       "    <tr>\n",
       "      <th>2</th>\n",
       "      <td>12/31/2019</td>\n",
       "      <td>HOMICIDE, NEGLIGENT, VEHICLE,</td>\n",
       "      <td>HOMICIDE-NEGLIGENT-VEHICLE</td>\n",
       "      <td>F</td>\n",
       "      <td>M</td>\n",
       "      <td>23</td>\n",
       "      <td>0</td>\n",
       "      <td>18-24</td>\n",
       "      <td>M</td>\n",
       "      <td>BLACK</td>\n",
       "      <td>997462</td>\n",
       "      <td>227024</td>\n",
       "      <td>40.789803</td>\n",
       "      <td>-73.952289</td>\n",
       "    </tr>\n",
       "    <tr>\n",
       "      <th>3</th>\n",
       "      <td>12/31/2019</td>\n",
       "      <td>CRIMINAL MIS 2 &amp; 3</td>\n",
       "      <td>CRIMINAL MISCHIEF &amp; RELATED OF</td>\n",
       "      <td>F</td>\n",
       "      <td>S</td>\n",
       "      <td>120</td>\n",
       "      <td>0</td>\n",
       "      <td>18-24</td>\n",
       "      <td>M</td>\n",
       "      <td>BLACK</td>\n",
       "      <td>962822</td>\n",
       "      <td>174282</td>\n",
       "      <td>40.645023</td>\n",
       "      <td>-74.077217</td>\n",
       "    </tr>\n",
       "    <tr>\n",
       "      <th>4</th>\n",
       "      <td>12/31/2019</td>\n",
       "      <td>ASSAULT 3</td>\n",
       "      <td>ASSAULT 3 &amp; RELATED OFFENSES</td>\n",
       "      <td>M</td>\n",
       "      <td>M</td>\n",
       "      <td>25</td>\n",
       "      <td>97</td>\n",
       "      <td>25-44</td>\n",
       "      <td>M</td>\n",
       "      <td>BLACK</td>\n",
       "      <td>1004138</td>\n",
       "      <td>226326</td>\n",
       "      <td>40.787875</td>\n",
       "      <td>-73.928182</td>\n",
       "    </tr>\n",
       "  </tbody>\n",
       "</table>\n",
       "</div>"
      ],
      "text/plain": [
       "  ARREST_DATE                        PD_DESC                       OFNS_DESC  \\\n",
       "0  12/31/2019          IMPAIRED DRIVING,DRUG  INTOXICATED & IMPAIRED DRIVING   \n",
       "1  12/31/2019      FRAUD,UNCLASSIFIED-FELONY                     THEFT-FRAUD   \n",
       "2  12/31/2019  HOMICIDE, NEGLIGENT, VEHICLE,      HOMICIDE-NEGLIGENT-VEHICLE   \n",
       "3  12/31/2019             CRIMINAL MIS 2 & 3  CRIMINAL MISCHIEF & RELATED OF   \n",
       "4  12/31/2019                      ASSAULT 3    ASSAULT 3 & RELATED OFFENSES   \n",
       "\n",
       "  LAW_CAT_CD ARREST_BORO  ARREST_PRECINCT  JURISDICTION_CODE AGE_GROUP  \\\n",
       "0          M           M               33                  0     25-44   \n",
       "1          F           Q              101                  0     25-44   \n",
       "2          F           M               23                  0     18-24   \n",
       "3          F           S              120                  0     18-24   \n",
       "4          M           M               25                 97     25-44   \n",
       "\n",
       "  PERP_SEX       PERP_RACE  X_COORD_CD  Y_COORD_CD   Latitude  Longitude  \n",
       "0        M           WHITE     1000916      245710  40.841085 -73.939769  \n",
       "1        M  BLACK HISPANIC     1055868      156522  40.596012 -73.742116  \n",
       "2        M           BLACK      997462      227024  40.789803 -73.952289  \n",
       "3        M           BLACK      962822      174282  40.645023 -74.077217  \n",
       "4        M           BLACK     1004138      226326  40.787875 -73.928182  "
      ]
     },
     "execution_count": 16,
     "metadata": {},
     "output_type": "execute_result"
    }
   ],
   "source": [
    "data.head()"
   ]
  },
  {
   "cell_type": "code",
   "execution_count": 8,
   "metadata": {
    "collapsed": false
   },
   "outputs": [],
   "source": [
    "data.drop(['ARREST_KEY', 'PD_CD', 'KY_CD', 'LAW_CODE', ], axis=1, inplace=True)"
   ]
  },
  {
   "cell_type": "code",
   "execution_count": 10,
   "metadata": {
    "collapsed": true
   },
   "outputs": [],
   "source": [
    "data.dropna(inplace=True)"
   ]
  },
  {
   "cell_type": "code",
   "execution_count": 11,
   "metadata": {
    "collapsed": false
   },
   "outputs": [
    {
     "name": "stdout",
     "output_type": "stream",
     "text": [
      "<class 'pandas.core.frame.DataFrame'>\n",
      "Int64Index: 213089 entries, 0 to 214616\n",
      "Data columns (total 14 columns):\n",
      "ARREST_DATE          213089 non-null object\n",
      "PD_DESC              213089 non-null object\n",
      "OFNS_DESC            213089 non-null object\n",
      "LAW_CAT_CD           213089 non-null object\n",
      "ARREST_BORO          213089 non-null object\n",
      "ARREST_PRECINCT      213089 non-null int64\n",
      "JURISDICTION_CODE    213089 non-null int64\n",
      "AGE_GROUP            213089 non-null object\n",
      "PERP_SEX             213089 non-null object\n",
      "PERP_RACE            213089 non-null object\n",
      "X_COORD_CD           213089 non-null int64\n",
      "Y_COORD_CD           213089 non-null int64\n",
      "Latitude             213089 non-null float64\n",
      "Longitude            213089 non-null float64\n",
      "dtypes: float64(2), int64(4), object(8)\n",
      "memory usage: 24.4+ MB\n"
     ]
    }
   ],
   "source": [
    "data.info()"
   ]
  },
  {
   "cell_type": "code",
   "execution_count": 30,
   "metadata": {
    "collapsed": false
   },
   "outputs": [
    {
     "data": {
      "text/plain": [
       "BLACK                             47.86 %\n",
       "WHITE HISPANIC                     25.0 %\n",
       "WHITE                             11.87 %\n",
       "BLACK HISPANIC                     8.71 %\n",
       "ASIAN / PACIFIC ISLANDER           5.64 %\n",
       "UNKNOWN                            0.66 %\n",
       "AMERICAN INDIAN/ALASKAN NATIVE     0.28 %\n",
       "Name: PERP_RACE, dtype: object"
      ]
     },
     "execution_count": 30,
     "metadata": {},
     "output_type": "execute_result"
    }
   ],
   "source": [
    "data.PERP_RACE.value_counts(normalize=True).mul(100).round(2).astype(str) + ' %'"
   ]
  },
  {
   "cell_type": "code",
   "execution_count": 37,
   "metadata": {
    "collapsed": false
   },
   "outputs": [
    {
     "data": {
      "text/plain": [
       "K    58077\n",
       "M    53172\n",
       "B    48516\n",
       "Q    44329\n",
       "S     8995\n",
       "Name: ARREST_BORO, dtype: int64"
      ]
     },
     "execution_count": 37,
     "metadata": {},
     "output_type": "execute_result"
    }
   ],
   "source": [
    "data.ARREST_BORO.value_counts()"
   ]
  },
  {
   "cell_type": "code",
   "execution_count": 49,
   "metadata": {
    "collapsed": false
   },
   "outputs": [
    {
     "data": {
      "text/plain": [
       "ASSAULT 3                                    24513\n",
       "LARCENY,PETIT FROM OPEN AREAS,               21568\n",
       "TRAFFIC,UNCLASSIFIED MISDEMEAN               13624\n",
       "ASSAULT 2,1,UNCLASSIFIED                     11498\n",
       "CONTROLLED SUBSTANCE, POSSESSI                9235\n",
       "ROBBERY,OPEN AREA UNCLASSIFIED                9235\n",
       "LARCENY,GRAND FROM OPEN AREAS, UNATTENDED     8628\n",
       "PUBLIC ADMINISTRATION,UNCLASSI                7795\n",
       "INTOXICATED DRIVING,ALCOHOL                   5120\n",
       "FORGERY,ETC.,UNCLASSIFIED-FELO                4708\n",
       "Name: PD_DESC, dtype: int64"
      ]
     },
     "execution_count": 49,
     "metadata": {},
     "output_type": "execute_result"
    }
   ],
   "source": [
    "data.PD_DESC.value_counts()[:10]"
   ]
  },
  {
   "cell_type": "code",
   "execution_count": 53,
   "metadata": {
    "collapsed": false
   },
   "outputs": [
    {
     "data": {
      "text/plain": [
       "40     7077\n",
       "44     6431\n",
       "14     6024\n",
       "75     6010\n",
       "113    5993\n",
       "52     5094\n",
       "46     4684\n",
       "25     4680\n",
       "47     4561\n",
       "73     4401\n",
       "115    4073\n",
       "103    4041\n",
       "67     4031\n",
       "43     3984\n",
       "42     3690\n",
       "120    3683\n",
       "5      3679\n",
       "114    3543\n",
       "48     3538\n",
       "109    3456\n",
       "Name: ARREST_PRECINCT, dtype: int64"
      ]
     },
     "execution_count": 53,
     "metadata": {},
     "output_type": "execute_result"
    }
   ],
   "source": [
    "data.ARREST_PRECINCT.value_counts()[:20]"
   ]
  },
  {
   "cell_type": "code",
   "execution_count": null,
   "metadata": {
    "collapsed": false
   },
   "outputs": [],
   "source": []
  },
  {
   "cell_type": "code",
   "execution_count": null,
   "metadata": {
    "collapsed": true
   },
   "outputs": [],
   "source": []
  }
 ],
 "metadata": {
  "kernelspec": {
   "display_name": "Python 3",
   "language": "python",
   "name": "python3"
  },
  "language_info": {
   "codemirror_mode": {
    "name": "ipython",
    "version": 3
   },
   "file_extension": ".py",
   "mimetype": "text/x-python",
   "name": "python",
   "nbconvert_exporter": "python",
   "pygments_lexer": "ipython3",
   "version": "3.6.0"
  }
 },
 "nbformat": 4,
 "nbformat_minor": 2
}
